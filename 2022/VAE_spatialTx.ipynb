{
 "cells": [
  {
   "cell_type": "code",
   "execution_count": 1,
   "id": "a51c2c33",
   "metadata": {},
   "outputs": [],
   "source": [
    "import torch\n",
    "import torch.nn as nn\n",
    "import torch.nn.functional as F\n",
    "import torchvision\n",
    "from torchvision import transforms\n",
    "from torchvision.utils import save_image\n",
    "import torchvision.datasets as datasets  \n",
    "from torch.utils.data import DataLoader\n",
    "from torchvision.transforms import ToTensor\n",
    "import matplotlib.pyplot as plt\n",
    "from tqdm import tqdm\n",
    "import pandas as pd"
   ]
  },
  {
   "cell_type": "code",
   "execution_count": 5,
   "id": "32075b70",
   "metadata": {},
   "outputs": [
    {
     "name": "stdout",
     "output_type": "stream",
     "text": [
      "                              Kap      Mmp7     Cuzd1     Fabp4      Cd24  \\\n",
      "AAACCGGGTAGGTACC-JY97A   0.000000  0.000000  0.000000  0.000000  0.000000   \n",
      "AAATCGTGTACCACAA-JY97A   0.000000  0.000000  0.000000  0.000000  0.000000   \n",
      "AAATGGTCAATGTGCC-JY97A   0.000000  0.000000  0.000000  0.000000  0.000000   \n",
      "AAATTAACGGGTAGCT-JY97A   0.000000  0.000000  0.000000  0.000000  0.000000   \n",
      "AACTCAAGTTAATTGC-JY97A   0.000000  0.000000  0.000000  0.000000  0.000000   \n",
      "...                           ...       ...       ...       ...       ...   \n",
      "TTGTGGTAGGAGGGAT-JY102A  0.608742  0.349994  0.000000  0.349994  0.349994   \n",
      "TTGTTAGCAAATTCGA-JY102A  0.795374  0.474764  0.000000  0.565055  1.037767   \n",
      "TTGTTCAGTGTGCTAC-JY102A  1.396384  0.593778  0.475061  0.184572  0.963797   \n",
      "TTGTTTCCATACAACT-JY102A  1.255837  0.487164  0.000000  0.608093  0.608093   \n",
      "TTGTTTGTGTAAATTC-JY102A  0.670376  1.068134  0.670376  0.670376  0.390342   \n",
      "\n",
      "                               C3  RGD1304870       Cfd    Tspan1      Krt8  \\\n",
      "AAACCGGGTAGGTACC-JY97A   0.000000    0.000000  0.000000  0.000000  0.000000   \n",
      "AAATCGTGTACCACAA-JY97A   0.000000    0.000000  0.000000  0.000000  0.215753   \n",
      "AAATGGTCAATGTGCC-JY97A   0.000000    0.000000  0.000000  0.000000  0.000000   \n",
      "AAATTAACGGGTAGCT-JY97A   0.000000    3.208776  0.000000  0.000000  0.000000   \n",
      "AACTCAAGTTAATTGC-JY97A   0.000000    0.000000  0.000000  0.000000  0.000000   \n",
      "...                           ...         ...       ...       ...       ...   \n",
      "TTGTGGTAGGAGGGAT-JY102A  0.984411    0.000000  1.646847  0.000000  0.984411   \n",
      "TTGTTAGCAAATTCGA-JY102A  0.795374    0.000000  0.141420  0.141420  0.375505   \n",
      "TTGTTCAGTGTGCTAC-JY102A  0.475061    0.000000  0.184572  0.475061  0.475061   \n",
      "TTGTTTCCATACAACT-JY102A  0.902037    0.000000  0.000000  0.715963  0.349574   \n",
      "TTGTTTGTGTAAATTC-JY102A  1.220072    0.000000  0.888903  0.000000  1.068134   \n",
      "\n",
      "                         ...      Has2      Msh2     Fbxo2  Baalc     Arih1  \\\n",
      "AAACCGGGTAGGTACC-JY97A   ...  0.000000  1.048209  0.143562    0.0  0.380581   \n",
      "AAATCGTGTACCACAA-JY97A   ...  0.000000  0.543711  0.393117    0.0  0.471246   \n",
      "AAATGGTCAATGTGCC-JY97A   ...  0.000000  0.000000  0.000000    0.0  0.000000   \n",
      "AAATTAACGGGTAGCT-JY97A   ...  0.000000  0.000000  0.179209    0.0  0.179209   \n",
      "AACTCAAGTTAATTGC-JY97A   ...  0.000000  0.439406  0.000000    0.0  0.603046   \n",
      "...                      ...       ...       ...       ...    ...       ...   \n",
      "TTGTGGTAGGAGGGAT-JY102A  ...  0.000000  0.349994  0.000000    0.0  0.814115   \n",
      "TTGTTAGCAAATTCGA-JY102A  ...  0.000000  0.265296  0.375505    0.0  0.861699   \n",
      "TTGTTCAGTGTGCTAC-JY102A  ...  0.000000  0.000000  0.000000    0.0  0.475061   \n",
      "TTGTTTCCATACAACT-JY102A  ...  0.487164  0.189985  0.349574    0.0  0.189985   \n",
      "TTGTTTGTGTAAATTC-JY102A  ...  0.390342  0.000000  0.000000    0.0  0.390342   \n",
      "\n",
      "                           Gprc5a  Arl11    Phyhd1      Arf4     Cenpt  \n",
      "AAACCGGGTAGGTACC-JY97A   0.000000    0.0  0.143562  1.548642  0.143562  \n",
      "AAATCGTGTACCACAA-JY97A   0.000000    0.0  0.113684  1.073761  0.308362  \n",
      "AAATGGTCAATGTGCC-JY97A   0.000000    0.0  0.826482  1.272714  0.278628  \n",
      "AAATTAACGGGTAGCT-JY97A   0.000000    0.0  0.179209  1.086104  0.331131  \n",
      "AACTCAAGTTAATTGC-JY97A   0.000000    0.0  0.243646  1.165380  0.243646  \n",
      "...                           ...    ...       ...       ...       ...  \n",
      "TTGTGGTAGGAGGGAT-JY102A  0.000000    0.0  0.608742  1.562667  0.000000  \n",
      "TTGTTAGCAAATTCGA-JY102A  0.000000    0.0  0.375505  1.768334  0.265296  \n",
      "TTGTTCAGTGTGCTAC-JY102A  0.000000    0.0  0.000000  1.733811  0.340328  \n",
      "TTGTTTCCATACAACT-JY102A  0.000000    0.0  0.000000  1.561542  0.189985  \n",
      "TTGTTTGTGTAAATTC-JY102A  0.390342    0.0  0.000000  1.351941  0.000000  \n",
      "\n",
      "[2256 rows x 1804 columns]\n",
      "                           1         2         3         4         5  \\\n",
      "AAACCGGGTAGGTACC-JY97A   0.0  0.168741  0.000000  0.239285  0.000000   \n",
      "AAATCGTGTACCACAA-JY97A   0.0  0.153149  0.000000  0.203766  0.000000   \n",
      "AAATGGTCAATGTGCC-JY97A   0.0  0.274868  0.000000  0.171336  0.000000   \n",
      "AAATTAACGGGTAGCT-JY97A   0.0  0.087862  0.000000  0.075976  0.000000   \n",
      "AACTCAAGTTAATTGC-JY97A   0.0  0.054594  0.000000  0.745367  0.000000   \n",
      "...                      ...       ...       ...       ...       ...   \n",
      "TTGTGGTAGGAGGGAT-JY102A  0.0  0.000000  0.141031  0.000000  0.033926   \n",
      "TTGTTAGCAAATTCGA-JY102A  0.0  0.000000  0.000000  0.000000  0.187567   \n",
      "TTGTTCAGTGTGCTAC-JY102A  0.0  0.000000  0.000000  0.037591  0.097753   \n",
      "TTGTTTCCATACAACT-JY102A  0.0  0.000000  0.000000  0.000000  0.000000   \n",
      "TTGTTTGTGTAAATTC-JY102A  0.0  0.000000  0.048661  0.000000  0.078248   \n",
      "\n",
      "                                6         7         8         9        10  \\\n",
      "AAACCGGGTAGGTACC-JY97A   0.060821  0.495694  0.000000  0.000000  0.000000   \n",
      "AAATCGTGTACCACAA-JY97A   0.000000  0.364585  0.036121  0.000000  0.000000   \n",
      "AAATGGTCAATGTGCC-JY97A   0.000000  0.000000  0.000000  0.000000  0.000000   \n",
      "AAATTAACGGGTAGCT-JY97A   0.000000  0.000000  0.000000  0.000000  0.000000   \n",
      "AACTCAAGTTAATTGC-JY97A   0.000000  0.200038  0.000000  0.000000  0.000000   \n",
      "...                           ...       ...       ...       ...       ...   \n",
      "TTGTGGTAGGAGGGAT-JY102A  0.125448  0.020612  0.084169  0.000000  0.064001   \n",
      "TTGTTAGCAAATTCGA-JY102A  0.148792  0.243044  0.167667  0.000000  0.252930   \n",
      "TTGTTCAGTGTGCTAC-JY102A  0.158520  0.418907  0.072614  0.000000  0.214615   \n",
      "TTGTTTCCATACAACT-JY102A  0.000000  0.442273  0.384674  0.000000  0.173053   \n",
      "TTGTTTGTGTAAATTC-JY102A  0.166048  0.024749  0.289427  0.024274  0.185364   \n",
      "\n",
      "                               11        12        13   14        15  \n",
      "AAACCGGGTAGGTACC-JY97A   0.000000  0.035460  0.000000  0.0  0.000000  \n",
      "AAATCGTGTACCACAA-JY97A   0.000000  0.118833  0.123546  0.0  0.000000  \n",
      "AAATGGTCAATGTGCC-JY97A   0.390348  0.020684  0.020341  0.0  0.122422  \n",
      "AAATTAACGGGTAGCT-JY97A   0.000000  0.000000  0.000000  0.0  0.836162  \n",
      "AACTCAAGTTAATTGC-JY97A   0.000000  0.000000  0.000000  0.0  0.000000  \n",
      "...                           ...       ...       ...  ...       ...  \n",
      "TTGTGGTAGGAGGGAT-JY102A  0.489951  0.000000  0.040862  0.0  0.000000  \n",
      "TTGTTAGCAAATTCGA-JY102A  0.000000  0.000000  0.000000  0.0  0.000000  \n",
      "TTGTTCAGTGTGCTAC-JY102A  0.000000  0.000000  0.000000  0.0  0.000000  \n",
      "TTGTTTCCATACAACT-JY102A  0.000000  0.000000  0.000000  0.0  0.000000  \n",
      "TTGTTTGTGTAAATTC-JY102A  0.183229  0.000000  0.000000  0.0  0.000000  \n",
      "\n",
      "[2256 rows x 15 columns]\n"
     ]
    }
   ],
   "source": [
    "import re\n",
    "expr = pd.read_csv('/home/ubuntu/spatial.variableGeneExpr.csv',index_col=0)\n",
    "prop = pd.read_csv('/home/ubuntu/STdeconvolve.K15.pixelProp.csv',index_col=0)\n",
    "expr.index = list(map(lambda x: re.sub(r'-[1234]-','-',x),expr.index))\n",
    "prop = prop.loc[map(lambda x: x in set(expr.index),prop.index),:]\n",
    "print(expr)\n",
    "print(prop)"
   ]
  },
  {
   "cell_type": "code",
   "execution_count": 7,
   "id": "06462cff",
   "metadata": {},
   "outputs": [
    {
     "data": {
      "text/plain": [
       "AAACCGGGTAGGTACC-JY97A      7\n",
       "AAATCGTGTACCACAA-JY97A      7\n",
       "AAATGGTCAATGTGCC-JY97A     11\n",
       "AAATTAACGGGTAGCT-JY97A     15\n",
       "AACTCAAGTTAATTGC-JY97A      4\n",
       "                           ..\n",
       "TTGTGGTAGGAGGGAT-JY102A    11\n",
       "TTGTTAGCAAATTCGA-JY102A    10\n",
       "TTGTTCAGTGTGCTAC-JY102A     7\n",
       "TTGTTTCCATACAACT-JY102A     7\n",
       "TTGTTTGTGTAAATTC-JY102A     8\n",
       "Length: 2256, dtype: int64"
      ]
     },
     "execution_count": 7,
     "metadata": {},
     "output_type": "execute_result"
    }
   ],
   "source": [
    "label = prop.apply(lambda x: list(x).index(max(x))+1,axis=1)\n",
    "label"
   ]
  },
  {
   "cell_type": "code",
   "execution_count": 28,
   "id": "f429b9f5",
   "metadata": {},
   "outputs": [],
   "source": [
    "from torch.utils.data import Dataset\n",
    "import numpy as np\n",
    "class spatialDataset(Dataset):\n",
    "    def __init__(self,exprMat,label):\n",
    "        self.exprMat = exprMat\n",
    "        self.labels = label\n",
    "        \n",
    "    def __len__(self):\n",
    "        return(len(self.labels))\n",
    "    \n",
    "    def __getitem__(self,idx):\n",
    "        exprVector = np.array(self.exprMat.iloc[idx,:])\n",
    "        label = self.labels[idx]\n",
    "        return exprVector,label"
   ]
  },
  {
   "cell_type": "code",
   "execution_count": 29,
   "id": "cfd24686",
   "metadata": {},
   "outputs": [
    {
     "name": "stdout",
     "output_type": "stream",
     "text": [
      "2256\n"
     ]
    }
   ],
   "source": [
    "dataset = spatialDataset(expr,label)\n",
    "print(len(dataset))"
   ]
  },
  {
   "cell_type": "code",
   "execution_count": 38,
   "id": "cef3ca25",
   "metadata": {},
   "outputs": [
    {
     "data": {
      "text/plain": [
       "(1804,)"
      ]
     },
     "execution_count": 38,
     "metadata": {},
     "output_type": "execute_result"
    }
   ],
   "source": [
    "dataset[1][0].shape"
   ]
  },
  {
   "cell_type": "code",
   "execution_count": 39,
   "id": "ade14b61",
   "metadata": {},
   "outputs": [
    {
     "name": "stdout",
     "output_type": "stream",
     "text": [
      "cpu\n"
     ]
    }
   ],
   "source": [
    "# Configuration\n",
    "device = torch.device('cuda' if torch.cuda.is_available() else 'cpu')\n",
    "print(device)\n",
    "INPUT_DIM = 1804\n",
    "Z_DIM = 10\n",
    "H_DIM = 200\n",
    "NUM_EPOCHS = 10\n",
    "BATCH_SIZE = 32\n",
    "LR_RATE = 3e-4"
   ]
  },
  {
   "cell_type": "code",
   "execution_count": 40,
   "id": "7b128bb4",
   "metadata": {},
   "outputs": [],
   "source": [
    "train_loader = DataLoader(dataset=dataset, batch_size=BATCH_SIZE, shuffle=True)"
   ]
  },
  {
   "cell_type": "code",
   "execution_count": 64,
   "id": "72060293",
   "metadata": {},
   "outputs": [],
   "source": [
    "class VariationalAutoEncoder(nn.Module):\n",
    "    def __init__(self, input_dim, z_dim, h_dim=200):\n",
    "        super().__init__()\n",
    "        # encoder\n",
    "        print(input_dim)\n",
    "        print(h_dim)\n",
    "        self.img_2hid = nn.Linear(input_dim, h_dim)\n",
    "\n",
    "        # one for mu and one for stds, note how we only output\n",
    "        # diagonal values of covariance matrix. Here we assume\n",
    "        # the pixels are conditionally independent \n",
    "        self.hid_2mu = nn.Linear(h_dim, z_dim)\n",
    "        self.hid_2sigma = nn.Linear(h_dim, z_dim)\n",
    "\n",
    "        # decoder\n",
    "        self.z_2hid = nn.Linear(z_dim, h_dim)\n",
    "        self.hid_2img = nn.Linear(h_dim, input_dim)\n",
    "\n",
    "    def encode(self, x):\n",
    "        h = F.relu(self.img_2hid(x))\n",
    "        mu = self.hid_2mu(h)\n",
    "        sigma = self.hid_2sigma(h)\n",
    "        return mu, sigma\n",
    "\n",
    "    def decode(self, z):\n",
    "        new_h = F.relu(self.z_2hid(z))\n",
    "        x = torch.sigmoid(self.hid_2img(new_h))\n",
    "        return x\n",
    "\n",
    "    def forward(self, x):\n",
    "        mu, sigma = self.encode(x)\n",
    "        sigma = torch.exp(sigma)\n",
    "\n",
    "        # Sample from latent distribution from encoder\n",
    "        epsilon = torch.randn_like(sigma)\n",
    "        z_reparametrized = mu + sigma*epsilon\n",
    "\n",
    "        x = self.decode(z_reparametrized)\n",
    "        return x, mu, sigma\n"
   ]
  },
  {
   "cell_type": "code",
   "execution_count": 65,
   "id": "30b79185",
   "metadata": {},
   "outputs": [],
   "source": [
    "# Define train function\n",
    "def train(num_epochs, model, optimizer, loss_fn):\n",
    "    # Start training\n",
    "    for epoch in range(num_epochs):\n",
    "        loop = tqdm(enumerate(train_loader))\n",
    "        for i, (x, y) in loop:\n",
    "            # Forward pass\n",
    "            x = x.to(device).view(-1, INPUT_DIM).float()\n",
    "            x_reconst, mu, sigma = model(x)\n",
    "\n",
    "            # loss, formulas from https://www.youtube.com/watch?v=igP03FXZqgo&t=2182s\n",
    "            reconst_loss = loss_fn(x_reconst, x)\n",
    "            kl_div = - torch.sum(1 + torch.log(sigma.pow(2)) - mu.pow(2) - sigma.pow(2))\n",
    "\n",
    "            # Backprop and optimize\n",
    "            loss = reconst_loss + kl_div\n",
    "            optimizer.zero_grad()\n",
    "            loss.backward()\n",
    "            optimizer.step()\n",
    "            loop.set_postfix(loss=loss.item())\n"
   ]
  },
  {
   "cell_type": "code",
   "execution_count": 66,
   "id": "c4a6a189",
   "metadata": {},
   "outputs": [
    {
     "name": "stdout",
     "output_type": "stream",
     "text": [
      "1804\n",
      "200\n"
     ]
    }
   ],
   "source": [
    "# Initialize model, optimizer, loss\n",
    "model = VariationalAutoEncoder(INPUT_DIM, Z_DIM, H_DIM).to(device)\n",
    "optimizer = torch.optim.Adam(model.parameters(), lr=LR_RATE)\n",
    "loss_fn = nn.BCELoss(reduction=\"sum\")"
   ]
  },
  {
   "cell_type": "code",
   "execution_count": 67,
   "id": "c89c2ed3",
   "metadata": {},
   "outputs": [
    {
     "name": "stderr",
     "output_type": "stream",
     "text": [
      "71it [00:01, 43.10it/s, loss=2.85e+3]\n",
      "71it [00:01, 57.01it/s, loss=-88535.5]\n",
      "71it [00:01, 44.12it/s, loss=-1.19e+5]\n",
      "71it [00:01, 51.88it/s, loss=-1.12e+5]\n",
      "71it [00:01, 54.80it/s, loss=-1.31e+5]\n",
      "71it [00:01, 45.33it/s, loss=-1.05e+5]\n",
      "71it [00:01, 48.07it/s, loss=-1.31e+5]\n",
      "71it [00:01, 53.09it/s, loss=-1.34e+5]\n",
      "71it [00:01, 57.63it/s, loss=-1.27e+5]\n",
      "71it [00:01, 55.85it/s, loss=-1.21e+5]\n"
     ]
    }
   ],
   "source": [
    "# Run training\n",
    "train(NUM_EPOCHS, model, optimizer, loss_fn)"
   ]
  },
  {
   "cell_type": "code",
   "execution_count": null,
   "id": "8878e2c5",
   "metadata": {},
   "outputs": [],
   "source": []
  }
 ],
 "metadata": {
  "kernelspec": {
   "display_name": "Python 3 (ipykernel)",
   "language": "python",
   "name": "python3"
  },
  "language_info": {
   "codemirror_mode": {
    "name": "ipython",
    "version": 3
   },
   "file_extension": ".py",
   "mimetype": "text/x-python",
   "name": "python",
   "nbconvert_exporter": "python",
   "pygments_lexer": "ipython3",
   "version": "3.8.5"
  }
 },
 "nbformat": 4,
 "nbformat_minor": 5
}
