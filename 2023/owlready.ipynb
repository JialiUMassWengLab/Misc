{
 "cells": [
  {
   "cell_type": "code",
   "execution_count": 1,
   "id": "822f72fa",
   "metadata": {},
   "outputs": [],
   "source": [
    "from owlready2 import *"
   ]
  },
  {
   "cell_type": "code",
   "execution_count": 2,
   "id": "a9eb58d0",
   "metadata": {},
   "outputs": [
    {
     "data": {
      "text/plain": [
       "'http://purl.obolibrary.org/obo/hp.owl#'"
      ]
     },
     "execution_count": 2,
     "metadata": {},
     "output_type": "execute_result"
    }
   ],
   "source": [
    "hpo = get_ontology('file:///mnt/efs/home/iet5740/Projects/GSP/ontology/hp.owl').load()\n",
    "hpo.base_iri"
   ]
  },
  {
   "cell_type": "code",
   "execution_count": 3,
   "id": "864ee1d9",
   "metadata": {},
   "outputs": [
    {
     "data": {
      "text/plain": [
       "[obo.HP_0000819, obo.HP_0000873]"
      ]
     },
     "execution_count": 3,
     "metadata": {},
     "output_type": "execute_result"
    }
   ],
   "source": [
    "hpo.search(label = 'Diabetes*')"
   ]
  },
  {
   "cell_type": "code",
   "execution_count": 4,
   "id": "975ec3dd",
   "metadata": {},
   "outputs": [],
   "source": [
    "l = hpo.search(label = 'Diabetes*')"
   ]
  },
  {
   "cell_type": "code",
   "execution_count": 5,
   "id": "69238b53",
   "metadata": {},
   "outputs": [
    {
     "data": {
      "text/plain": [
       "[obo.HP_0000831,\n",
       " obo.HP_0001953,\n",
       " obo.HP_0004904,\n",
       " obo.HP_0005978,\n",
       " obo.HP_0009800,\n",
       " obo.HP_0100651]"
      ]
     },
     "execution_count": 5,
     "metadata": {},
     "output_type": "execute_result"
    }
   ],
   "source": [
    "list(l[0].subclasses())"
   ]
  },
  {
   "cell_type": "code",
   "execution_count": 6,
   "id": "6387f97f",
   "metadata": {},
   "outputs": [
    {
     "data": {
      "text/plain": [
       "('http://purl.obolibrary.org/obo/HP_0000819', ['Diabetes mellitus'])"
      ]
     },
     "execution_count": 6,
     "metadata": {},
     "output_type": "execute_result"
    }
   ],
   "source": [
    "l[0].iri, l[0].label"
   ]
  },
  {
   "cell_type": "code",
   "execution_count": 7,
   "id": "87271bd8",
   "metadata": {},
   "outputs": [
    {
     "data": {
      "text/plain": [
       "obo.HP_0000819"
      ]
     },
     "execution_count": 7,
     "metadata": {},
     "output_type": "execute_result"
    }
   ],
   "source": [
    "IRIS['http://purl.obolibrary.org/obo/HP_0000819']"
   ]
  },
  {
   "cell_type": "code",
   "execution_count": 8,
   "id": "93f3f976",
   "metadata": {},
   "outputs": [
    {
     "ename": "NameError",
     "evalue": "name 'obo' is not defined",
     "output_type": "error",
     "traceback": [
      "\u001b[0;31m---------------------------------------------------------------------------\u001b[0m",
      "\u001b[0;31mNameError\u001b[0m                                 Traceback (most recent call last)",
      "\u001b[0;32m/tmp/ipykernel_11001/1569317636.py\u001b[0m in \u001b[0;36m<module>\u001b[0;34m\u001b[0m\n\u001b[0;32m----> 1\u001b[0;31m \u001b[0mobo\u001b[0m\u001b[0;34m.\u001b[0m\u001b[0mHP_0000819\u001b[0m\u001b[0;34m.\u001b[0m\u001b[0mlabel\u001b[0m\u001b[0;34m\u001b[0m\u001b[0;34m\u001b[0m\u001b[0m\n\u001b[0m",
      "\u001b[0;31mNameError\u001b[0m: name 'obo' is not defined"
     ]
    }
   ],
   "source": [
    "obo.HP_0000819.label"
   ]
  },
  {
   "cell_type": "code",
   "execution_count": 11,
   "id": "0d5078c8",
   "metadata": {},
   "outputs": [
    {
     "data": {
      "text/plain": [
       "['Diabetes mellitus']"
      ]
     },
     "execution_count": 11,
     "metadata": {},
     "output_type": "execute_result"
    }
   ],
   "source": [
    "#get namespace to access entities\n",
    "obo = hpo.get_namespace(\"http://purl.obolibrary.org/obo/\")\n",
    "obo.HP_0000819.label"
   ]
  },
  {
   "cell_type": "code",
   "execution_count": 12,
   "id": "69cbaaff",
   "metadata": {},
   "outputs": [
    {
     "data": {
      "text/plain": [
       "mappingproxy({'namespace': get_ontology(\"http://purl.obolibrary.org/obo/hp.owl#\").get_namespace(\"http://purl.obolibrary.org/obo/\"),\n",
       "              'storid': 8064,\n",
       "              '_name': 'HP_0000819',\n",
       "              'is_a': [obo.HP_0000818, obo.HP_0001952],\n",
       "              '_equivalent_to': None,\n",
       "              '__module__': 'owlready2.entity',\n",
       "              '__doc__': None,\n",
       "              '__label': ['Diabetes mellitus']})"
      ]
     },
     "execution_count": 12,
     "metadata": {},
     "output_type": "execute_result"
    }
   ],
   "source": [
    "obo.HP_0000819.__dict__"
   ]
  },
  {
   "cell_type": "code",
   "execution_count": 24,
   "id": "f3f5e1dd",
   "metadata": {},
   "outputs": [
    {
     "data": {
      "text/plain": [
       "[obo.HP_0000819, obo.HP_0000855]"
      ]
     },
     "execution_count": 24,
     "metadata": {},
     "output_type": "execute_result"
    }
   ],
   "source": [
    "obo.HP_0000831.is_a"
   ]
  },
  {
   "cell_type": "code",
   "execution_count": 25,
   "id": "e1bed608",
   "metadata": {},
   "outputs": [
    {
     "data": {
      "text/plain": [
       "{obo.BFO_0000051.some(obo.PATO_0000001 & obo.RO_0002314.some(obo.GO_0008152) & obo.RO_0002573.some(obo.PATO_0000460)),\n",
       " obo.BFO_0000051.some(obo.PATO_0000001 & obo.RO_0002314.some(obo.UBERON_0000949) & obo.RO_0002573.some(obo.PATO_0000460)),\n",
       " obo.BFO_0000051.some(obo.PATO_0001236 & obo.RO_0000052.some(obo.GO_0042593) & obo.RO_0002573.some(obo.PATO_0000460)),\n",
       " obo.BFO_0000051.some(obo.PATO_0001552 & obo.RO_0002503.some(obo.CHEBI_5931) & obo.RO_0002573.some(obo.PATO_0000460)),\n",
       " obo.BFO_0000051.some(obo.PATO_0001650 & obo.RO_0000052.some(obo.CL_0000000) & obo.RO_0002503.some(obo.GO_0046323) & obo.RO_0002573.some(obo.PATO_0000460)),\n",
       " obo.HP_0000001,\n",
       " obo.HP_0000118,\n",
       " obo.HP_0000818,\n",
       " obo.HP_0000819,\n",
       " obo.HP_0000831,\n",
       " obo.HP_0000855,\n",
       " obo.HP_0001939,\n",
       " obo.HP_0001952,\n",
       " obo.HP_0011014,\n",
       " obo.HP_0012337,\n",
       " owl.Thing}"
      ]
     },
     "execution_count": 25,
     "metadata": {},
     "output_type": "execute_result"
    }
   ],
   "source": [
    "obo.HP_0000831.INDIRECT_is_a"
   ]
  },
  {
   "cell_type": "code",
   "execution_count": 27,
   "id": "1ed11d75",
   "metadata": {},
   "outputs": [],
   "source": [
    "my_disease = obo.HP_0000831(\"disease1\")"
   ]
  },
  {
   "cell_type": "code",
   "execution_count": 28,
   "id": "8dc4efdf",
   "metadata": {},
   "outputs": [
    {
     "data": {
      "text/plain": [
       "'disease1'"
      ]
     },
     "execution_count": 28,
     "metadata": {},
     "output_type": "execute_result"
    }
   ],
   "source": [
    "my_disease.name"
   ]
  },
  {
   "cell_type": "code",
   "execution_count": 29,
   "id": "272e0691",
   "metadata": {},
   "outputs": [
    {
     "data": {
      "text/plain": [
       "[obo.HP_0000831]"
      ]
     },
     "execution_count": 29,
     "metadata": {},
     "output_type": "execute_result"
    }
   ],
   "source": [
    "my_disease.is_a"
   ]
  },
  {
   "cell_type": "code",
   "execution_count": 30,
   "id": "da57dca2",
   "metadata": {},
   "outputs": [
    {
     "data": {
      "text/plain": [
       "set()"
      ]
     },
     "execution_count": 30,
     "metadata": {},
     "output_type": "execute_result"
    }
   ],
   "source": [
    "my_disease.get_properties()"
   ]
  },
  {
   "cell_type": "code",
   "execution_count": 31,
   "id": "52b4fcf6",
   "metadata": {},
   "outputs": [
    {
     "data": {
      "text/plain": [
       "<generator object Thing.get_inverse_properties at 0x7faab71be250>"
      ]
     },
     "execution_count": 31,
     "metadata": {},
     "output_type": "execute_result"
    }
   ],
   "source": [
    "my_disease.get_inverse_properties()"
   ]
  },
  {
   "cell_type": "code",
   "execution_count": 38,
   "id": "8b81164b",
   "metadata": {},
   "outputs": [
    {
     "data": {
      "text/plain": [
       "[]"
      ]
     },
     "execution_count": 38,
     "metadata": {},
     "output_type": "execute_result"
    }
   ],
   "source": [
    "obo.HP_0000819.description"
   ]
  },
  {
   "cell_type": "code",
   "execution_count": null,
   "id": "096a0291",
   "metadata": {},
   "outputs": [],
   "source": []
  }
 ],
 "metadata": {
  "kernelspec": {
   "display_name": "GSP",
   "language": "python",
   "name": "gsp_venv"
  },
  "language_info": {
   "codemirror_mode": {
    "name": "ipython",
    "version": 3
   },
   "file_extension": ".py",
   "mimetype": "text/x-python",
   "name": "python",
   "nbconvert_exporter": "python",
   "pygments_lexer": "ipython3",
   "version": "3.7.16"
  }
 },
 "nbformat": 4,
 "nbformat_minor": 5
}
