{
 "cells": [
  {
   "cell_type": "code",
   "execution_count": 1,
   "id": "e8e22d0a",
   "metadata": {},
   "outputs": [],
   "source": [
    "import pronto"
   ]
  },
  {
   "cell_type": "code",
   "execution_count": 3,
   "id": "6698d855",
   "metadata": {},
   "outputs": [
    {
     "name": "stderr",
     "output_type": "stream",
     "text": [
      "/mnt/efs/home/iet5740/Projects/GSP/gsp_venv/lib64/python3.7/site-packages/pronto/ontology.py:207: UnicodeWarning: unsound encoding, assuming ISO-8859-1 (73% confidence)\n",
      "  f\"http://purl.obolibrary.org/obo/{slug}\", import_depth, timeout, threads\n"
     ]
    }
   ],
   "source": [
    "hpo = pronto.Ontology.from_obo_library('hp.obo')"
   ]
  },
  {
   "cell_type": "code",
   "execution_count": 4,
   "id": "f195e20d",
   "metadata": {},
   "outputs": [
    {
     "data": {
      "text/plain": [
       "Term('HP:0000707', name='Abnormality of the nervous system')"
      ]
     },
     "execution_count": 4,
     "metadata": {},
     "output_type": "execute_result"
    }
   ],
   "source": [
    "hpo['HP:0000707']"
   ]
  },
  {
   "cell_type": "code",
   "execution_count": 5,
   "id": "b42ec9d1",
   "metadata": {},
   "outputs": [],
   "source": [
    "term = hpo['HP:0000707']"
   ]
  },
  {
   "cell_type": "code",
   "execution_count": 25,
   "id": "7ec74d30",
   "metadata": {},
   "outputs": [
    {
     "name": "stdout",
     "output_type": "stream",
     "text": [
      "HP:0000707\n",
      "Abnormality of the nervous system\n",
      "<bound method Term.superclasses of Term('HP:0000707', name='Abnormality of the nervous system')>\n",
      "frozenset({Synonym('Brain and/or spinal cord issue', scope='BROAD', type=SynonymType('layperson', 'layperson term')), Synonym('Neurological abnormality', scope='EXACT', type=SynonymType('layperson', 'layperson term')), Synonym('Neurologic abnormalities', scope='EXACT', type=SynonymType('layperson', 'layperson term')), Synonym('Abnormality of the nervous system', scope='EXACT', type=SynonymType('layperson', 'layperson term'))})\n",
      "The nervous system comprises the neuraxis (brain, spinal cord, and ventricles), the autonomic nervous system, the enteric nervous system, and the peripheral nervous system.\n",
      "An abnormality of the nervous system.\n"
     ]
    }
   ],
   "source": [
    "print(term.id)\n",
    "print(term.name)\n",
    "print(term.superclasses)\n",
    "print(term.synonyms)\n",
    "print(term.comment)\n",
    "print(term.definition)"
   ]
  },
  {
   "cell_type": "code",
   "execution_count": 8,
   "id": "5f2251e7",
   "metadata": {},
   "outputs": [
    {
     "data": {
      "text/plain": [
       "'hp.obo'"
      ]
     },
     "execution_count": 8,
     "metadata": {},
     "output_type": "execute_result"
    }
   ],
   "source": [
    "hpo.metadata.ontology"
   ]
  },
  {
   "cell_type": "code",
   "execution_count": 9,
   "id": "01165aac",
   "metadata": {},
   "outputs": [
    {
     "data": {
      "text/plain": [
       "'http://purl.obolibrary.org/obo/hp.obo'"
      ]
     },
     "execution_count": 9,
     "metadata": {},
     "output_type": "execute_result"
    }
   ],
   "source": [
    "hpo.path"
   ]
  },
  {
   "cell_type": "code",
   "execution_count": 11,
   "id": "7bf3c3db",
   "metadata": {},
   "outputs": [
    {
     "data": {
      "text/plain": [
       "[Relationship('inheres_in', name='inheres in'),\n",
       " Relationship('inheres_in_part_of', name='inheres in part of'),\n",
       " Relationship('part_of', name='part of')]"
      ]
     },
     "execution_count": 11,
     "metadata": {},
     "output_type": "execute_result"
    }
   ],
   "source": [
    "list(hpo.relationships())"
   ]
  },
  {
   "cell_type": "code",
   "execution_count": 12,
   "id": "86d0a222",
   "metadata": {},
   "outputs": [
    {
     "data": {
      "text/plain": [
       "18049"
      ]
     },
     "execution_count": 12,
     "metadata": {},
     "output_type": "execute_result"
    }
   ],
   "source": [
    "len(hpo.terms())"
   ]
  },
  {
   "cell_type": "code",
   "execution_count": 14,
   "id": "6d4204d2",
   "metadata": {},
   "outputs": [
    {
     "name": "stdout",
     "output_type": "stream",
     "text": [
      "format-version: 1.2\n",
      "data-version: hp/releases/2023-10-09\n",
      "subsetdef: hposlim_core \"Core clinical terminology\"\n",
      "subsetdef: secondary_consequence \"Consequence of a disorder in another organ system.\"\n",
      "synonymtypedef: HP:0034334 \"allelic_requirement\"\n",
      "synonymtypedef: abbreviation \"abbreviation\"\n",
      "synonymtypedef: layperson \"layperson term\"\n",
      "synonymtypedef: obsolete_synonym \"discarded/obsoleted synonym\"\n",
      "synonymtypedef: plural_form \"plural form\"\n",
      "synonymtypedef: uk_spelling \"UK spelling\"\n",
      "default-namespace: human_phenotype\n",
      "property_value: IAO:0000700 HP:0000001\n",
      "property_value: http://purl.org/dc/elements/1.1/creator \"Human Phenotype Ontology Consortium\" xsd:string\n",
      "property_value: http://purl.org/dc/elements/1.1/creator \"Monarch Initiative\" xsd:string\n",
      "property_value: http://purl.org/dc/elements/1.1/creator \"Peter Robinson\" xsd:string\n",
      "property_value: http://purl.org/dc/elements/1.1/creator \"Sebastian KÃ¶hler\" xsd:string\n",
      "property_value: http://purl.org/dc/elements/1.1/description \"The Human Phenotype Ont\n"
     ]
    }
   ],
   "source": [
    "print(hpo.dumps()[:1000])"
   ]
  },
  {
   "cell_type": "code",
   "execution_count": 21,
   "id": "76e49106",
   "metadata": {},
   "outputs": [
    {
     "data": {
      "text/plain": [
       "Relationship('part_of', name='part of')"
      ]
     },
     "execution_count": 21,
     "metadata": {},
     "output_type": "execute_result"
    }
   ],
   "source": [
    "hpo.get_relationship('part_of')"
   ]
  },
  {
   "cell_type": "code",
   "execution_count": 26,
   "id": "ffee093d",
   "metadata": {},
   "outputs": [
    {
     "data": {
      "text/plain": [
       "frozenset({Xref('MSH:D009421'),\n",
       "           Xref('SNOMEDCT_US:88425004'),\n",
       "           Xref('UMLS:C0497552')})"
      ]
     },
     "execution_count": 26,
     "metadata": {},
     "output_type": "execute_result"
    }
   ],
   "source": [
    "term.xrefs"
   ]
  },
  {
   "cell_type": "code",
   "execution_count": 28,
   "id": "32791d6f",
   "metadata": {},
   "outputs": [
    {
     "data": {
      "text/plain": [
       "{Xref('https://orcid.org/0000-0002-0736-9199')}"
      ]
     },
     "execution_count": 28,
     "metadata": {},
     "output_type": "execute_result"
    }
   ],
   "source": [
    "term.definition.xrefs"
   ]
  },
  {
   "cell_type": "code",
   "execution_count": 49,
   "id": "b4d7e080",
   "metadata": {},
   "outputs": [
    {
     "name": "stdout",
     "output_type": "stream",
     "text": [
      "18048\n"
     ]
    }
   ],
   "source": [
    "all_hpo_terms = {}\n",
    "for entity in hpo.terms():\n",
    "    all_hpo_terms.update({entity.name: entity.id})\n",
    "print(len(all_hpo_terms))"
   ]
  },
  {
   "cell_type": "code",
   "execution_count": 50,
   "id": "50b61eef",
   "metadata": {},
   "outputs": [
    {
     "data": {
      "text/plain": [
       "['All',\n",
       " 'Abnormality of body height',\n",
       " 'Multicystic kidney dysplasia',\n",
       " 'Mode of inheritance',\n",
       " 'Autosomal dominant inheritance',\n",
       " 'Autosomal recessive inheritance',\n",
       " 'Abnormal morphology of female internal genitalia',\n",
       " 'Functional abnormality of the bladder',\n",
       " 'Recurrent urinary tract infections',\n",
       " 'Neurogenic bladder',\n",
       " 'Urinary urgency',\n",
       " 'Hypoplasia of the uterus',\n",
       " 'Abnormality of the bladder',\n",
       " 'Bladder diverticulum',\n",
       " 'Urinary retention',\n",
       " 'Nocturia',\n",
       " 'Urinary hesitancy',\n",
       " 'Urinary incontinence',\n",
       " 'Megacystis',\n",
       " 'Abnormal male internal genitalia morphology']"
      ]
     },
     "execution_count": 50,
     "metadata": {},
     "output_type": "execute_result"
    }
   ],
   "source": [
    "list(all_hpo_terms.keys())[:20]"
   ]
  },
  {
   "cell_type": "code",
   "execution_count": 36,
   "id": "74ca7be8",
   "metadata": {},
   "outputs": [],
   "source": [
    "from thefuzz import process\n",
    "from thefuzz import fuzz"
   ]
  },
  {
   "cell_type": "code",
   "execution_count": 51,
   "id": "e29e23eb",
   "metadata": {},
   "outputs": [],
   "source": [
    "results = process.extract('cup-to-disc ratio',list(all_hpo_terms.keys()),scorer=fuzz.partial_ratio,limit=10)"
   ]
  },
  {
   "cell_type": "code",
   "execution_count": 52,
   "id": "0249bed7",
   "metadata": {},
   "outputs": [
    {
     "data": {
      "text/plain": [
       "[('Increased cup-to-disc ratio', 100),\n",
       " ('Increased vertical cup-to-disc ratio', 100),\n",
       " ('Increased vertical cup-to-disc ratio - 0.6', 100),\n",
       " ('Increased vertical cup-to-disc ratio - 0.7', 100),\n",
       " ('Increased vertical cup-to-disc ratio - 0.8', 100),\n",
       " ('Increased vertical cup-to-disc ratio - 0.9', 100),\n",
       " ('Increased vertical cup-to-disc ratio - 1.0', 100),\n",
       " ('Abnormal waist to hip ratio', 73),\n",
       " ('Increased waist to hip ratio', 73),\n",
       " ('Decreased waist to hip ratio', 73)]"
      ]
     },
     "execution_count": 52,
     "metadata": {},
     "output_type": "execute_result"
    }
   ],
   "source": [
    "results"
   ]
  },
  {
   "cell_type": "code",
   "execution_count": 53,
   "id": "b02e88e4",
   "metadata": {},
   "outputs": [
    {
     "data": {
      "text/plain": [
       "'HP:0012796'"
      ]
     },
     "execution_count": 53,
     "metadata": {},
     "output_type": "execute_result"
    }
   ],
   "source": [
    "all_hpo_terms[results[0][0]]"
   ]
  },
  {
   "cell_type": "code",
   "execution_count": 54,
   "id": "0e742e2e",
   "metadata": {},
   "outputs": [
    {
     "name": "stderr",
     "output_type": "stream",
     "text": [
      "/mnt/efs/home/iet5740/Projects/GSP/gsp_venv/lib64/python3.7/site-packages/pronto/parsers/rdfxml.py:289: SyntaxWarning: <Element '{http://purl.obolibrary.org/obo/}format-version' at 0x7fbe854d5ef0> contains text but no `xsd:datatype`\n",
      "  meta.annotations.add(self._extract_literal_pv(child))\n",
      "/mnt/efs/home/iet5740/Projects/GSP/gsp_venv/lib64/python3.7/site-packages/pronto/parsers/rdfxml.py:289: SyntaxWarning: <Element '{http://purl.org/dc/elements/1.1/}creator' at 0x7fbee450c650> contains text but no `xsd:datatype`\n",
      "  meta.annotations.add(self._extract_literal_pv(child))\n",
      "/mnt/efs/home/iet5740/Projects/GSP/gsp_venv/lib64/python3.7/site-packages/pronto/parsers/rdfxml.py:289: SyntaxWarning: <Element '{http://purl.org/dc/elements/1.1/}creator' at 0x7fbee450c7d0> contains text but no `xsd:datatype`\n",
      "  meta.annotations.add(self._extract_literal_pv(child))\n",
      "/mnt/efs/home/iet5740/Projects/GSP/gsp_venv/lib64/python3.7/site-packages/pronto/parsers/rdfxml.py:289: SyntaxWarning: <Element '{http://purl.org/dc/elements/1.1/}creator' at 0x7fbee450c890> contains text but no `xsd:datatype`\n",
      "  meta.annotations.add(self._extract_literal_pv(child))\n",
      "/mnt/efs/home/iet5740/Projects/GSP/gsp_venv/lib64/python3.7/site-packages/pronto/parsers/rdfxml.py:289: SyntaxWarning: <Element '{http://purl.org/dc/elements/1.1/}creator' at 0x7fbee450c6b0> contains text but no `xsd:datatype`\n",
      "  meta.annotations.add(self._extract_literal_pv(child))\n",
      "/mnt/efs/home/iet5740/Projects/GSP/gsp_venv/lib64/python3.7/site-packages/pronto/parsers/rdfxml.py:289: SyntaxWarning: <Element '{http://purl.org/dc/elements/1.1/}creator' at 0x7fbee450cad0> contains text but no `xsd:datatype`\n",
      "  meta.annotations.add(self._extract_literal_pv(child))\n",
      "/mnt/efs/home/iet5740/Projects/GSP/gsp_venv/lib64/python3.7/site-packages/pronto/parsers/rdfxml.py:289: SyntaxWarning: <Element '{http://purl.org/dc/elements/1.1/}creator' at 0x7fbee450cdd0> contains text but no `xsd:datatype`\n",
      "  meta.annotations.add(self._extract_literal_pv(child))\n",
      "/mnt/efs/home/iet5740/Projects/GSP/gsp_venv/lib64/python3.7/site-packages/pronto/parsers/rdfxml.py:289: SyntaxWarning: <Element '{http://purl.org/dc/elements/1.1/}creator' at 0x7fbee450c8f0> contains text but no `xsd:datatype`\n",
      "  meta.annotations.add(self._extract_literal_pv(child))\n",
      "/mnt/efs/home/iet5740/Projects/GSP/gsp_venv/lib64/python3.7/site-packages/pronto/parsers/rdfxml.py:289: SyntaxWarning: <Element '{http://purl.org/dc/elements/1.1/}creator' at 0x7fbee450cb90> contains text but no `xsd:datatype`\n",
      "  meta.annotations.add(self._extract_literal_pv(child))\n",
      "/mnt/efs/home/iet5740/Projects/GSP/gsp_venv/lib64/python3.7/site-packages/pronto/parsers/rdfxml.py:289: SyntaxWarning: <Element '{http://purl.org/dc/elements/1.1/}creator' at 0x7fbee450ce90> contains text but no `xsd:datatype`\n",
      "  meta.annotations.add(self._extract_literal_pv(child))\n",
      "/mnt/efs/home/iet5740/Projects/GSP/gsp_venv/lib64/python3.7/site-packages/pronto/parsers/rdfxml.py:289: SyntaxWarning: <Element '{http://purl.org/dc/elements/1.1/}creator' at 0x7fbec8539710> contains text but no `xsd:datatype`\n",
      "  meta.annotations.add(self._extract_literal_pv(child))\n",
      "/mnt/efs/home/iet5740/Projects/GSP/gsp_venv/lib64/python3.7/site-packages/pronto/parsers/rdfxml.py:289: SyntaxWarning: <Element '{http://purl.org/dc/elements/1.1/}creator' at 0x7fbec8539e30> contains text but no `xsd:datatype`\n",
      "  meta.annotations.add(self._extract_literal_pv(child))\n",
      "/mnt/efs/home/iet5740/Projects/GSP/gsp_venv/lib64/python3.7/site-packages/pronto/parsers/rdfxml.py:289: SyntaxWarning: <Element '{http://purl.org/dc/elements/1.1/}creator' at 0x7fbec8539a10> contains text but no `xsd:datatype`\n",
      "  meta.annotations.add(self._extract_literal_pv(child))\n",
      "/mnt/efs/home/iet5740/Projects/GSP/gsp_venv/lib64/python3.7/site-packages/pronto/parsers/rdfxml.py:289: SyntaxWarning: <Element '{http://purl.org/dc/elements/1.1/}creator' at 0x7fbec8539dd0> contains text but no `xsd:datatype`\n",
      "  meta.annotations.add(self._extract_literal_pv(child))\n",
      "/mnt/efs/home/iet5740/Projects/GSP/gsp_venv/lib64/python3.7/site-packages/pronto/parsers/rdfxml.py:289: SyntaxWarning: <Element '{http://purl.org/dc/elements/1.1/}creator' at 0x7fbec8539950> contains text but no `xsd:datatype`\n",
      "  meta.annotations.add(self._extract_literal_pv(child))\n",
      "/mnt/efs/home/iet5740/Projects/GSP/gsp_venv/lib64/python3.7/site-packages/pronto/parsers/rdfxml.py:289: SyntaxWarning: <Element '{http://purl.org/dc/elements/1.1/}creator' at 0x7fbec8539650> contains text but no `xsd:datatype`\n",
      "  meta.annotations.add(self._extract_literal_pv(child))\n",
      "/mnt/efs/home/iet5740/Projects/GSP/gsp_venv/lib64/python3.7/site-packages/pronto/parsers/rdfxml.py:289: SyntaxWarning: <Element '{http://purl.org/dc/elements/1.1/}creator' at 0x7fbec85397d0> contains text but no `xsd:datatype`\n",
      "  meta.annotations.add(self._extract_literal_pv(child))\n",
      "/mnt/efs/home/iet5740/Projects/GSP/gsp_venv/lib64/python3.7/site-packages/pronto/parsers/rdfxml.py:289: SyntaxWarning: <Element '{http://purl.org/dc/elements/1.1/}creator' at 0x7fbec8539470> contains text but no `xsd:datatype`\n",
      "  meta.annotations.add(self._extract_literal_pv(child))\n",
      "/mnt/efs/home/iet5740/Projects/GSP/gsp_venv/lib64/python3.7/site-packages/pronto/parsers/rdfxml.py:289: SyntaxWarning: <Element '{http://purl.org/dc/elements/1.1/}creator' at 0x7fbec85396b0> contains text but no `xsd:datatype`\n",
      "  meta.annotations.add(self._extract_literal_pv(child))\n",
      "/mnt/efs/home/iet5740/Projects/GSP/gsp_venv/lib64/python3.7/site-packages/pronto/parsers/rdfxml.py:289: SyntaxWarning: <Element '{http://purl.org/dc/elements/1.1/}creator' at 0x7fbec85395f0> contains text but no `xsd:datatype`\n",
      "  meta.annotations.add(self._extract_literal_pv(child))\n",
      "/mnt/efs/home/iet5740/Projects/GSP/gsp_venv/lib64/python3.7/site-packages/pronto/parsers/rdfxml.py:289: SyntaxWarning: <Element '{http://purl.org/dc/elements/1.1/}rights' at 0x7fbec8539e90> contains text but no `xsd:datatype`\n",
      "  meta.annotations.add(self._extract_literal_pv(child))\n",
      "/mnt/efs/home/iet5740/Projects/GSP/gsp_venv/lib64/python3.7/site-packages/pronto/parsers/rdfxml.py:289: SyntaxWarning: <Element '{http://purl.org/dc/terms/}license' at 0x7fbe854e0ad0> contains text but no `xsd:datatype`\n",
      "  meta.annotations.add(self._extract_literal_pv(child))\n",
      "/mnt/efs/home/iet5740/Projects/GSP/gsp_venv/lib64/python3.7/site-packages/pronto/parsers/rdfxml.py:113: SyntaxWarning: unknown element in `owl:ObjectProperty`: <Element '{http://www.ebi.ac.uk/efo/}EFO_URI' at 0x7fbe854e7890>\n",
      "  self._extract_object_property(prop, curies)\n",
      "/mnt/efs/home/iet5740/Projects/GSP/gsp_venv/lib64/python3.7/site-packages/pronto/parsers/rdfxml.py:113: SyntaxWarning: unknown element in `owl:ObjectProperty`: <Element '{http://purl.obolibrary.org/obo/}IAO_0000111' at 0x7fbe854e7cb0>\n",
      "  self._extract_object_property(prop, curies)\n",
      "/mnt/efs/home/iet5740/Projects/GSP/gsp_venv/lib64/python3.7/site-packages/pronto/parsers/rdfxml.py:113: SyntaxWarning: unknown element in `owl:ObjectProperty`: <Element '{http://purl.obolibrary.org/obo/}IAO_0000112' at 0x7fbe854e7d70>\n",
      "  self._extract_object_property(prop, curies)\n",
      "/mnt/efs/home/iet5740/Projects/GSP/gsp_venv/lib64/python3.7/site-packages/pronto/parsers/rdfxml.py:113: SyntaxWarning: unknown element in `owl:ObjectProperty`: <Element '{http://purl.obolibrary.org/obo/}IAO_0000112' at 0x7fbe854e7dd0>\n",
      "  self._extract_object_property(prop, curies)\n",
      "/mnt/efs/home/iet5740/Projects/GSP/gsp_venv/lib64/python3.7/site-packages/pronto/parsers/rdfxml.py:113: SyntaxWarning: unknown element in `owl:ObjectProperty`: <Element '{http://purl.obolibrary.org/obo/}IAO_0000112' at 0x7fbe854e7e30>\n",
      "  self._extract_object_property(prop, curies)\n",
      "/mnt/efs/home/iet5740/Projects/GSP/gsp_venv/lib64/python3.7/site-packages/pronto/parsers/rdfxml.py:113: SyntaxWarning: unknown element in `owl:ObjectProperty`: <Element '{http://purl.obolibrary.org/obo/}IAO_0000116' at 0x7fbe854e7fb0>\n",
      "  self._extract_object_property(prop, curies)\n",
      "/mnt/efs/home/iet5740/Projects/GSP/gsp_venv/lib64/python3.7/site-packages/pronto/parsers/rdfxml.py:113: SyntaxWarning: unknown element in `owl:ObjectProperty`: <Element '{http://purl.obolibrary.org/obo/}IAO_0000116' at 0x7fbe854e4fb0>\n",
      "  self._extract_object_property(prop, curies)\n",
      "/mnt/efs/home/iet5740/Projects/GSP/gsp_venv/lib64/python3.7/site-packages/pronto/parsers/rdfxml.py:113: SyntaxWarning: unknown element in `owl:ObjectProperty`: <Element '{http://purl.obolibrary.org/obo/}IAO_0000116' at 0x7fbe854e4f50>\n",
      "  self._extract_object_property(prop, curies)\n",
      "/mnt/efs/home/iet5740/Projects/GSP/gsp_venv/lib64/python3.7/site-packages/pronto/parsers/rdfxml.py:113: SyntaxWarning: unknown element in `owl:ObjectProperty`: <Element '{http://purl.obolibrary.org/obo/}IAO_0000116' at 0x7fbe854e4ef0>\n",
      "  self._extract_object_property(prop, curies)\n",
      "/mnt/efs/home/iet5740/Projects/GSP/gsp_venv/lib64/python3.7/site-packages/pronto/parsers/rdfxml.py:113: SyntaxWarning: unknown element in `owl:ObjectProperty`: <Element '{http://purl.obolibrary.org/obo/}IAO_0000118' at 0x7fbe854e4e30>\n",
      "  self._extract_object_property(prop, curies)\n",
      "/mnt/efs/home/iet5740/Projects/GSP/gsp_venv/lib64/python3.7/site-packages/pronto/parsers/rdfxml.py:113: SyntaxWarning: unknown element in `owl:ObjectProperty`: <Element '{http://www.ebi.ac.uk/efo/}EFO_URI' at 0x7fbe854e4710>\n",
      "  self._extract_object_property(prop, curies)\n",
      "/mnt/efs/home/iet5740/Projects/GSP/gsp_venv/lib64/python3.7/site-packages/pronto/parsers/rdfxml.py:113: SyntaxWarning: unknown element in `owl:ObjectProperty`: <Element '{http://www.w3.org/2000/01/rdf-schema#}seeAlso' at 0x7fbe854e2dd0>\n",
      "  self._extract_object_property(prop, curies)\n",
      "/mnt/efs/home/iet5740/Projects/GSP/gsp_venv/lib64/python3.7/site-packages/pronto/parsers/rdfxml.py:113: SyntaxWarning: several names found for 'part_of', using 'part of'\n",
      "  self._extract_object_property(prop, curies)\n",
      "/mnt/efs/home/iet5740/Projects/GSP/gsp_venv/lib64/python3.7/site-packages/pronto/parsers/rdfxml.py:113: SyntaxWarning: unknown element in `owl:ObjectProperty`: <Element '{http://www.ebi.ac.uk/efo/}EFO_URI' at 0x7fbe854e2ad0>\n",
      "  self._extract_object_property(prop, curies)\n",
      "/mnt/efs/home/iet5740/Projects/GSP/gsp_venv/lib64/python3.7/site-packages/pronto/parsers/rdfxml.py:113: SyntaxWarning: several names found for 'has_part', using 'has part'\n",
      "  self._extract_object_property(prop, curies)\n",
      "/mnt/efs/home/iet5740/Projects/GSP/gsp_venv/lib64/python3.7/site-packages/pronto/parsers/rdfxml.py:113: SyntaxWarning: unknown element in `owl:ObjectProperty`: <Element '{http://purl.obolibrary.org/obo/}IAO_0000111' at 0x7fbe854e2710>\n",
      "  self._extract_object_property(prop, curies)\n",
      "/mnt/efs/home/iet5740/Projects/GSP/gsp_venv/lib64/python3.7/site-packages/pronto/parsers/rdfxml.py:113: SyntaxWarning: unknown element in `owl:ObjectProperty`: <Element '{http://purl.obolibrary.org/obo/}IAO_0000112' at 0x7fbe854e26b0>\n",
      "  self._extract_object_property(prop, curies)\n",
      "/mnt/efs/home/iet5740/Projects/GSP/gsp_venv/lib64/python3.7/site-packages/pronto/parsers/rdfxml.py:113: SyntaxWarning: unknown element in `owl:ObjectProperty`: <Element '{http://purl.obolibrary.org/obo/}IAO_0000112' at 0x7fbe854e25f0>\n",
      "  self._extract_object_property(prop, curies)\n",
      "/mnt/efs/home/iet5740/Projects/GSP/gsp_venv/lib64/python3.7/site-packages/pronto/parsers/rdfxml.py:113: SyntaxWarning: unknown element in `owl:ObjectProperty`: <Element '{http://purl.obolibrary.org/obo/}IAO_0000112' at 0x7fbe854e2530>\n",
      "  self._extract_object_property(prop, curies)\n",
      "/mnt/efs/home/iet5740/Projects/GSP/gsp_venv/lib64/python3.7/site-packages/pronto/parsers/rdfxml.py:113: SyntaxWarning: unknown element in `owl:ObjectProperty`: <Element '{http://purl.obolibrary.org/obo/}IAO_0000118' at 0x7fbe854e24d0>\n",
      "  self._extract_object_property(prop, curies)\n",
      "/mnt/efs/home/iet5740/Projects/GSP/gsp_venv/lib64/python3.7/site-packages/pronto/parsers/rdfxml.py:113: SyntaxWarning: unknown element in `owl:ObjectProperty`: <Element '{http://purl.obolibrary.org/obo/}IAO_0000118' at 0x7fbe854e2470>\n",
      "  self._extract_object_property(prop, curies)\n",
      "/mnt/efs/home/iet5740/Projects/GSP/gsp_venv/lib64/python3.7/site-packages/pronto/parsers/rdfxml.py:113: SyntaxWarning: unknown element in `owl:ObjectProperty`: <Element '{http://purl.obolibrary.org/obo/}IAO_0000600' at 0x7fbe854e23b0>\n",
      "  self._extract_object_property(prop, curies)\n",
      "/mnt/efs/home/iet5740/Projects/GSP/gsp_venv/lib64/python3.7/site-packages/pronto/parsers/rdfxml.py:113: SyntaxWarning: unknown element in `owl:ObjectProperty`: <Element '{http://purl.obolibrary.org/obo/}IAO_0000111' at 0x7fbe854e2050>\n",
      "  self._extract_object_property(prop, curies)\n",
      "/mnt/efs/home/iet5740/Projects/GSP/gsp_venv/lib64/python3.7/site-packages/pronto/parsers/rdfxml.py:113: SyntaxWarning: unknown element in `owl:ObjectProperty`: <Element '{http://purl.obolibrary.org/obo/}IAO_0000112' at 0x7fbe854dcfb0>\n",
      "  self._extract_object_property(prop, curies)\n",
      "/mnt/efs/home/iet5740/Projects/GSP/gsp_venv/lib64/python3.7/site-packages/pronto/parsers/rdfxml.py:113: SyntaxWarning: unknown element in `owl:ObjectProperty`: <Element '{http://purl.obolibrary.org/obo/}IAO_0000112' at 0x7fbe854dcef0>\n",
      "  self._extract_object_property(prop, curies)\n",
      "/mnt/efs/home/iet5740/Projects/GSP/gsp_venv/lib64/python3.7/site-packages/pronto/parsers/rdfxml.py:113: SyntaxWarning: unknown element in `owl:ObjectProperty`: <Element '{http://purl.obolibrary.org/obo/}IAO_0000112' at 0x7fbe854dce90>\n",
      "  self._extract_object_property(prop, curies)\n",
      "/mnt/efs/home/iet5740/Projects/GSP/gsp_venv/lib64/python3.7/site-packages/pronto/parsers/rdfxml.py:113: SyntaxWarning: unknown element in `owl:ObjectProperty`: <Element '{http://purl.obolibrary.org/obo/}IAO_0000600' at 0x7fbe854dcdd0>\n",
      "  self._extract_object_property(prop, curies)\n",
      "/mnt/efs/home/iet5740/Projects/GSP/gsp_venv/lib64/python3.7/site-packages/pronto/parsers/rdfxml.py:113: SyntaxWarning: unknown element in `owl:ObjectProperty`: <Element '{http://www.w3.org/2002/07/owl#}equivalentProperty' at 0x7fbe854dc350>\n",
      "  self._extract_object_property(prop, curies)\n",
      "/mnt/efs/home/iet5740/Projects/GSP/gsp_venv/lib64/python3.7/site-packages/pronto/parsers/rdfxml.py:113: SyntaxWarning: unknown element in `owl:ObjectProperty`: <Element '{http://purl.obolibrary.org/obo/}IAO_0000111' at 0x7fbe854da290>\n",
      "  self._extract_object_property(prop, curies)\n",
      "/mnt/efs/home/iet5740/Projects/GSP/gsp_venv/lib64/python3.7/site-packages/pronto/parsers/rdfxml.py:113: SyntaxWarning: unknown element in `owl:ObjectProperty`: <Element '{http://purl.obolibrary.org/obo/}IAO_0000111' at 0x7fbe854da2f0>\n",
      "  self._extract_object_property(prop, curies)\n",
      "/mnt/efs/home/iet5740/Projects/GSP/gsp_venv/lib64/python3.7/site-packages/pronto/parsers/rdfxml.py:113: SyntaxWarning: unknown element in `owl:ObjectProperty`: <Element '{http://purl.obolibrary.org/obo/}IAO_0000112' at 0x7fbe854da350>\n",
      "  self._extract_object_property(prop, curies)\n",
      "/mnt/efs/home/iet5740/Projects/GSP/gsp_venv/lib64/python3.7/site-packages/pronto/parsers/rdfxml.py:113: SyntaxWarning: unknown element in `owl:ObjectProperty`: <Element '{http://purl.obolibrary.org/obo/}IAO_0000116' at 0x7fbe854da590>\n",
      "  self._extract_object_property(prop, curies)\n",
      "/mnt/efs/home/iet5740/Projects/GSP/gsp_venv/lib64/python3.7/site-packages/pronto/parsers/rdfxml.py:113: SyntaxWarning: unknown element in `owl:ObjectProperty`: <Element '{http://purl.obolibrary.org/obo/}IAO_0000117' at 0x7fbe854da5f0>\n",
      "  self._extract_object_property(prop, curies)\n",
      "/mnt/efs/home/iet5740/Projects/GSP/gsp_venv/lib64/python3.7/site-packages/pronto/parsers/rdfxml.py:113: SyntaxWarning: unknown element in `owl:ObjectProperty`: <Element '{http://purl.obolibrary.org/obo/}IAO_0000117' at 0x7fbe854da650>\n",
      "  self._extract_object_property(prop, curies)\n",
      "/mnt/efs/home/iet5740/Projects/GSP/gsp_venv/lib64/python3.7/site-packages/pronto/parsers/rdfxml.py:113: SyntaxWarning: unknown element in `owl:ObjectProperty`: <Element '{http://purl.obolibrary.org/obo/}IAO_0000117' at 0x7fbe854da6b0>\n",
      "  self._extract_object_property(prop, curies)\n",
      "/mnt/efs/home/iet5740/Projects/GSP/gsp_venv/lib64/python3.7/site-packages/pronto/parsers/rdfxml.py:113: SyntaxWarning: unknown element in `owl:ObjectProperty`: <Element '{http://purl.obolibrary.org/obo/}IAO_0000117' at 0x7fbe854da710>\n",
      "  self._extract_object_property(prop, curies)\n",
      "/mnt/efs/home/iet5740/Projects/GSP/gsp_venv/lib64/python3.7/site-packages/pronto/parsers/rdfxml.py:113: SyntaxWarning: unknown element in `owl:ObjectProperty`: <Element '{http://www.ebi.ac.uk/efo/}EFO_URI' at 0x7fbe854da890>\n",
      "  self._extract_object_property(prop, curies)\n",
      "/mnt/efs/home/iet5740/Projects/GSP/gsp_venv/lib64/python3.7/site-packages/pronto/parsers/rdfxml.py:113: SyntaxWarning: several names found for 'OBI:0000293', using 'has_input'\n",
      "  self._extract_object_property(prop, curies)\n",
      "/mnt/efs/home/iet5740/Projects/GSP/gsp_venv/lib64/python3.7/site-packages/pronto/parsers/rdfxml.py:113: SyntaxWarning: unknown element in `owl:ObjectProperty`: <Element '{http://purl.obolibrary.org/obo/}IAO_0000111' at 0x7fbe854dad10>\n",
      "  self._extract_object_property(prop, curies)\n",
      "/mnt/efs/home/iet5740/Projects/GSP/gsp_venv/lib64/python3.7/site-packages/pronto/parsers/rdfxml.py:113: SyntaxWarning: unknown element in `owl:ObjectProperty`: <Element '{http://purl.obolibrary.org/obo/}IAO_0000112' at 0x7fbe854dad70>\n",
      "  self._extract_object_property(prop, curies)\n",
      "/mnt/efs/home/iet5740/Projects/GSP/gsp_venv/lib64/python3.7/site-packages/pronto/parsers/rdfxml.py:113: SyntaxWarning: unknown element in `owl:ObjectProperty`: <Element '{http://purl.obolibrary.org/obo/}IAO_0000117' at 0x7fbe854daef0>\n",
      "  self._extract_object_property(prop, curies)\n",
      "/mnt/efs/home/iet5740/Projects/GSP/gsp_venv/lib64/python3.7/site-packages/pronto/parsers/rdfxml.py:113: SyntaxWarning: unknown element in `owl:ObjectProperty`: <Element '{http://purl.obolibrary.org/obo/}IAO_0000117' at 0x7fbe854daf50>\n",
      "  self._extract_object_property(prop, curies)\n",
      "/mnt/efs/home/iet5740/Projects/GSP/gsp_venv/lib64/python3.7/site-packages/pronto/parsers/rdfxml.py:113: SyntaxWarning: unknown element in `owl:ObjectProperty`: <Element '{http://www.ebi.ac.uk/efo/}EFO_URI' at 0x7fbe854dafb0>\n",
      "  self._extract_object_property(prop, curies)\n",
      "/mnt/efs/home/iet5740/Projects/GSP/gsp_venv/lib64/python3.7/site-packages/pronto/parsers/rdfxml.py:113: SyntaxWarning: several names found for 'OBI:0000295', using 'is_input_of'\n",
      "  self._extract_object_property(prop, curies)\n",
      "/mnt/efs/home/iet5740/Projects/GSP/gsp_venv/lib64/python3.7/site-packages/pronto/parsers/rdfxml.py:113: SyntaxWarning: unknown element in `owl:ObjectProperty`: <Element '{http://purl.obolibrary.org/obo/}IAO_0000111' at 0x7fbe854bd2f0>\n",
      "  self._extract_object_property(prop, curies)\n",
      "/mnt/efs/home/iet5740/Projects/GSP/gsp_venv/lib64/python3.7/site-packages/pronto/parsers/rdfxml.py:113: SyntaxWarning: unknown element in `owl:ObjectProperty`: <Element '{http://purl.obolibrary.org/obo/}IAO_0000111' at 0x7fbe854bd350>\n",
      "  self._extract_object_property(prop, curies)\n",
      "/mnt/efs/home/iet5740/Projects/GSP/gsp_venv/lib64/python3.7/site-packages/pronto/parsers/rdfxml.py:113: SyntaxWarning: unknown element in `owl:ObjectProperty`: <Element '{http://purl.obolibrary.org/obo/}IAO_0000117' at 0x7fbe854bd530>\n",
      "  self._extract_object_property(prop, curies)\n",
      "/mnt/efs/home/iet5740/Projects/GSP/gsp_venv/lib64/python3.7/site-packages/pronto/parsers/rdfxml.py:113: SyntaxWarning: unknown element in `owl:ObjectProperty`: <Element '{http://purl.obolibrary.org/obo/}IAO_0000117' at 0x7fbe854bd590>\n",
      "  self._extract_object_property(prop, curies)\n",
      "/mnt/efs/home/iet5740/Projects/GSP/gsp_venv/lib64/python3.7/site-packages/pronto/parsers/rdfxml.py:113: SyntaxWarning: unknown element in `owl:ObjectProperty`: <Element '{http://purl.obolibrary.org/obo/}IAO_0000117' at 0x7fbe854bd5f0>\n",
      "  self._extract_object_property(prop, curies)\n",
      "/mnt/efs/home/iet5740/Projects/GSP/gsp_venv/lib64/python3.7/site-packages/pronto/parsers/rdfxml.py:113: SyntaxWarning: unknown element in `owl:ObjectProperty`: <Element '{http://purl.obolibrary.org/obo/}IAO_0000117' at 0x7fbe854bd650>\n",
      "  self._extract_object_property(prop, curies)\n",
      "/mnt/efs/home/iet5740/Projects/GSP/gsp_venv/lib64/python3.7/site-packages/pronto/parsers/rdfxml.py:113: SyntaxWarning: several names found for 'OBI:0000299', using 'has_output'\n",
      "  self._extract_object_property(prop, curies)\n",
      "/mnt/efs/home/iet5740/Projects/GSP/gsp_venv/lib64/python3.7/site-packages/pronto/parsers/rdfxml.py:113: SyntaxWarning: unknown element in `owl:ObjectProperty`: <Element '{http://purl.obolibrary.org/obo/}IAO_0000111' at 0x7fbe854bd8f0>\n",
      "  self._extract_object_property(prop, curies)\n",
      "/mnt/efs/home/iet5740/Projects/GSP/gsp_venv/lib64/python3.7/site-packages/pronto/parsers/rdfxml.py:113: SyntaxWarning: unknown element in `owl:ObjectProperty`: <Element '{http://purl.obolibrary.org/obo/}IAO_0000116' at 0x7fbe854bda70>\n",
      "  self._extract_object_property(prop, curies)\n",
      "/mnt/efs/home/iet5740/Projects/GSP/gsp_venv/lib64/python3.7/site-packages/pronto/parsers/rdfxml.py:113: SyntaxWarning: unknown element in `owl:ObjectProperty`: <Element '{http://purl.obolibrary.org/obo/}IAO_0000117' at 0x7fbe854bdad0>\n",
      "  self._extract_object_property(prop, curies)\n",
      "/mnt/efs/home/iet5740/Projects/GSP/gsp_venv/lib64/python3.7/site-packages/pronto/parsers/rdfxml.py:113: SyntaxWarning: unknown element in `owl:ObjectProperty`: <Element '{http://purl.obolibrary.org/obo/}IAO_0000117' at 0x7fbe854bdb30>\n",
      "  self._extract_object_property(prop, curies)\n",
      "/mnt/efs/home/iet5740/Projects/GSP/gsp_venv/lib64/python3.7/site-packages/pronto/parsers/rdfxml.py:113: SyntaxWarning: unknown element in `owl:ObjectProperty`: <Element '{http://purl.obolibrary.org/obo/}IAO_0000118' at 0x7fbe854bdb90>\n",
      "  self._extract_object_property(prop, curies)\n",
      "/mnt/efs/home/iet5740/Projects/GSP/gsp_venv/lib64/python3.7/site-packages/pronto/parsers/rdfxml.py:113: SyntaxWarning: unknown element in `owl:ObjectProperty`: <Element '{http://purl.obolibrary.org/obo/}IAO_0000118' at 0x7fbe854bdbf0>\n",
      "  self._extract_object_property(prop, curies)\n",
      "/mnt/efs/home/iet5740/Projects/GSP/gsp_venv/lib64/python3.7/site-packages/pronto/parsers/rdfxml.py:113: SyntaxWarning: unknown element in `owl:ObjectProperty`: <Element '{http://purl.obolibrary.org/obo/}IAO_0000118' at 0x7fbe854bdc50>\n",
      "  self._extract_object_property(prop, curies)\n",
      "/mnt/efs/home/iet5740/Projects/GSP/gsp_venv/lib64/python3.7/site-packages/pronto/parsers/rdfxml.py:113: SyntaxWarning: unknown element in `owl:ObjectProperty`: <Element '{http://purl.obolibrary.org/obo/}IAO_0000111' at 0x7fbe854bdfb0>\n",
      "  self._extract_object_property(prop, curies)\n",
      "/mnt/efs/home/iet5740/Projects/GSP/gsp_venv/lib64/python3.7/site-packages/pronto/parsers/rdfxml.py:113: SyntaxWarning: unknown element in `owl:ObjectProperty`: <Element '{http://purl.obolibrary.org/obo/}IAO_0000112' at 0x7fbe854cefb0>\n",
      "  self._extract_object_property(prop, curies)\n",
      "/mnt/efs/home/iet5740/Projects/GSP/gsp_venv/lib64/python3.7/site-packages/pronto/parsers/rdfxml.py:113: SyntaxWarning: unknown element in `owl:ObjectProperty`: <Element '{http://purl.obolibrary.org/obo/}IAO_0000116' at 0x7fbe854ced10>\n",
      "  self._extract_object_property(prop, curies)\n",
      "/mnt/efs/home/iet5740/Projects/GSP/gsp_venv/lib64/python3.7/site-packages/pronto/parsers/rdfxml.py:113: SyntaxWarning: unknown element in `owl:ObjectProperty`: <Element '{http://purl.obolibrary.org/obo/}IAO_0000117' at 0x7fbe854cecb0>\n",
      "  self._extract_object_property(prop, curies)\n",
      "/mnt/efs/home/iet5740/Projects/GSP/gsp_venv/lib64/python3.7/site-packages/pronto/parsers/rdfxml.py:113: SyntaxWarning: unknown element in `owl:ObjectProperty`: <Element '{http://purl.obolibrary.org/obo/}IAO_0000117' at 0x7fbe854cec50>\n",
      "  self._extract_object_property(prop, curies)\n",
      "/mnt/efs/home/iet5740/Projects/GSP/gsp_venv/lib64/python3.7/site-packages/pronto/parsers/rdfxml.py:113: SyntaxWarning: unknown element in `owl:ObjectProperty`: <Element '{http://purl.obolibrary.org/obo/}IAO_0000118' at 0x7fbe854cebf0>\n",
      "  self._extract_object_property(prop, curies)\n",
      "/mnt/efs/home/iet5740/Projects/GSP/gsp_venv/lib64/python3.7/site-packages/pronto/parsers/rdfxml.py:113: SyntaxWarning: unknown element in `owl:ObjectProperty`: <Element '{http://purl.obolibrary.org/obo/}IAO_0000118' at 0x7fbe854ceb90>\n",
      "  self._extract_object_property(prop, curies)\n",
      "/mnt/efs/home/iet5740/Projects/GSP/gsp_venv/lib64/python3.7/site-packages/pronto/parsers/rdfxml.py:113: SyntaxWarning: unknown element in `owl:ObjectProperty`: <Element '{http://purl.obolibrary.org/obo/}IAO_0000118' at 0x7fbe854ceb30>\n",
      "  self._extract_object_property(prop, curies)\n",
      "/mnt/efs/home/iet5740/Projects/GSP/gsp_venv/lib64/python3.7/site-packages/pronto/parsers/rdfxml.py:113: SyntaxWarning: unknown element in `owl:ObjectProperty`: <Element '{http://purl.obolibrary.org/obo/}IAO_0000118' at 0x7fbe854cead0>\n",
      "  self._extract_object_property(prop, curies)\n",
      "/mnt/efs/home/iet5740/Projects/GSP/gsp_venv/lib64/python3.7/site-packages/pronto/parsers/rdfxml.py:113: SyntaxWarning: unknown element in `owl:ObjectProperty`: <Element '{http://purl.obolibrary.org/obo/}IAO_0000111' at 0x7fbe854ce5f0>\n",
      "  self._extract_object_property(prop, curies)\n",
      "/mnt/efs/home/iet5740/Projects/GSP/gsp_venv/lib64/python3.7/site-packages/pronto/parsers/rdfxml.py:113: SyntaxWarning: unknown element in `owl:ObjectProperty`: <Element '{http://purl.obolibrary.org/obo/}IAO_0000112' at 0x7fbe854ce590>\n",
      "  self._extract_object_property(prop, curies)\n",
      "/mnt/efs/home/iet5740/Projects/GSP/gsp_venv/lib64/python3.7/site-packages/pronto/parsers/rdfxml.py:113: SyntaxWarning: unknown element in `owl:ObjectProperty`: <Element '{http://purl.obolibrary.org/obo/}IAO_0000112' at 0x7fbe854ce4d0>\n",
      "  self._extract_object_property(prop, curies)\n",
      "/mnt/efs/home/iet5740/Projects/GSP/gsp_venv/lib64/python3.7/site-packages/pronto/parsers/rdfxml.py:113: SyntaxWarning: unknown element in `owl:ObjectProperty`: <Element '{http://purl.obolibrary.org/obo/}IAO_0000112' at 0x7fbe854ce410>\n",
      "  self._extract_object_property(prop, curies)\n",
      "/mnt/efs/home/iet5740/Projects/GSP/gsp_venv/lib64/python3.7/site-packages/pronto/parsers/rdfxml.py:113: SyntaxWarning: unknown element in `owl:ObjectProperty`: <Element '{http://purl.obolibrary.org/obo/}IAO_0000112' at 0x7fbe854ce350>\n",
      "  self._extract_object_property(prop, curies)\n",
      "/mnt/efs/home/iet5740/Projects/GSP/gsp_venv/lib64/python3.7/site-packages/pronto/parsers/rdfxml.py:113: SyntaxWarning: unknown element in `owl:ObjectProperty`: <Element '{http://purl.obolibrary.org/obo/}IAO_0000116' at 0x7fbe854ce230>\n",
      "  self._extract_object_property(prop, curies)\n",
      "/mnt/efs/home/iet5740/Projects/GSP/gsp_venv/lib64/python3.7/site-packages/pronto/parsers/rdfxml.py:113: SyntaxWarning: unknown element in `owl:ObjectProperty`: <Element '{http://purl.obolibrary.org/obo/}IAO_0000118' at 0x7fbe854ce1d0>\n",
      "  self._extract_object_property(prop, curies)\n",
      "/mnt/efs/home/iet5740/Projects/GSP/gsp_venv/lib64/python3.7/site-packages/pronto/parsers/rdfxml.py:113: SyntaxWarning: unknown element in `owl:ObjectProperty`: <Element '{http://www.ebi.ac.uk/efo/}EFO_URI' at 0x7fbe854ce0b0>\n",
      "  self._extract_object_property(prop, curies)\n",
      "/mnt/efs/home/iet5740/Projects/GSP/gsp_venv/lib64/python3.7/site-packages/pronto/parsers/rdfxml.py:113: SyntaxWarning: several names found for 'characteristic_of', using 'characteristic of'\n",
      "  self._extract_object_property(prop, curies)\n",
      "/mnt/efs/home/iet5740/Projects/GSP/gsp_venv/lib64/python3.7/site-packages/pronto/parsers/rdfxml.py:113: SyntaxWarning: unknown element in `owl:ObjectProperty`: <Element '{http://www.ebi.ac.uk/efo/}EFO_URI' at 0x7fbe854c7530>\n",
      "  self._extract_object_property(prop, curies)\n",
      "/mnt/efs/home/iet5740/Projects/GSP/gsp_venv/lib64/python3.7/site-packages/pronto/parsers/rdfxml.py:113: SyntaxWarning: several names found for 'has_characteristic', using 'bearer_of'\n",
      "  self._extract_object_property(prop, curies)\n",
      "/mnt/efs/home/iet5740/Projects/GSP/gsp_venv/lib64/python3.7/site-packages/pronto/parsers/rdfxml.py:113: SyntaxWarning: unknown element in `owl:ObjectProperty`: <Element '{http://www.ebi.ac.uk/efo/}EFO_URI' at 0x7fbe854b4050>\n",
      "  self._extract_object_property(prop, curies)\n",
      "/mnt/efs/home/iet5740/Projects/GSP/gsp_venv/lib64/python3.7/site-packages/pronto/parsers/rdfxml.py:113: SyntaxWarning: unknown element in `owl:ObjectProperty`: <Element '{http://www.ebi.ac.uk/efo/}EFO_URI' at 0x7fbe854b43b0>\n",
      "  self._extract_object_property(prop, curies)\n",
      "/mnt/efs/home/iet5740/Projects/GSP/gsp_venv/lib64/python3.7/site-packages/pronto/parsers/rdfxml.py:113: SyntaxWarning: unknown element in `owl:ObjectProperty`: <Element '{http://www.ebi.ac.uk/efo/}EFO_URI' at 0x7fbe854b4710>\n",
      "  self._extract_object_property(prop, curies)\n",
      "/mnt/efs/home/iet5740/Projects/GSP/gsp_venv/lib64/python3.7/site-packages/pronto/parsers/rdfxml.py:113: SyntaxWarning: unknown element in `owl:ObjectProperty`: <Element '{http://www.ebi.ac.uk/efo/}EFO_URI' at 0x7fbe854b4950>\n",
      "  self._extract_object_property(prop, curies)\n",
      "/mnt/efs/home/iet5740/Projects/GSP/gsp_venv/lib64/python3.7/site-packages/pronto/parsers/rdfxml.py:113: SyntaxWarning: unknown element in `owl:ObjectProperty`: <Element '{http://www.ebi.ac.uk/efo/}EFO_URI' at 0x7fbe854b4bf0>\n",
      "  self._extract_object_property(prop, curies)\n",
      "/mnt/efs/home/iet5740/Projects/GSP/gsp_venv/lib64/python3.7/site-packages/pronto/parsers/rdfxml.py:113: SyntaxWarning: unknown element in `owl:ObjectProperty`: <Element '{http://www.ebi.ac.uk/efo/}EFO_URI' at 0x7fbe854cf170>\n",
      "  self._extract_object_property(prop, curies)\n",
      "/mnt/efs/home/iet5740/Projects/GSP/gsp_venv/lib64/python3.7/site-packages/pronto/parsers/rdfxml.py:113: SyntaxWarning: unknown element in `owl:ObjectProperty`: <Element '{http://www.ebi.ac.uk/efo/}EFO_URI' at 0x7fbe854cf350>\n",
      "  self._extract_object_property(prop, curies)\n",
      "/mnt/efs/home/iet5740/Projects/GSP/gsp_venv/lib64/python3.7/site-packages/pronto/parsers/rdfxml.py:113: SyntaxWarning: unknown element in `owl:ObjectProperty`: <Element '{http://www.ebi.ac.uk/efo/}EFO_URI' at 0x7fbe854cf6b0>\n",
      "  self._extract_object_property(prop, curies)\n",
      "/mnt/efs/home/iet5740/Projects/GSP/gsp_venv/lib64/python3.7/site-packages/pronto/parsers/rdfxml.py:113: SyntaxWarning: several names found for 'only_in_taxon', using 'only in taxon'\n",
      "  self._extract_object_property(prop, curies)\n",
      "/mnt/efs/home/iet5740/Projects/GSP/gsp_venv/lib64/python3.7/site-packages/pronto/ontology.py:283: SyntaxWarning: several names found for 'qualifier', concatenating\n",
      "  cls(self).parse_from(_handle)  # type: ignore\n",
      "/mnt/efs/home/iet5740/Projects/GSP/gsp_venv/lib64/python3.7/site-packages/pronto/parsers/rdfxml.py:113: SyntaxWarning: unknown element in `owl:ObjectProperty`: <Element '{http://purl.obolibrary.org/obo/}IAO_0000117' at 0x7fbe854b1b30>\n",
      "  self._extract_object_property(prop, curies)\n",
      "/mnt/efs/home/iet5740/Projects/GSP/gsp_venv/lib64/python3.7/site-packages/pronto/parsers/rdfxml.py:113: SyntaxWarning: unknown element in `owl:ObjectProperty`: <Element '{http://www.w3.org/2002/07/owl#}propertyChainAxiom' at 0x7fbe854b1e30>\n",
      "  self._extract_object_property(prop, curies)\n",
      "/mnt/efs/home/iet5740/Projects/GSP/gsp_venv/lib64/python3.7/site-packages/pronto/parsers/rdfxml.py:113: SyntaxWarning: unknown element in `owl:ObjectProperty`: <Element '{http://www.w3.org/2002/07/owl#}propertyChainAxiom' at 0x7fbe854c0fb0>\n",
      "  self._extract_object_property(prop, curies)\n",
      "/mnt/efs/home/iet5740/Projects/GSP/gsp_venv/lib64/python3.7/site-packages/pronto/parsers/rdfxml.py:113: SyntaxWarning: unknown element in `owl:ObjectProperty`: <Element '{http://www.w3.org/2002/07/owl#}propertyChainAxiom' at 0x7fbe854c06b0>\n",
      "  self._extract_object_property(prop, curies)\n",
      "/mnt/efs/home/iet5740/Projects/GSP/gsp_venv/lib64/python3.7/site-packages/pronto/parsers/rdfxml.py:113: SyntaxWarning: unknown element in `owl:ObjectProperty`: <Element '{http://purl.obolibrary.org/obo/}IAO_0000116' at 0x7fbe854c0470>\n",
      "  self._extract_object_property(prop, curies)\n",
      "/mnt/efs/home/iet5740/Projects/GSP/gsp_venv/lib64/python3.7/site-packages/pronto/parsers/rdfxml.py:113: SyntaxWarning: unknown element in `owl:ObjectProperty`: <Element '{http://purl.obolibrary.org/obo/}IAO_0000112' at 0x7fbe854c0170>\n",
      "  self._extract_object_property(prop, curies)\n",
      "/mnt/efs/home/iet5740/Projects/GSP/gsp_venv/lib64/python3.7/site-packages/pronto/parsers/rdfxml.py:113: SyntaxWarning: unknown element in `owl:ObjectProperty`: <Element '{http://www.ebi.ac.uk/efo/}EFO_URI' at 0x7fbec8481bf0>\n",
      "  self._extract_object_property(prop, curies)\n",
      "/mnt/efs/home/iet5740/Projects/GSP/gsp_venv/lib64/python3.7/site-packages/pronto/ontology.py:283: NotImplementedWarning: cannot process plain `owl:AnnotationProperty`\n",
      "  cls(self).parse_from(_handle)  # type: ignore\n",
      "/mnt/efs/home/iet5740/Projects/GSP/gsp_venv/lib64/python3.7/site-packages/pronto/parsers/rdfxml.py:117: SyntaxWarning: several names found for 'http://dbpedia.org/resource/China', using 'China'\n",
      "  self._extract_term(class_, curies)\n",
      "/mnt/efs/home/iet5740/Projects/GSP/gsp_venv/lib64/python3.7/site-packages/pronto/parsers/rdfxml.py:117: SyntaxWarning: several names found for 'http://dbpedia.org/resource/India', using 'India'\n",
      "  self._extract_term(class_, curies)\n",
      "/mnt/efs/home/iet5740/Projects/GSP/gsp_venv/lib64/python3.7/site-packages/pronto/parsers/rdfxml.py:117: SyntaxWarning: several names found for 'http://dbpedia.org/resource/Japan', using 'Japan'\n",
      "  self._extract_term(class_, curies)\n",
      "/mnt/efs/home/iet5740/Projects/GSP/gsp_venv/lib64/python3.7/site-packages/pronto/parsers/rdfxml.py:117: SyntaxWarning: unknown element in `owl:Class`: {http://purl.obolibrary.org/obo/}IAO_0000118\n",
      "  self._extract_term(class_, curies)\n",
      "/mnt/efs/home/iet5740/Projects/GSP/gsp_venv/lib64/python3.7/site-packages/pronto/parsers/rdfxml.py:117: SyntaxWarning: several names found for 'http://dbpedia.org/resource/Philippines', using 'Philippines'\n",
      "  self._extract_term(class_, curies)\n",
      "/mnt/efs/home/iet5740/Projects/GSP/gsp_venv/lib64/python3.7/site-packages/pronto/parsers/rdfxml.py:117: SyntaxWarning: several names found for 'http://dbpedia.org/resource/Republic_of_Ireland', using 'Republic of Ireland'\n",
      "  self._extract_term(class_, curies)\n",
      "/mnt/efs/home/iet5740/Projects/GSP/gsp_venv/lib64/python3.7/site-packages/pronto/parsers/rdfxml.py:117: SyntaxWarning: unknown element in `owl:Class`: {http://purl.obolibrary.org/obo/}IAO_0000117\n",
      "  self._extract_term(class_, curies)\n",
      "/mnt/efs/home/iet5740/Projects/GSP/gsp_venv/lib64/python3.7/site-packages/pronto/parsers/rdfxml.py:117: SyntaxWarning: unknown element in `owl:Class`: {http://www.ebi.ac.uk/efo/}EFO_URI\n",
      "  self._extract_term(class_, curies)\n",
      "/mnt/efs/home/iet5740/Projects/GSP/gsp_venv/lib64/python3.7/site-packages/pronto/parsers/rdfxml.py:117: SyntaxWarning: unknown element in `owl:Class`: {http://www.ebi.ac.uk/efo/}organizational_class\n",
      "  self._extract_term(class_, curies)\n",
      "/mnt/efs/home/iet5740/Projects/GSP/gsp_venv/lib64/python3.7/site-packages/pronto/parsers/rdfxml.py:117: SyntaxWarning: unknown element in `owl:Class`: {http://www.ebi.ac.uk/efo/}source_definition\n",
      "  self._extract_term(class_, curies)\n",
      "/mnt/efs/home/iet5740/Projects/GSP/gsp_venv/lib64/python3.7/site-packages/pronto/parsers/rdfxml.py:117: SyntaxWarning: unknown element in `owl:Class`: {http://purl.obolibrary.org/obo/}IAO_0000112\n",
      "  self._extract_term(class_, curies)\n",
      "/mnt/efs/home/iet5740/Projects/GSP/gsp_venv/lib64/python3.7/site-packages/pronto/parsers/rdfxml.py:117: SyntaxWarning: unknown element in `owl:Class`: {http://www.ebi.ac.uk/efo/}ArrayExpress_label\n",
      "  self._extract_term(class_, curies)\n",
      "/mnt/efs/home/iet5740/Projects/GSP/gsp_venv/lib64/python3.7/site-packages/pronto/parsers/rdfxml.py:117: SyntaxWarning: unknown element in `owl:Class`: {http://www.ebi.ac.uk/efo/}branch_class\n",
      "  self._extract_term(class_, curies)\n",
      "/mnt/efs/home/iet5740/Projects/GSP/gsp_venv/lib64/python3.7/site-packages/pronto/parsers/rdfxml.py:117: SyntaxWarning: could not extract target IRI from `owl:Restriction`\n",
      "  self._extract_term(class_, curies)\n",
      "/mnt/efs/home/iet5740/Projects/GSP/gsp_venv/lib64/python3.7/site-packages/pronto/parsers/rdfxml.py:117: SyntaxWarning: cannot process `rdfs:subClassOf` in this context\n",
      "  self._extract_term(class_, curies)\n",
      "/mnt/efs/home/iet5740/Projects/GSP/gsp_venv/lib64/python3.7/site-packages/pronto/parsers/rdfxml.py:117: SyntaxWarning: unknown element in `owl:Class`: {http://www.w3.org/2002/07/owl#}equivalentClass\n",
      "  self._extract_term(class_, curies)\n",
      "/mnt/efs/home/iet5740/Projects/GSP/gsp_venv/lib64/python3.7/site-packages/pronto/parsers/rdfxml.py:117: SyntaxWarning: unknown element in `owl:Class`: {http://www.ebi.ac.uk/efo/}definition_citation\n",
      "  self._extract_term(class_, curies)\n",
      "/mnt/efs/home/iet5740/Projects/GSP/gsp_venv/lib64/python3.7/site-packages/pronto/parsers/rdfxml.py:117: SyntaxWarning: unknown element in `owl:Class`: {http://purl.obolibrary.org/obo/}namespace\n",
      "  self._extract_term(class_, curies)\n",
      "/mnt/efs/home/iet5740/Projects/GSP/gsp_venv/lib64/python3.7/site-packages/pronto/parsers/rdfxml.py:117: SyntaxWarning: no datatype in `IAO:0100001` annotation\n",
      "  self._extract_term(class_, curies)\n",
      "/mnt/efs/home/iet5740/Projects/GSP/gsp_venv/lib64/python3.7/site-packages/pronto/parsers/rdfxml.py:117: SyntaxWarning: unknown element in `owl:Class`: {http://www.ebi.ac.uk/efo/}obsoleted_in_version\n",
      "  self._extract_term(class_, curies)\n",
      "/mnt/efs/home/iet5740/Projects/GSP/gsp_venv/lib64/python3.7/site-packages/pronto/parsers/rdfxml.py:117: SyntaxWarning: unknown element in `owl:Class`: {http://www.ebi.ac.uk/efo/}reason_for_obsolescence\n",
      "  self._extract_term(class_, curies)\n"
     ]
    },
    {
     "name": "stderr",
     "output_type": "stream",
     "text": [
      "/mnt/efs/home/iet5740/Projects/GSP/gsp_venv/lib64/python3.7/site-packages/pronto/parsers/rdfxml.py:117: SyntaxWarning: unknown element in `owl:Class`: {http://www.w3.org/2000/01/rdf-schema#}seeAlso\n",
      "  self._extract_term(class_, curies)\n",
      "/mnt/efs/home/iet5740/Projects/GSP/gsp_venv/lib64/python3.7/site-packages/pronto/parsers/rdfxml.py:117: SyntaxWarning: unknown element in `owl:Class`: {http://purl.obolibrary.org/obo/}IAO_0000116\n",
      "  self._extract_term(class_, curies)\n",
      "/mnt/efs/home/iet5740/Projects/GSP/gsp_venv/lib64/python3.7/site-packages/pronto/parsers/rdfxml.py:117: SyntaxWarning: unknown element in `owl:Class`: {http://purl.obolibrary.org/obo/}IAO_0000233\n",
      "  self._extract_term(class_, curies)\n",
      "/mnt/efs/home/iet5740/Projects/GSP/gsp_venv/lib64/python3.7/site-packages/pronto/parsers/rdfxml.py:117: SyntaxWarning: no datatype in `oboInOwl:consider` annotation\n",
      "  self._extract_term(class_, curies)\n",
      "/mnt/efs/home/iet5740/Projects/GSP/gsp_venv/lib64/python3.7/site-packages/pronto/parsers/rdfxml.py:117: SyntaxWarning: unknown element in `owl:Class`: {http://purl.obolibrary.org/obo/}IAO_0000119\n",
      "  self._extract_term(class_, curies)\n",
      "/mnt/efs/home/iet5740/Projects/GSP/gsp_venv/lib64/python3.7/site-packages/pronto/parsers/rdfxml.py:117: SyntaxWarning: unknown element in `owl:Class`: {http://purl.obolibrary.org/obo/}IAO_0000589\n",
      "  self._extract_term(class_, curies)\n",
      "/mnt/efs/home/iet5740/Projects/GSP/gsp_venv/lib64/python3.7/site-packages/pronto/parsers/rdfxml.py:117: SyntaxWarning: unknown element in `owl:Class`: {http://purl.obolibrary.org/obo/ncbitaxon#}has_rank\n",
      "  self._extract_term(class_, curies)\n",
      "/mnt/efs/home/iet5740/Projects/GSP/gsp_venv/lib64/python3.7/site-packages/pronto/parsers/rdfxml.py:117: SyntaxWarning: unknown element in `owl:Class`: {http://purl.org/dc/terms/}contributor\n",
      "  self._extract_term(class_, curies)\n",
      "/mnt/efs/home/iet5740/Projects/GSP/gsp_venv/lib64/python3.7/site-packages/pronto/parsers/rdfxml.py:117: SyntaxWarning: unknown element in `owl:Class`: {http://purl.obolibrary.org/obo/}IAO_0000111\n",
      "  self._extract_term(class_, curies)\n",
      "/mnt/efs/home/iet5740/Projects/GSP/gsp_venv/lib64/python3.7/site-packages/pronto/parsers/rdfxml.py:117: SyntaxWarning: several names found for 'OBI:0000018', using 'material supplier role'\n",
      "  self._extract_term(class_, curies)\n",
      "/mnt/efs/home/iet5740/Projects/GSP/gsp_venv/lib64/python3.7/site-packages/pronto/parsers/rdfxml.py:117: SyntaxWarning: unknown element in `owl:Class`: {http://purl.obolibrary.org/obo/}IAO_0000232\n",
      "  self._extract_term(class_, curies)\n",
      "/mnt/efs/home/iet5740/Projects/GSP/gsp_venv/lib64/python3.7/site-packages/pronto/parsers/rdfxml.py:117: SyntaxWarning: unknown element in `owl:Class`: {http://purl.obolibrary.org/obo/}OBI_0001847\n",
      "  self._extract_term(class_, curies)\n",
      "/mnt/efs/home/iet5740/Projects/GSP/gsp_venv/lib64/python3.7/site-packages/pronto/parsers/rdfxml.py:117: SyntaxWarning: several names found for 'OBI:0000066', using 'investigation'\n",
      "  self._extract_term(class_, curies)\n",
      "/mnt/efs/home/iet5740/Projects/GSP/gsp_venv/lib64/python3.7/site-packages/pronto/parsers/rdfxml.py:117: SyntaxWarning: unknown element in `owl:Class`: {http://purl.obolibrary.org/obo/}OBI_9991118\n",
      "  self._extract_term(class_, curies)\n",
      "/mnt/efs/home/iet5740/Projects/GSP/gsp_venv/lib64/python3.7/site-packages/pronto/parsers/rdfxml.py:117: SyntaxWarning: several names found for 'OBI:0000070', using 'assay'\n",
      "  self._extract_term(class_, curies)\n",
      "/mnt/efs/home/iet5740/Projects/GSP/gsp_venv/lib64/python3.7/site-packages/pronto/parsers/rdfxml.py:117: SyntaxWarning: several names found for 'OBI:0000071', using 'quantitative confidence value'\n",
      "  self._extract_term(class_, curies)\n",
      "/mnt/efs/home/iet5740/Projects/GSP/gsp_venv/lib64/python3.7/site-packages/pronto/parsers/rdfxml.py:117: SyntaxWarning: several names found for 'OBI:0000118', using 'gene list'\n",
      "  self._extract_term(class_, curies)\n",
      "/mnt/efs/home/iet5740/Projects/GSP/gsp_venv/lib64/python3.7/site-packages/pronto/parsers/rdfxml.py:117: SyntaxWarning: several names found for 'OBI:0000181', using 'population'\n",
      "  self._extract_term(class_, curies)\n",
      "/mnt/efs/home/iet5740/Projects/GSP/gsp_venv/lib64/python3.7/site-packages/pronto/parsers/rdfxml.py:117: SyntaxWarning: several names found for 'OBI:0000245', using 'organization'\n",
      "  self._extract_term(class_, curies)\n",
      "/mnt/efs/home/iet5740/Projects/GSP/gsp_venv/lib64/python3.7/site-packages/pronto/parsers/rdfxml.py:117: SyntaxWarning: several names found for 'OBI:0000272', using 'protocol'\n",
      "  self._extract_term(class_, curies)\n",
      "/mnt/efs/home/iet5740/Projects/GSP/gsp_venv/lib64/python3.7/site-packages/pronto/parsers/rdfxml.py:117: SyntaxWarning: several names found for 'OBI:0000275', using 'analyte role'\n",
      "  self._extract_term(class_, curies)\n",
      "/mnt/efs/home/iet5740/Projects/GSP/gsp_venv/lib64/python3.7/site-packages/pronto/parsers/rdfxml.py:117: SyntaxWarning: several names found for 'OBI:0000415', using 'PCR'\n",
      "  self._extract_term(class_, curies)\n",
      "/mnt/efs/home/iet5740/Projects/GSP/gsp_venv/lib64/python3.7/site-packages/pronto/parsers/rdfxml.py:117: SyntaxWarning: several names found for 'OBI:0000427', using 'enzyme'\n",
      "  self._extract_term(class_, curies)\n",
      "/mnt/efs/home/iet5740/Projects/GSP/gsp_venv/lib64/python3.7/site-packages/pronto/ontology.py:283: SyntaxWarning: could not extract synonym value in 'OBI:0000512'\n",
      "  cls(self).parse_from(_handle)  # type: ignore\n",
      "/mnt/efs/home/iet5740/Projects/GSP/gsp_venv/lib64/python3.7/site-packages/pronto/parsers/rdfxml.py:117: SyntaxWarning: several names found for 'OBI:0000512', using 'isolation of cell population'\n",
      "  self._extract_term(class_, curies)\n",
      "/mnt/efs/home/iet5740/Projects/GSP/gsp_venv/lib64/python3.7/site-packages/pronto/parsers/rdfxml.py:117: SyntaxWarning: several names found for 'OBI:0000552', using 'reverse transcribed polymerase chain reaction'\n",
      "  self._extract_term(class_, curies)\n",
      "/mnt/efs/home/iet5740/Projects/GSP/gsp_venv/lib64/python3.7/site-packages/pronto/parsers/rdfxml.py:117: SyntaxWarning: several names found for 'OBI:0000650', using 'differential expression analysis data transformation'\n",
      "  self._extract_term(class_, curies)\n",
      "/mnt/efs/home/iet5740/Projects/GSP/gsp_venv/lib64/python3.7/site-packages/pronto/parsers/rdfxml.py:117: SyntaxWarning: several names found for 'OBI:0000697', using 'Helicos sequencing'\n",
      "  self._extract_term(class_, curies)\n",
      "/mnt/efs/home/iet5740/Projects/GSP/gsp_venv/lib64/python3.7/site-packages/pronto/parsers/rdfxml.py:117: SyntaxWarning: several names found for 'OBI:0000724', using 'Illumina sequencing'\n",
      "  self._extract_term(class_, curies)\n",
      "/mnt/efs/home/iet5740/Projects/GSP/gsp_venv/lib64/python3.7/site-packages/pronto/parsers/rdfxml.py:117: SyntaxWarning: several names found for 'OBI:0000750', using 'independent variable specification'\n",
      "  self._extract_term(class_, curies)\n",
      "/mnt/efs/home/iet5740/Projects/GSP/gsp_venv/lib64/python3.7/site-packages/pronto/parsers/rdfxml.py:117: SyntaxWarning: several names found for 'OBI:0000785', using 'controlled variable specification'\n",
      "  self._extract_term(class_, curies)\n",
      "/mnt/efs/home/iet5740/Projects/GSP/gsp_venv/lib64/python3.7/site-packages/pronto/parsers/rdfxml.py:117: SyntaxWarning: several names found for 'OBI:0000869', using 'polyA RNA'\n",
      "  self._extract_term(class_, curies)\n",
      "/mnt/efs/home/iet5740/Projects/GSP/gsp_venv/lib64/python3.7/site-packages/pronto/parsers/rdfxml.py:117: SyntaxWarning: several names found for 'OBI:0001140', using 'spike-in quality control role'\n",
      "  self._extract_term(class_, curies)\n",
      "/mnt/efs/home/iet5740/Projects/GSP/gsp_venv/lib64/python3.7/site-packages/pronto/parsers/rdfxml.py:117: SyntaxWarning: several names found for 'OBI:0001142', using 'dye swap quality control role'\n",
      "  self._extract_term(class_, curies)\n",
      "/mnt/efs/home/iet5740/Projects/GSP/gsp_venv/lib64/python3.7/site-packages/pronto/parsers/rdfxml.py:117: SyntaxWarning: several names found for 'OBI:0001442', using 'p-value'\n",
      "  self._extract_term(class_, curies)\n",
      "/mnt/efs/home/iet5740/Projects/GSP/gsp_venv/lib64/python3.7/site-packages/pronto/parsers/rdfxml.py:117: SyntaxWarning: unknown element in `owl:Class`: {http://purl.obolibrary.org/obo/}IAO_0000114\n",
      "  self._extract_term(class_, curies)\n",
      "/mnt/efs/home/iet5740/Projects/GSP/gsp_venv/lib64/python3.7/site-packages/pronto/parsers/rdfxml.py:117: SyntaxWarning: several names found for 'OBI:0001468', using 'cell specimen'\n",
      "  self._extract_term(class_, curies)\n",
      "/mnt/efs/home/iet5740/Projects/GSP/gsp_venv/lib64/python3.7/site-packages/pronto/parsers/rdfxml.py:117: SyntaxWarning: several names found for 'OBI:0001472', using 'specimen with known storage state'\n",
      "  self._extract_term(class_, curies)\n",
      "/mnt/efs/home/iet5740/Projects/GSP/gsp_venv/lib64/python3.7/site-packages/pronto/parsers/rdfxml.py:117: SyntaxWarning: unknown element in `owl:Class`: {http://purl.obolibrary.org/obo/}OBI_0001886\n",
      "  self._extract_term(class_, curies)\n",
      "/mnt/efs/home/iet5740/Projects/GSP/gsp_venv/lib64/python3.7/site-packages/pronto/parsers/rdfxml.py:117: SyntaxWarning: unknown element in `owl:Class`: {http://purl.org/dc/elements/1.1/}source\n",
      "  self._extract_term(class_, curies)\n",
      "/mnt/efs/home/iet5740/Projects/GSP/gsp_venv/lib64/python3.7/site-packages/pronto/parsers/rdfxml.py:117: SyntaxWarning: several names found for 'OBI:0001620', using 'latitude'\n",
      "  self._extract_term(class_, curies)\n",
      "/mnt/efs/home/iet5740/Projects/GSP/gsp_venv/lib64/python3.7/site-packages/pronto/parsers/rdfxml.py:117: SyntaxWarning: several names found for 'OBI:0001621', using 'longitude'\n",
      "  self._extract_term(class_, curies)\n",
      "/mnt/efs/home/iet5740/Projects/GSP/gsp_venv/lib64/python3.7/site-packages/pronto/parsers/rdfxml.py:117: SyntaxWarning: several names found for 'OBI:0100026', using 'organism'\n",
      "  self._extract_term(class_, curies)\n",
      "/mnt/efs/home/iet5740/Projects/GSP/gsp_venv/lib64/python3.7/site-packages/pronto/parsers/rdfxml.py:117: SyntaxWarning: several names found for 'OBI:0100051', using 'specimen'\n",
      "  self._extract_term(class_, curies)\n",
      "/mnt/efs/home/iet5740/Projects/GSP/gsp_venv/lib64/python3.7/site-packages/pronto/parsers/rdfxml.py:117: SyntaxWarning: several names found for 'OBI:0200000', using 'data transformation'\n",
      "  self._extract_term(class_, curies)\n",
      "/mnt/efs/home/iet5740/Projects/GSP/gsp_venv/lib64/python3.7/site-packages/pronto/parsers/rdfxml.py:117: SyntaxWarning: several names found for 'OBI:0200006', using 'biexponential transformation'\n",
      "  self._extract_term(class_, curies)\n",
      "/mnt/efs/home/iet5740/Projects/GSP/gsp_venv/lib64/python3.7/site-packages/pronto/parsers/rdfxml.py:117: SyntaxWarning: several names found for 'OBI:0200071', using 'loess transformation'\n",
      "  self._extract_term(class_, curies)\n",
      "/mnt/efs/home/iet5740/Projects/GSP/gsp_venv/lib64/python3.7/site-packages/pronto/parsers/rdfxml.py:117: SyntaxWarning: several names found for 'OBI:0200169', using 'normalization data transformation'\n",
      "  self._extract_term(class_, curies)\n",
      "/mnt/efs/home/iet5740/Projects/GSP/gsp_venv/lib64/python3.7/site-packages/pronto/parsers/rdfxml.py:117: SyntaxWarning: several names found for 'OBI:0302903', using 'nucleic acid hybridization'\n",
      "  self._extract_term(class_, curies)\n",
      "/mnt/efs/home/iet5740/Projects/GSP/gsp_venv/lib64/python3.7/site-packages/pronto/parsers/rdfxml.py:117: SyntaxWarning: several names found for 'OBI:0600005', using 'collecting specimen from organism'\n",
      "  self._extract_term(class_, curies)\n",
      "/mnt/efs/home/iet5740/Projects/GSP/gsp_venv/lib64/python3.7/site-packages/pronto/parsers/rdfxml.py:117: SyntaxWarning: several names found for 'OBI:0600015', using 'group assignment'\n",
      "  self._extract_term(class_, curies)\n",
      "/mnt/efs/home/iet5740/Projects/GSP/gsp_venv/lib64/python3.7/site-packages/pronto/parsers/rdfxml.py:117: SyntaxWarning: several names found for 'OBI:0600044', using 'lavage'\n",
      "  self._extract_term(class_, curies)\n",
      "/mnt/efs/home/iet5740/Projects/GSP/gsp_venv/lib64/python3.7/site-packages/pronto/parsers/rdfxml.py:117: SyntaxWarning: several names found for 'OBI:1000023', using 'cell culture supernatant'\n",
      "  self._extract_term(class_, curies)\n",
      "/mnt/efs/home/iet5740/Projects/GSP/gsp_venv/lib64/python3.7/site-packages/pronto/parsers/rdfxml.py:117: SyntaxWarning: several names found for 'OBI:1110021', using 'infect'\n",
      "  self._extract_term(class_, curies)\n",
      "/mnt/efs/home/iet5740/Projects/GSP/gsp_venv/lib64/python3.7/site-packages/pronto/parsers/rdfxml.py:117: SyntaxWarning: several names found for 'OBI:1110122', using 'pathologic process'\n",
      "  self._extract_term(class_, curies)\n",
      "/mnt/efs/home/iet5740/Projects/GSP/gsp_venv/lib64/python3.7/site-packages/pronto/parsers/rdfxml.py:117: SyntaxWarning: several names found for 'PO:0005052', concatenating\n",
      "  self._extract_term(class_, curies)\n",
      "/mnt/efs/home/iet5740/Projects/GSP/gsp_venv/lib64/python3.7/site-packages/pronto/parsers/rdfxml.py:117: SyntaxWarning: several names found for 'PO:0005352', concatenating\n",
      "  self._extract_term(class_, curies)\n",
      "/mnt/efs/home/iet5740/Projects/GSP/gsp_venv/lib64/python3.7/site-packages/pronto/parsers/rdfxml.py:117: SyntaxWarning: several names found for 'PO:0005417', concatenating\n",
      "  self._extract_term(class_, curies)\n",
      "/mnt/efs/home/iet5740/Projects/GSP/gsp_venv/lib64/python3.7/site-packages/pronto/parsers/rdfxml.py:117: SyntaxWarning: several names found for 'PO:0005597', concatenating\n",
      "  self._extract_term(class_, curies)\n",
      "/mnt/efs/home/iet5740/Projects/GSP/gsp_venv/lib64/python3.7/site-packages/pronto/parsers/rdfxml.py:117: SyntaxWarning: several names found for 'PO:0006339', concatenating\n",
      "  self._extract_term(class_, curies)\n",
      "/mnt/efs/home/iet5740/Projects/GSP/gsp_venv/lib64/python3.7/site-packages/pronto/parsers/rdfxml.py:117: SyntaxWarning: several names found for 'PO:0009001', concatenating\n",
      "  self._extract_term(class_, curies)\n",
      "/mnt/efs/home/iet5740/Projects/GSP/gsp_venv/lib64/python3.7/site-packages/pronto/parsers/rdfxml.py:117: SyntaxWarning: several names found for 'PO:0009009', concatenating\n",
      "  self._extract_term(class_, curies)\n",
      "/mnt/efs/home/iet5740/Projects/GSP/gsp_venv/lib64/python3.7/site-packages/pronto/parsers/rdfxml.py:117: SyntaxWarning: several names found for 'PO:0009010', concatenating\n",
      "  self._extract_term(class_, curies)\n",
      "/mnt/efs/home/iet5740/Projects/GSP/gsp_venv/lib64/python3.7/site-packages/pronto/parsers/rdfxml.py:117: SyntaxWarning: several names found for 'PO:0009013', concatenating\n",
      "  self._extract_term(class_, curies)\n",
      "/mnt/efs/home/iet5740/Projects/GSP/gsp_venv/lib64/python3.7/site-packages/pronto/parsers/rdfxml.py:117: SyntaxWarning: several names found for 'PO:0009029', concatenating\n",
      "  self._extract_term(class_, curies)\n",
      "/mnt/efs/home/iet5740/Projects/GSP/gsp_venv/lib64/python3.7/site-packages/pronto/parsers/rdfxml.py:117: SyntaxWarning: several names found for 'PO:0009030', concatenating\n",
      "  self._extract_term(class_, curies)\n",
      "/mnt/efs/home/iet5740/Projects/GSP/gsp_venv/lib64/python3.7/site-packages/pronto/parsers/rdfxml.py:117: SyntaxWarning: several names found for 'PO:0009031', concatenating\n",
      "  self._extract_term(class_, curies)\n",
      "/mnt/efs/home/iet5740/Projects/GSP/gsp_venv/lib64/python3.7/site-packages/pronto/parsers/rdfxml.py:117: SyntaxWarning: several names found for 'PO:0009032', concatenating\n",
      "  self._extract_term(class_, curies)\n",
      "/mnt/efs/home/iet5740/Projects/GSP/gsp_venv/lib64/python3.7/site-packages/pronto/parsers/rdfxml.py:117: SyntaxWarning: several names found for 'PO:0009047', concatenating\n",
      "  self._extract_term(class_, curies)\n",
      "/mnt/efs/home/iet5740/Projects/GSP/gsp_venv/lib64/python3.7/site-packages/pronto/parsers/rdfxml.py:117: SyntaxWarning: several names found for 'PO:0009049', concatenating\n",
      "  self._extract_term(class_, curies)\n",
      "/mnt/efs/home/iet5740/Projects/GSP/gsp_venv/lib64/python3.7/site-packages/pronto/parsers/rdfxml.py:117: SyntaxWarning: several names found for 'PO:0009062', concatenating\n",
      "  self._extract_term(class_, curies)\n",
      "/mnt/efs/home/iet5740/Projects/GSP/gsp_venv/lib64/python3.7/site-packages/pronto/parsers/rdfxml.py:117: SyntaxWarning: several names found for 'PO:0009072', concatenating\n",
      "  self._extract_term(class_, curies)\n",
      "/mnt/efs/home/iet5740/Projects/GSP/gsp_venv/lib64/python3.7/site-packages/pronto/parsers/rdfxml.py:117: SyntaxWarning: several names found for 'PO:0009088', concatenating\n",
      "  self._extract_term(class_, curies)\n",
      "/mnt/efs/home/iet5740/Projects/GSP/gsp_venv/lib64/python3.7/site-packages/pronto/parsers/rdfxml.py:117: SyntaxWarning: several names found for 'PO:0009089', concatenating\n",
      "  self._extract_term(class_, curies)\n",
      "/mnt/efs/home/iet5740/Projects/GSP/gsp_venv/lib64/python3.7/site-packages/pronto/parsers/rdfxml.py:117: SyntaxWarning: several names found for 'PO:0020031', concatenating\n",
      "  self._extract_term(class_, curies)\n",
      "/mnt/efs/home/iet5740/Projects/GSP/gsp_venv/lib64/python3.7/site-packages/pronto/parsers/rdfxml.py:117: SyntaxWarning: several names found for 'PO:0020127', concatenating\n",
      "  self._extract_term(class_, curies)\n",
      "/mnt/efs/home/iet5740/Projects/GSP/gsp_venv/lib64/python3.7/site-packages/pronto/parsers/rdfxml.py:117: SyntaxWarning: several names found for 'PO:0025029', concatenating\n",
      "  self._extract_term(class_, curies)\n",
      "/mnt/efs/home/iet5740/Projects/GSP/gsp_venv/lib64/python3.7/site-packages/pronto/parsers/rdfxml.py:117: SyntaxWarning: several names found for 'PO:0025522', concatenating\n",
      "  self._extract_term(class_, curies)\n",
      "/mnt/efs/home/iet5740/Projects/GSP/gsp_venv/lib64/python3.7/site-packages/pronto/parsers/rdfxml.py:117: SyntaxWarning: unknown element in `owl:Class`: {http://purl.obolibrary.org/obo/}UBPROP_0000001\n",
      "  self._extract_term(class_, curies)\n",
      "/mnt/efs/home/iet5740/Projects/GSP/gsp_venv/lib64/python3.7/site-packages/pronto/parsers/rdfxml.py:117: SyntaxWarning: unknown element in `owl:Class`: {http://purl.obolibrary.org/obo/}UBPROP_0000003\n",
      "  self._extract_term(class_, curies)\n",
      "/mnt/efs/home/iet5740/Projects/GSP/gsp_venv/lib64/python3.7/site-packages/pronto/parsers/rdfxml.py:117: SyntaxWarning: unknown element in `owl:Class`: {http://purl.obolibrary.org/obo/}UBPROP_0000007\n",
      "  self._extract_term(class_, curies)\n",
      "/mnt/efs/home/iet5740/Projects/GSP/gsp_venv/lib64/python3.7/site-packages/pronto/parsers/rdfxml.py:117: SyntaxWarning: unknown element in `owl:Class`: {http://purl.obolibrary.org/obo/}UBPROP_0000008\n",
      "  self._extract_term(class_, curies)\n",
      "/mnt/efs/home/iet5740/Projects/GSP/gsp_venv/lib64/python3.7/site-packages/pronto/parsers/rdfxml.py:117: SyntaxWarning: unknown element in `owl:Class`: {http://purl.obolibrary.org/obo/}UBPROP_0000011\n",
      "  self._extract_term(class_, curies)\n",
      "/mnt/efs/home/iet5740/Projects/GSP/gsp_venv/lib64/python3.7/site-packages/pronto/parsers/rdfxml.py:117: SyntaxWarning: unknown element in `owl:Class`: {http://purl.obolibrary.org/obo/}UBPROP_0000012\n",
      "  self._extract_term(class_, curies)\n",
      "/mnt/efs/home/iet5740/Projects/GSP/gsp_venv/lib64/python3.7/site-packages/pronto/parsers/rdfxml.py:117: SyntaxWarning: unknown element in `owl:Class`: {http://purl.obolibrary.org/obo/}UBPROP_0000010\n",
      "  self._extract_term(class_, curies)\n",
      "/mnt/efs/home/iet5740/Projects/GSP/gsp_venv/lib64/python3.7/site-packages/pronto/parsers/rdfxml.py:117: SyntaxWarning: unknown element in `owl:Class`: {http://purl.obolibrary.org/obo/}UBPROP_0000009\n",
      "  self._extract_term(class_, curies)\n",
      "/mnt/efs/home/iet5740/Projects/GSP/gsp_venv/lib64/python3.7/site-packages/pronto/parsers/rdfxml.py:117: SyntaxWarning: unknown element in `owl:Class`: {http://purl.obolibrary.org/obo/}UBPROP_0000002\n",
      "  self._extract_term(class_, curies)\n",
      "/mnt/efs/home/iet5740/Projects/GSP/gsp_venv/lib64/python3.7/site-packages/pronto/parsers/rdfxml.py:117: SyntaxWarning: unknown element in `owl:Class`: {http://purl.obolibrary.org/obo/}UBPROP_0000013\n",
      "  self._extract_term(class_, curies)\n"
     ]
    },
    {
     "name": "stderr",
     "output_type": "stream",
     "text": [
      "/mnt/efs/home/iet5740/Projects/GSP/gsp_venv/lib64/python3.7/site-packages/pronto/parsers/rdfxml.py:117: SyntaxWarning: unknown element in `owl:Class`: {http://purl.obolibrary.org/obo/}UBPROP_0000005\n",
      "  self._extract_term(class_, curies)\n",
      "/mnt/efs/home/iet5740/Projects/GSP/gsp_venv/lib64/python3.7/site-packages/pronto/parsers/rdfxml.py:117: SyntaxWarning: unknown element in `owl:Class`: {http://purl.obolibrary.org/obo/}UBPROP_0000004\n",
      "  self._extract_term(class_, curies)\n",
      "/mnt/efs/home/iet5740/Projects/GSP/gsp_venv/lib64/python3.7/site-packages/pronto/parsers/rdfxml.py:117: SyntaxWarning: several names found for 'EFO:0000272', concatenating\n",
      "  self._extract_term(class_, curies)\n",
      "/mnt/efs/home/iet5740/Projects/GSP/gsp_venv/lib64/python3.7/site-packages/pronto/parsers/rdfxml.py:117: SyntaxWarning: several names found for 'http://www.ebi.ac.uk/efo/EFO_0000722', concatenating\n",
      "  self._extract_term(class_, curies)\n",
      "/mnt/efs/home/iet5740/Projects/GSP/gsp_venv/lib64/python3.7/site-packages/pronto/parsers/rdfxml.py:117: SyntaxWarning: unknown element in `owl:Class`: {http://www.ebi.ac.uk/efo/}primary_source\n",
      "  self._extract_term(class_, curies)\n",
      "/mnt/efs/home/iet5740/Projects/GSP/gsp_venv/lib64/python3.7/site-packages/pronto/parsers/rdfxml.py:117: SyntaxWarning: unknown element in `owl:Class`: {http://www.ebi.ac.uk/efo/}SRA_label\n",
      "  self._extract_term(class_, curies)\n",
      "/mnt/efs/home/iet5740/Projects/GSP/gsp_venv/lib64/python3.7/site-packages/pronto/parsers/rdfxml.py:117: SyntaxWarning: unknown element in `owl:Class`: {http://www.w3.org/2002/07/owl#}incompatibleWith\n",
      "  self._extract_term(class_, curies)\n",
      "/mnt/efs/home/iet5740/Projects/GSP/gsp_venv/lib64/python3.7/site-packages/pronto/parsers/rdfxml.py:117: SyntaxWarning: several names found for 'http://www.ebi.ac.uk/efo/EFO_0004813', concatenating\n",
      "  self._extract_term(class_, curies)\n",
      "/mnt/efs/home/iet5740/Projects/GSP/gsp_venv/lib64/python3.7/site-packages/pronto/parsers/rdfxml.py:117: SyntaxWarning: several names found for 'EFO:0004911', concatenating\n",
      "  self._extract_term(class_, curies)\n",
      "/mnt/efs/home/iet5740/Projects/GSP/gsp_venv/lib64/python3.7/site-packages/pronto/parsers/rdfxml.py:117: SyntaxWarning: unknown element in `owl:Class`: {http://www.co-ode.org/patterns#}createdBy\n",
      "  self._extract_term(class_, curies)\n",
      "/mnt/efs/home/iet5740/Projects/GSP/gsp_venv/lib64/python3.7/site-packages/pronto/parsers/rdfxml.py:117: SyntaxWarning: several names found for 'EFO:0005769', concatenating\n",
      "  self._extract_term(class_, curies)\n",
      "/mnt/efs/home/iet5740/Projects/GSP/gsp_venv/lib64/python3.7/site-packages/pronto/parsers/rdfxml.py:117: SyntaxWarning: several names found for 'EFO:0005772', concatenating\n",
      "  self._extract_term(class_, curies)\n",
      "/mnt/efs/home/iet5740/Projects/GSP/gsp_venv/lib64/python3.7/site-packages/pronto/parsers/rdfxml.py:117: SyntaxWarning: `owl:disjointWith` element without `rdf:resource`\n",
      "  self._extract_term(class_, curies)\n",
      "/mnt/efs/home/iet5740/Projects/GSP/gsp_venv/lib64/python3.7/site-packages/pronto/parsers/rdfxml.py:117: SyntaxWarning: unknown element in `owl:Class`: {http://www.w3.org/2000/01/rdf-schema#}comment\n",
      "  self._extract_term(class_, curies)\n",
      "/mnt/efs/home/iet5740/Projects/GSP/gsp_venv/lib64/python3.7/site-packages/pronto/parsers/rdfxml.py:117: SyntaxWarning: several names found for 'EFO:0007409', using 'Ornithine transcarbamylase deficiency'\n",
      "  self._extract_term(class_, curies)\n",
      "/mnt/efs/home/iet5740/Projects/GSP/gsp_venv/lib64/python3.7/site-packages/pronto/parsers/rdfxml.py:117: SyntaxWarning: several names found for 'EFO:0007532', concatenating\n",
      "  self._extract_term(class_, curies)\n",
      "/mnt/efs/home/iet5740/Projects/GSP/gsp_venv/lib64/python3.7/site-packages/pronto/ontology.py:283: SyntaxWarning: could not extract synonym value in 'http://www.ebi.ac.uk/efo/EFO_0008451'\n",
      "  cls(self).parse_from(_handle)  # type: ignore\n",
      "/mnt/efs/home/iet5740/Projects/GSP/gsp_venv/lib64/python3.7/site-packages/pronto/parsers/rdfxml.py:117: SyntaxWarning: unknown element in `owl:Class`: {http://purl.obolibrary.org/obo/}IAO_0000115\n",
      "  self._extract_term(class_, curies)\n",
      "/mnt/efs/home/iet5740/Projects/GSP/gsp_venv/lib64/python3.7/site-packages/pronto/parsers/rdfxml.py:117: SyntaxWarning: several names found for 'EFO:1000013', concatenating\n",
      "  self._extract_term(class_, curies)\n",
      "/mnt/efs/home/iet5740/Projects/GSP/gsp_venv/lib64/python3.7/site-packages/pronto/parsers/rdfxml.py:117: SyntaxWarning: several names found for 'EFO:1000337', concatenating\n",
      "  self._extract_term(class_, curies)\n",
      "/mnt/efs/home/iet5740/Projects/GSP/gsp_venv/lib64/python3.7/site-packages/pronto/parsers/rdfxml.py:117: SyntaxWarning: unknown element in `owl:Class`: {http://www.w3.org/2004/02/skos/core#}prefLabel\n",
      "  self._extract_term(class_, curies)\n",
      "/mnt/efs/home/iet5740/Projects/GSP/gsp_venv/lib64/python3.7/site-packages/pronto/ontology.py:283: SyntaxWarning: could not find axiom source: 'never_in_taxon'\n",
      "  cls(self).parse_from(_handle)  # type: ignore\n",
      "/mnt/efs/home/iet5740/Projects/GSP/gsp_venv/lib64/python3.7/site-packages/pronto/ontology.py:283: SyntaxWarning: could not find axiom source: 'dubious_for_taxon'\n",
      "  cls(self).parse_from(_handle)  # type: ignore\n",
      "/mnt/efs/home/iet5740/Projects/GSP/gsp_venv/lib64/python3.7/site-packages/pronto/ontology.py:283: SyntaxWarning: could not find axiom source: 'external_definition'\n",
      "  cls(self).parse_from(_handle)  # type: ignore\n",
      "/mnt/efs/home/iet5740/Projects/GSP/gsp_venv/lib64/python3.7/site-packages/pronto/ontology.py:283: SyntaxWarning: could not find axiom source: 'axiom_lost_from_external_ontology'\n",
      "  cls(self).parse_from(_handle)  # type: ignore\n",
      "/mnt/efs/home/iet5740/Projects/GSP/gsp_venv/lib64/python3.7/site-packages/pronto/ontology.py:283: SyntaxWarning: could not find axiom source: 'homology_notes'\n",
      "  cls(self).parse_from(_handle)  # type: ignore\n",
      "/mnt/efs/home/iet5740/Projects/GSP/gsp_venv/lib64/python3.7/site-packages/pronto/ontology.py:283: SyntaxWarning: could not find axiom source: 'preceding_element_is'\n",
      "  cls(self).parse_from(_handle)  # type: ignore\n",
      "/mnt/efs/home/iet5740/Projects/GSP/gsp_venv/lib64/python3.7/site-packages/pronto/ontology.py:283: SyntaxWarning: could not find axiom source: 'rhombomere_number'\n",
      "  cls(self).parse_from(_handle)  # type: ignore\n",
      "/mnt/efs/home/iet5740/Projects/GSP/gsp_venv/lib64/python3.7/site-packages/pronto/ontology.py:283: SyntaxWarning: unknown axiom property: 'http://www.w3.org/2000/01/rdf-schema#subClassOf'\n",
      "  cls(self).parse_from(_handle)  # type: ignore\n",
      "/mnt/efs/home/iet5740/Projects/GSP/gsp_venv/lib64/python3.7/site-packages/pronto/ontology.py:283: SyntaxWarning: unknown axiom property: 'http://www.w3.org/2000/01/rdf-schema#comment'\n",
      "  cls(self).parse_from(_handle)  # type: ignore\n",
      "/mnt/efs/home/iet5740/Projects/GSP/gsp_venv/lib64/python3.7/site-packages/pronto/ontology.py:283: SyntaxWarning: unknown axiom property: 'http://www.geneontology.org/formats/oboInOwl#inSubset'\n",
      "  cls(self).parse_from(_handle)  # type: ignore\n",
      "/mnt/efs/home/iet5740/Projects/GSP/gsp_venv/lib64/python3.7/site-packages/pronto/ontology.py:283: SyntaxWarning: `oboInOwl:hasDbXref` element has no text\n",
      "  cls(self).parse_from(_handle)  # type: ignore\n",
      "/mnt/efs/home/iet5740/Projects/GSP/gsp_venv/lib64/python3.7/site-packages/pronto/ontology.py:283: SyntaxWarning: unknown axiom property: 'http://www.geneontology.org/formats/oboInOwl#id'\n",
      "  cls(self).parse_from(_handle)  # type: ignore\n",
      "/mnt/efs/home/iet5740/Projects/GSP/gsp_venv/lib64/python3.7/site-packages/pronto/ontology.py:283: SyntaxWarning: unknown axiom property: 'http://www.w3.org/2000/01/rdf-schema#seeAlso'\n",
      "  cls(self).parse_from(_handle)  # type: ignore\n",
      "/mnt/efs/home/iet5740/Projects/GSP/gsp_venv/lib64/python3.7/site-packages/pronto/ontology.py:283: SyntaxWarning: unknown axiom property: 'http://purl.obolibrary.org/obo/mondo#excluded_subClassOf'\n",
      "  cls(self).parse_from(_handle)  # type: ignore\n",
      "/mnt/efs/home/iet5740/Projects/GSP/gsp_venv/lib64/python3.7/site-packages/pronto/ontology.py:283: SyntaxWarning: unknown axiom property: 'http://www.w3.org/2002/07/owl#equivalentClass'\n",
      "  cls(self).parse_from(_handle)  # type: ignore\n",
      "/mnt/efs/home/iet5740/Projects/GSP/gsp_venv/lib64/python3.7/site-packages/pronto/ontology.py:283: SyntaxWarning: unknown axiom property: 'http://www.w3.org/2002/07/owl#disjointWith'\n",
      "  cls(self).parse_from(_handle)  # type: ignore\n",
      "/mnt/efs/home/iet5740/Projects/GSP/gsp_venv/lib64/python3.7/site-packages/pronto/ontology.py:283: SyntaxWarning: unknown axiom property: 'http://purl.obolibrary.org/obo/mondo#excluded_synonym'\n",
      "  cls(self).parse_from(_handle)  # type: ignore\n",
      "/mnt/efs/home/iet5740/Projects/GSP/gsp_venv/lib64/python3.7/site-packages/pronto/ontology.py:283: SyntaxWarning: unknown axiom property: 'http://purl.obolibrary.org/obo/IAO_0000231'\n",
      "  cls(self).parse_from(_handle)  # type: ignore\n"
     ]
    },
    {
     "name": "stderr",
     "output_type": "stream",
     "text": [
      "/mnt/efs/home/iet5740/Projects/GSP/gsp_venv/lib64/python3.7/site-packages/pronto/ontology.py:283: SyntaxWarning: unknown axiom property: 'http://www.geneontology.org/formats/oboInOwl#consider'\n",
      "  cls(self).parse_from(_handle)  # type: ignore\n",
      "/mnt/efs/home/iet5740/Projects/GSP/gsp_venv/lib64/python3.7/site-packages/pronto/ontology.py:283: SyntaxWarning: unknown axiom property: 'http://purl.obolibrary.org/obo/RO_0002175'\n",
      "  cls(self).parse_from(_handle)  # type: ignore\n",
      "/mnt/efs/home/iet5740/Projects/GSP/gsp_venv/lib64/python3.7/site-packages/pronto/ontology.py:283: SyntaxWarning: could not parse Xref: 'Pathbase: Curation'\n",
      "  cls(self).parse_from(_handle)  # type: ignore\n",
      "/mnt/efs/home/iet5740/Projects/GSP/gsp_venv/lib64/python3.7/site-packages/pronto/ontology.py:283: SyntaxWarning: could not parse Xref: 'Pathbase: Pathology Committee'\n",
      "  cls(self).parse_from(_handle)  # type: ignore\n",
      "/mnt/efs/home/iet5740/Projects/GSP/gsp_venv/lib64/python3.7/site-packages/pronto/ontology.py:283: SyntaxWarning: unknown axiom property: 'http://www.w3.org/2000/01/rdf-schema#label'\n",
      "  cls(self).parse_from(_handle)  # type: ignore\n",
      "/mnt/efs/home/iet5740/Projects/GSP/gsp_venv/lib64/python3.7/site-packages/pronto/ontology.py:283: SyntaxWarning: unknown axiom property: 'http://purl.obolibrary.org/obo/UBPROP_0000001'\n",
      "  cls(self).parse_from(_handle)  # type: ignore\n",
      "/mnt/efs/home/iet5740/Projects/GSP/gsp_venv/lib64/python3.7/site-packages/pronto/ontology.py:283: SyntaxWarning: unknown axiom property: 'http://purl.obolibrary.org/obo/UBPROP_0000003'\n",
      "  cls(self).parse_from(_handle)  # type: ignore\n",
      "/mnt/efs/home/iet5740/Projects/GSP/gsp_venv/lib64/python3.7/site-packages/pronto/ontology.py:283: SyntaxWarning: unknown axiom property: 'http://purl.obolibrary.org/obo/UBPROP_0000008'\n",
      "  cls(self).parse_from(_handle)  # type: ignore\n",
      "/mnt/efs/home/iet5740/Projects/GSP/gsp_venv/lib64/python3.7/site-packages/pronto/ontology.py:283: SyntaxWarning: unknown axiom property: 'http://purl.obolibrary.org/obo/RO_0002161'\n",
      "  cls(self).parse_from(_handle)  # type: ignore\n",
      "/mnt/efs/home/iet5740/Projects/GSP/gsp_venv/lib64/python3.7/site-packages/pronto/ontology.py:283: SyntaxWarning: unknown axiom property: 'http://purl.obolibrary.org/obo/UBPROP_0000012'\n",
      "  cls(self).parse_from(_handle)  # type: ignore\n",
      "/mnt/efs/home/iet5740/Projects/GSP/gsp_venv/lib64/python3.7/site-packages/pronto/ontology.py:283: SyntaxWarning: unknown axiom property: 'http://purl.obolibrary.org/obo/UBPROP_0000002'\n",
      "  cls(self).parse_from(_handle)  # type: ignore\n",
      "/mnt/efs/home/iet5740/Projects/GSP/gsp_venv/lib64/python3.7/site-packages/pronto/ontology.py:283: SyntaxWarning: unknown axiom property: 'http://purl.obolibrary.org/obo/UBPROP_0000013'\n",
      "  cls(self).parse_from(_handle)  # type: ignore\n",
      "/mnt/efs/home/iet5740/Projects/GSP/gsp_venv/lib64/python3.7/site-packages/pronto/ontology.py:283: SyntaxWarning: unknown axiom property: 'http://purl.obolibrary.org/obo/IAO_0000116'\n",
      "  cls(self).parse_from(_handle)  # type: ignore\n",
      "/mnt/efs/home/iet5740/Projects/GSP/gsp_venv/lib64/python3.7/site-packages/pronto/ontology.py:283: SyntaxWarning: unknown axiom property: 'http://purl.obolibrary.org/obo/RO_0002174'\n",
      "  cls(self).parse_from(_handle)  # type: ignore\n",
      "/mnt/efs/home/iet5740/Projects/GSP/gsp_venv/lib64/python3.7/site-packages/pronto/ontology.py:283: SyntaxWarning: unknown axiom property: 'http://purl.obolibrary.org/obo/IAO_0000232'\n",
      "  cls(self).parse_from(_handle)  # type: ignore\n",
      "/mnt/efs/home/iet5740/Projects/GSP/gsp_venv/lib64/python3.7/site-packages/pronto/ontology.py:283: SyntaxWarning: unknown axiom property: 'http://purl.obolibrary.org/obo/UBPROP_0000011'\n",
      "  cls(self).parse_from(_handle)  # type: ignore\n",
      "/mnt/efs/home/iet5740/Projects/GSP/gsp_venv/lib64/python3.7/site-packages/pronto/ontology.py:283: SyntaxWarning: unknown axiom property: 'http://purl.obolibrary.org/obo/UBPROP_0000009'\n",
      "  cls(self).parse_from(_handle)  # type: ignore\n",
      "/mnt/efs/home/iet5740/Projects/GSP/gsp_venv/lib64/python3.7/site-packages/pronto/ontology.py:283: SyntaxWarning: unknown axiom property: 'http://purl.obolibrary.org/obo/RO_0002171'\n",
      "  cls(self).parse_from(_handle)  # type: ignore\n",
      "/mnt/efs/home/iet5740/Projects/GSP/gsp_venv/lib64/python3.7/site-packages/pronto/ontology.py:283: SyntaxWarning: unknown axiom property: 'http://purl.obolibrary.org/obo/UBPROP_0000010'\n",
      "  cls(self).parse_from(_handle)  # type: ignore\n",
      "/mnt/efs/home/iet5740/Projects/GSP/gsp_venv/lib64/python3.7/site-packages/pronto/ontology.py:283: SyntaxWarning: unknown axiom property: 'http://purl.obolibrary.org/obo/UBPROP_0000005'\n",
      "  cls(self).parse_from(_handle)  # type: ignore\n",
      "/mnt/efs/home/iet5740/Projects/GSP/gsp_venv/lib64/python3.7/site-packages/pronto/ontology.py:283: SyntaxWarning: unknown axiom property: 'http://purl.obolibrary.org/obo/UBPROP_0000004'\n",
      "  cls(self).parse_from(_handle)  # type: ignore\n",
      "/mnt/efs/home/iet5740/Projects/GSP/gsp_venv/lib64/python3.7/site-packages/pronto/ontology.py:283: SyntaxWarning: could not parse Xref: 'Wikipedia:Single cell sequencing'\n",
      "  cls(self).parse_from(_handle)  # type: ignore\n",
      "/mnt/efs/home/iet5740/Projects/GSP/gsp_venv/lib64/python3.7/site-packages/pronto/ontology.py:283: SyntaxWarning: could not parse Xref: 'doi: 10.1111/nmo.12871'\n",
      "  cls(self).parse_from(_handle)  # type: ignore\n",
      "/mnt/efs/home/iet5740/Projects/GSP/gsp_venv/lib64/python3.7/site-packages/pronto/ontology.py:283: SyntaxWarning: could not find axiom source: 'BFO:0000062'\n",
      "  cls(self).parse_from(_handle)  # type: ignore\n",
      "/mnt/efs/home/iet5740/Projects/GSP/gsp_venv/lib64/python3.7/site-packages/pronto/ontology.py:283: SyntaxWarning: could not find axiom source: 'BFO:0000068'\n",
      "  cls(self).parse_from(_handle)  # type: ignore\n",
      "/mnt/efs/home/iet5740/Projects/GSP/gsp_venv/lib64/python3.7/site-packages/pronto/ontology.py:283: SyntaxWarning: could not find axiom source: 'BFO:0000069'\n",
      "  cls(self).parse_from(_handle)  # type: ignore\n",
      "/mnt/efs/home/iet5740/Projects/GSP/gsp_venv/lib64/python3.7/site-packages/pronto/ontology.py:283: SyntaxWarning: could not find axiom source: 'BSPO:0000096'\n",
      "  cls(self).parse_from(_handle)  # type: ignore\n",
      "/mnt/efs/home/iet5740/Projects/GSP/gsp_venv/lib64/python3.7/site-packages/pronto/ontology.py:283: SyntaxWarning: could not find axiom source: 'BSPO:0000097'\n",
      "  cls(self).parse_from(_handle)  # type: ignore\n",
      "/mnt/efs/home/iet5740/Projects/GSP/gsp_venv/lib64/python3.7/site-packages/pronto/ontology.py:283: SyntaxWarning: could not find axiom source: 'BSPO:0000098'\n",
      "  cls(self).parse_from(_handle)  # type: ignore\n",
      "/mnt/efs/home/iet5740/Projects/GSP/gsp_venv/lib64/python3.7/site-packages/pronto/ontology.py:283: SyntaxWarning: could not find axiom source: 'BSPO:0000099'\n",
      "  cls(self).parse_from(_handle)  # type: ignore\n",
      "/mnt/efs/home/iet5740/Projects/GSP/gsp_venv/lib64/python3.7/site-packages/pronto/ontology.py:283: SyntaxWarning: could not find axiom source: 'BSPO:0000100'\n",
      "  cls(self).parse_from(_handle)  # type: ignore\n",
      "/mnt/efs/home/iet5740/Projects/GSP/gsp_venv/lib64/python3.7/site-packages/pronto/ontology.py:283: SyntaxWarning: could not find axiom source: 'BSPO:0000102'\n",
      "  cls(self).parse_from(_handle)  # type: ignore\n",
      "/mnt/efs/home/iet5740/Projects/GSP/gsp_venv/lib64/python3.7/site-packages/pronto/ontology.py:283: SyntaxWarning: could not find axiom source: 'BSPO:0000107'\n",
      "  cls(self).parse_from(_handle)  # type: ignore\n",
      "/mnt/efs/home/iet5740/Projects/GSP/gsp_venv/lib64/python3.7/site-packages/pronto/ontology.py:283: SyntaxWarning: could not find axiom source: 'BSPO:0000108'\n",
      "  cls(self).parse_from(_handle)  # type: ignore\n",
      "/mnt/efs/home/iet5740/Projects/GSP/gsp_venv/lib64/python3.7/site-packages/pronto/ontology.py:283: SyntaxWarning: could not find axiom source: 'BSPO:0000120'\n",
      "  cls(self).parse_from(_handle)  # type: ignore\n",
      "/mnt/efs/home/iet5740/Projects/GSP/gsp_venv/lib64/python3.7/site-packages/pronto/ontology.py:283: SyntaxWarning: could not find axiom source: 'BSPO:0000121'\n",
      "  cls(self).parse_from(_handle)  # type: ignore\n",
      "/mnt/efs/home/iet5740/Projects/GSP/gsp_venv/lib64/python3.7/site-packages/pronto/ontology.py:283: SyntaxWarning: could not find axiom source: 'BSPO:0000122'\n",
      "  cls(self).parse_from(_handle)  # type: ignore\n",
      "/mnt/efs/home/iet5740/Projects/GSP/gsp_venv/lib64/python3.7/site-packages/pronto/ontology.py:283: SyntaxWarning: could not find axiom source: 'BSPO:0000123'\n",
      "  cls(self).parse_from(_handle)  # type: ignore\n",
      "/mnt/efs/home/iet5740/Projects/GSP/gsp_venv/lib64/python3.7/site-packages/pronto/ontology.py:283: SyntaxWarning: could not find axiom source: 'BSPO:0000124'\n",
      "  cls(self).parse_from(_handle)  # type: ignore\n",
      "/mnt/efs/home/iet5740/Projects/GSP/gsp_venv/lib64/python3.7/site-packages/pronto/ontology.py:283: SyntaxWarning: could not find axiom source: 'BSPO:0000125'\n",
      "  cls(self).parse_from(_handle)  # type: ignore\n",
      "/mnt/efs/home/iet5740/Projects/GSP/gsp_venv/lib64/python3.7/site-packages/pronto/ontology.py:283: SyntaxWarning: could not find axiom source: 'BSPO:0000126'\n",
      "  cls(self).parse_from(_handle)  # type: ignore\n",
      "/mnt/efs/home/iet5740/Projects/GSP/gsp_venv/lib64/python3.7/site-packages/pronto/ontology.py:283: SyntaxWarning: could not find axiom source: 'BSPO:0001100'\n",
      "  cls(self).parse_from(_handle)  # type: ignore\n",
      "/mnt/efs/home/iet5740/Projects/GSP/gsp_venv/lib64/python3.7/site-packages/pronto/ontology.py:283: SyntaxWarning: could not find axiom source: 'BSPO:0001101'\n",
      "  cls(self).parse_from(_handle)  # type: ignore\n",
      "/mnt/efs/home/iet5740/Projects/GSP/gsp_venv/lib64/python3.7/site-packages/pronto/ontology.py:283: SyntaxWarning: could not find axiom source: 'BSPO:0001106'\n",
      "  cls(self).parse_from(_handle)  # type: ignore\n",
      "/mnt/efs/home/iet5740/Projects/GSP/gsp_venv/lib64/python3.7/site-packages/pronto/ontology.py:283: SyntaxWarning: could not find axiom source: 'BSPO:0001107'\n",
      "  cls(self).parse_from(_handle)  # type: ignore\n",
      "/mnt/efs/home/iet5740/Projects/GSP/gsp_venv/lib64/python3.7/site-packages/pronto/ontology.py:283: SyntaxWarning: could not find axiom source: 'BSPO:0001108'\n",
      "  cls(self).parse_from(_handle)  # type: ignore\n",
      "/mnt/efs/home/iet5740/Projects/GSP/gsp_venv/lib64/python3.7/site-packages/pronto/ontology.py:283: SyntaxWarning: could not find axiom source: 'BSPO:0001114'\n",
      "  cls(self).parse_from(_handle)  # type: ignore\n",
      "/mnt/efs/home/iet5740/Projects/GSP/gsp_venv/lib64/python3.7/site-packages/pronto/ontology.py:283: SyntaxWarning: could not find axiom source: 'BSPO:1000000'\n",
      "  cls(self).parse_from(_handle)  # type: ignore\n",
      "/mnt/efs/home/iet5740/Projects/GSP/gsp_venv/lib64/python3.7/site-packages/pronto/ontology.py:283: SyntaxWarning: could not find axiom source: 'FMA:86003'\n",
      "  cls(self).parse_from(_handle)  # type: ignore\n",
      "/mnt/efs/home/iet5740/Projects/GSP/gsp_venv/lib64/python3.7/site-packages/pronto/ontology.py:283: SyntaxWarning: could not find axiom source: 'RO:0002082'\n",
      "  cls(self).parse_from(_handle)  # type: ignore\n",
      "/mnt/efs/home/iet5740/Projects/GSP/gsp_venv/lib64/python3.7/site-packages/pronto/ontology.py:283: SyntaxWarning: could not find axiom source: 'RO:0002087'\n",
      "  cls(self).parse_from(_handle)  # type: ignore\n",
      "/mnt/efs/home/iet5740/Projects/GSP/gsp_venv/lib64/python3.7/site-packages/pronto/ontology.py:283: SyntaxWarning: could not find axiom source: 'RO:0002219'\n",
      "  cls(self).parse_from(_handle)  # type: ignore\n",
      "/mnt/efs/home/iet5740/Projects/GSP/gsp_venv/lib64/python3.7/site-packages/pronto/ontology.py:283: SyntaxWarning: could not find axiom source: 'RO:0002221'\n",
      "  cls(self).parse_from(_handle)  # type: ignore\n",
      "/mnt/efs/home/iet5740/Projects/GSP/gsp_venv/lib64/python3.7/site-packages/pronto/ontology.py:283: SyntaxWarning: could not find axiom source: 'RO:0002224'\n",
      "  cls(self).parse_from(_handle)  # type: ignore\n",
      "/mnt/efs/home/iet5740/Projects/GSP/gsp_venv/lib64/python3.7/site-packages/pronto/ontology.py:283: SyntaxWarning: could not find axiom source: 'RO:0002229'\n",
      "  cls(self).parse_from(_handle)  # type: ignore\n",
      "/mnt/efs/home/iet5740/Projects/GSP/gsp_venv/lib64/python3.7/site-packages/pronto/ontology.py:283: SyntaxWarning: could not find axiom source: 'RO:0002256'\n",
      "  cls(self).parse_from(_handle)  # type: ignore\n",
      "/mnt/efs/home/iet5740/Projects/GSP/gsp_venv/lib64/python3.7/site-packages/pronto/ontology.py:283: SyntaxWarning: could not find axiom source: 'RO:0002372'\n",
      "  cls(self).parse_from(_handle)  # type: ignore\n",
      "/mnt/efs/home/iet5740/Projects/GSP/gsp_venv/lib64/python3.7/site-packages/pronto/ontology.py:283: SyntaxWarning: could not find axiom source: 'RO:0002373'\n",
      "  cls(self).parse_from(_handle)  # type: ignore\n",
      "/mnt/efs/home/iet5740/Projects/GSP/gsp_venv/lib64/python3.7/site-packages/pronto/ontology.py:283: SyntaxWarning: could not find axiom source: 'UBREL:0000001'\n",
      "  cls(self).parse_from(_handle)  # type: ignore\n",
      "/mnt/efs/home/iet5740/Projects/GSP/gsp_venv/lib64/python3.7/site-packages/pronto/ontology.py:283: SyntaxWarning: could not find axiom source: 'http://purl.obolibrary.org/obo/uberon#anteriorly_connected_to'\n",
      "  cls(self).parse_from(_handle)  # type: ignore\n",
      "/mnt/efs/home/iet5740/Projects/GSP/gsp_venv/lib64/python3.7/site-packages/pronto/ontology.py:283: SyntaxWarning: could not find axiom source: 'http://purl.obolibrary.org/obo/uberon#connects'\n",
      "  cls(self).parse_from(_handle)  # type: ignore\n",
      "/mnt/efs/home/iet5740/Projects/GSP/gsp_venv/lib64/python3.7/site-packages/pronto/ontology.py:283: SyntaxWarning: could not find axiom source: 'http://purl.obolibrary.org/obo/uberon#distally_connected_to'\n",
      "  cls(self).parse_from(_handle)  # type: ignore\n",
      "/mnt/efs/home/iet5740/Projects/GSP/gsp_venv/lib64/python3.7/site-packages/pronto/ontology.py:283: SyntaxWarning: could not find axiom source: 'http://purl.obolibrary.org/obo/uberon#encloses'\n",
      "  cls(self).parse_from(_handle)  # type: ignore\n",
      "/mnt/efs/home/iet5740/Projects/GSP/gsp_venv/lib64/python3.7/site-packages/pronto/ontology.py:283: SyntaxWarning: could not find axiom source: 'http://purl.obolibrary.org/obo/uberon#existence_ends_at'\n",
      "  cls(self).parse_from(_handle)  # type: ignore\n",
      "/mnt/efs/home/iet5740/Projects/GSP/gsp_venv/lib64/python3.7/site-packages/pronto/ontology.py:283: SyntaxWarning: could not find axiom source: 'http://purl.obolibrary.org/obo/uberon#existence_ends_before'\n",
      "  cls(self).parse_from(_handle)  # type: ignore\n",
      "/mnt/efs/home/iet5740/Projects/GSP/gsp_venv/lib64/python3.7/site-packages/pronto/ontology.py:283: SyntaxWarning: could not find axiom source: 'http://purl.obolibrary.org/obo/uberon#existence_ends_with'\n",
      "  cls(self).parse_from(_handle)  # type: ignore\n",
      "/mnt/efs/home/iet5740/Projects/GSP/gsp_venv/lib64/python3.7/site-packages/pronto/ontology.py:283: SyntaxWarning: could not find axiom source: 'http://purl.obolibrary.org/obo/uberon#existence_starts_after'\n",
      "  cls(self).parse_from(_handle)  # type: ignore\n",
      "/mnt/efs/home/iet5740/Projects/GSP/gsp_venv/lib64/python3.7/site-packages/pronto/ontology.py:283: SyntaxWarning: could not find axiom source: 'http://purl.obolibrary.org/obo/uberon#existence_starts_at'\n",
      "  cls(self).parse_from(_handle)  # type: ignore\n",
      "/mnt/efs/home/iet5740/Projects/GSP/gsp_venv/lib64/python3.7/site-packages/pronto/ontology.py:283: SyntaxWarning: could not find axiom source: 'http://purl.obolibrary.org/obo/uberon#existence_starts_with'\n",
      "  cls(self).parse_from(_handle)  # type: ignore\n",
      "/mnt/efs/home/iet5740/Projects/GSP/gsp_venv/lib64/python3.7/site-packages/pronto/ontology.py:283: SyntaxWarning: could not find axiom source: 'http://purl.obolibrary.org/obo/uberon#has_muscle_antagonist'\n",
      "  cls(self).parse_from(_handle)  # type: ignore\n",
      "/mnt/efs/home/iet5740/Projects/GSP/gsp_venv/lib64/python3.7/site-packages/pronto/ontology.py:283: SyntaxWarning: could not find axiom source: 'http://purl.obolibrary.org/obo/uberon#innervated_by'\n",
      "  cls(self).parse_from(_handle)  # type: ignore\n",
      "/mnt/efs/home/iet5740/Projects/GSP/gsp_venv/lib64/python3.7/site-packages/pronto/ontology.py:283: SyntaxWarning: could not find axiom source: 'http://purl.obolibrary.org/obo/uberon#posteriorly_connected_to'\n",
      "  cls(self).parse_from(_handle)  # type: ignore\n",
      "/mnt/efs/home/iet5740/Projects/GSP/gsp_venv/lib64/python3.7/site-packages/pronto/ontology.py:283: SyntaxWarning: could not find axiom source: 'http://purl.obolibrary.org/obo/uberon#present_in_taxon'\n",
      "  cls(self).parse_from(_handle)  # type: ignore\n",
      "/mnt/efs/home/iet5740/Projects/GSP/gsp_venv/lib64/python3.7/site-packages/pronto/ontology.py:283: SyntaxWarning: could not find axiom source: 'http://purl.obolibrary.org/obo/uberon#proximally_connected_to'\n",
      "  cls(self).parse_from(_handle)  # type: ignore\n",
      "/mnt/efs/home/iet5740/Projects/GSP/gsp_venv/lib64/python3.7/site-packages/pronto/ontology.py:283: SyntaxWarning: could not find axiom source: 'http://purl.obolibrary.org/obo/uberon#site_of'\n",
      "  cls(self).parse_from(_handle)  # type: ignore\n",
      "/mnt/efs/home/iet5740/Projects/GSP/gsp_venv/lib64/python3.7/site-packages/pronto/ontology.py:283: SyntaxWarning: could not find axiom source: 'http://purl.obolibrary.org/obo/uberon#spatially_disjoint_from'\n",
      "  cls(self).parse_from(_handle)  # type: ignore\n",
      "/mnt/efs/home/iet5740/Projects/GSP/gsp_venv/lib64/python3.7/site-packages/pronto/ontology.py:283: SyntaxWarning: could not find axiom source: 'http://purl.obolibrary.org/obo/uberon#transitively_anteriorly_connected_to'\n",
      "  cls(self).parse_from(_handle)  # type: ignore\n",
      "/mnt/efs/home/iet5740/Projects/GSP/gsp_venv/lib64/python3.7/site-packages/pronto/ontology.py:283: SyntaxWarning: could not find axiom source: 'http://purl.obolibrary.org/obo/uberon#transitively_distally_connected_to'\n",
      "  cls(self).parse_from(_handle)  # type: ignore\n",
      "/mnt/efs/home/iet5740/Projects/GSP/gsp_venv/lib64/python3.7/site-packages/pronto/ontology.py:283: SyntaxWarning: could not find axiom source: 'http://purl.obolibrary.org/obo/uberon#transitively_proximally_connected_to'\n",
      "  cls(self).parse_from(_handle)  # type: ignore\n",
      "/mnt/efs/home/iet5740/Projects/GSP/gsp_venv/lib64/python3.7/site-packages/pronto/ontology.py:283: SyntaxWarning: could not find axiom source: 'http://semanticscience.org/resource/SIO_000657'\n",
      "  cls(self).parse_from(_handle)  # type: ignore\n",
      "/mnt/efs/home/iet5740/Projects/GSP/gsp_venv/lib64/python3.7/site-packages/pronto/ontology.py:283: SyntaxWarning: could not find axiom source: 'http://semanticscience.org/resource/SIO_000658'\n",
      "  cls(self).parse_from(_handle)  # type: ignore\n"
     ]
    }
   ],
   "source": [
    "efo = pronto.Ontology('efo.owl')"
   ]
  },
  {
   "cell_type": "code",
   "execution_count": 57,
   "id": "07fab292",
   "metadata": {},
   "outputs": [
    {
     "data": {
      "text/plain": [
       "51796"
      ]
     },
     "execution_count": 57,
     "metadata": {},
     "output_type": "execute_result"
    }
   ],
   "source": [
    "len(efo.terms())"
   ]
  },
  {
   "cell_type": "code",
   "execution_count": 58,
   "id": "904c0d1a",
   "metadata": {},
   "outputs": [
    {
     "name": "stdout",
     "output_type": "stream",
     "text": [
      "51796\n"
     ]
    }
   ],
   "source": [
    "all_efo_terms = {}\n",
    "for entity in efo.terms():\n",
    "    all_efo_terms.update({entity.id: entity.name})\n",
    "print(len(all_efo_terms))"
   ]
  },
  {
   "cell_type": "code",
   "execution_count": 59,
   "id": "f8645659",
   "metadata": {},
   "outputs": [
    {
     "data": {
      "text/plain": [
       "['http://dbpedia.org/resource/China',\n",
       " 'http://dbpedia.org/resource/India',\n",
       " 'http://dbpedia.org/resource/Iran',\n",
       " 'http://dbpedia.org/resource/Japan',\n",
       " 'http://dbpedia.org/resource/Philippines',\n",
       " 'http://dbpedia.org/resource/Republic_of_Ireland',\n",
       " 'http://dbpedia.org/resource/South_Korea',\n",
       " 'http://dbpedia.org/resource/United_Kingdom',\n",
       " 'http://dbpedia.org/resource/United_States',\n",
       " 'BFO:0000015',\n",
       " 'BFO:0000016',\n",
       " 'BFO:0000019',\n",
       " 'BFO:0000020',\n",
       " 'BFO:0000023',\n",
       " 'BFO:0000029',\n",
       " 'BFO:0000034',\n",
       " 'BFO:0000040',\n",
       " 'BTO:0000007',\n",
       " 'BTO:0000018',\n",
       " 'BTO:0000133']"
      ]
     },
     "execution_count": 59,
     "metadata": {},
     "output_type": "execute_result"
    }
   ],
   "source": [
    "list(all_efo_terms.keys())[:20]"
   ]
  },
  {
   "cell_type": "code",
   "execution_count": 62,
   "id": "e4c9661b",
   "metadata": {},
   "outputs": [
    {
     "data": {
      "text/plain": [
       "'cup-to-disc ratio measurement'"
      ]
     },
     "execution_count": 62,
     "metadata": {},
     "output_type": "execute_result"
    }
   ],
   "source": [
    "all_efo_terms['http://www.ebi.ac.uk/efo/EFO_0006939']"
   ]
  },
  {
   "cell_type": "code",
   "execution_count": 63,
   "id": "c21a8675",
   "metadata": {},
   "outputs": [
    {
     "data": {
      "text/plain": [
       "Term('http://www.ebi.ac.uk/efo/EFO_0006939', name='cup-to-disc ratio measurement')"
      ]
     },
     "execution_count": 63,
     "metadata": {},
     "output_type": "execute_result"
    }
   ],
   "source": [
    "efo['http://www.ebi.ac.uk/efo/EFO_0006939']"
   ]
  },
  {
   "cell_type": "code",
   "execution_count": 67,
   "id": "50652290",
   "metadata": {},
   "outputs": [
    {
     "data": {
      "text/plain": [
       "True"
      ]
     },
     "execution_count": 67,
     "metadata": {},
     "output_type": "execute_result"
    }
   ],
   "source": [
    "efo['http://www.ebi.ac.uk/efo/EFO_0006939'].is_leaf()"
   ]
  },
  {
   "cell_type": "code",
   "execution_count": 69,
   "id": "e3ccd7d3",
   "metadata": {},
   "outputs": [
    {
     "data": {
      "text/plain": [
       "frozenset()"
      ]
     },
     "execution_count": 69,
     "metadata": {},
     "output_type": "execute_result"
    }
   ],
   "source": [
    "efo['http://www.ebi.ac.uk/efo/EFO_0006939'].intersection_of"
   ]
  },
  {
   "cell_type": "code",
   "execution_count": 70,
   "id": "a444297a",
   "metadata": {},
   "outputs": [
    {
     "data": {
      "text/plain": [
       "[Term('HP:0012823', name='Clinical modifier'),\n",
       " Term('HP:0003812', name='Phenotypic variability'),\n",
       " Term('HP:0012824', name='Severity'),\n",
       " Term('HP:0012830', name='Position'),\n",
       " Term('HP:0025204', name='Triggered by'),\n",
       " Term('HP:0025254', name='Ameliorated by'),\n",
       " Term('HP:0025280', name='Pain characteristic'),\n",
       " Term('HP:0025285', name='Aggravated by'),\n",
       " Term('HP:0031375', name='Refractory'),\n",
       " Term('HP:0031797', name='Clinical course'),\n",
       " Term('HP:0045088', name='Clinical relevance'),\n",
       " Term('HP:0410401', name='Worse in evening'),\n",
       " Term('HP:4000042', name='Fracture type'),\n",
       " Term('HP:0003828', name='Variable expressivity'),\n",
       " Term('HP:0012825', name='Mild'),\n",
       " Term('HP:0012826', name='Moderate'),\n",
       " Term('HP:0012827', name='Borderline'),\n",
       " Term('HP:0012828', name='Severe'),\n",
       " Term('HP:0012829', name='Profound'),\n",
       " Term('HP:0012831', name='Laterality'),\n",
       " Term('HP:0012836', name='Spatial pattern'),\n",
       " Term('HP:0025206', name='Triggered by cold'),\n",
       " Term('HP:0025207', name='Triggered by dehydration'),\n",
       " Term('HP:0025212', name='Triggered by fasting'),\n",
       " Term('HP:0025214', name='Triggered by heat'),\n",
       " Term('HP:0025215', name='Triggered by febrile illness'),\n",
       " Term('HP:0025218', name='Triggered by hyperventilation'),\n",
       " Term('HP:0025219', name='Triggered by vaccination'),\n",
       " Term('HP:0025220', name='Triggered by menstruation'),\n",
       " Term('HP:0025221', name='Triggered by pregnancy'),\n",
       " Term('HP:0025222', name='Triggered by sleep deprivation'),\n",
       " Term('HP:0025223', name='Triggered by smoking'),\n",
       " Term('HP:0025225', name='Triggered by sound'),\n",
       " Term('HP:0025226', name='Triggered by stress'),\n",
       " Term('HP:0025227', name='Triggered by excitement'),\n",
       " Term('HP:0025228', name='Triggered by sudden movement'),\n",
       " Term('HP:0025229', name='Triggered by vestibular stimulation'),\n",
       " Term('HP:0025334', name='Triggered by emotion'),\n",
       " Term('HP:0025377', name='Triggered by exertion'),\n",
       " Term('HP:0031135', name='Triggered by physical trauma'),\n",
       " Term('HP:0033032', name='Triggered by an abusive adult'),\n",
       " Term('HP:0033184', name='Triggered by infection'),\n",
       " Term('HP:0033793', name='Triggered by food ingestion'),\n",
       " Term('HP:0034423', name='triggered by allergens'),\n",
       " Term('HP:0034826', name='Triggered by medication exposure'),\n",
       " Term('HP:4000101', name='Triggered by exposure to medication'),\n",
       " Term('HP:4000109', name='Triggered by electromagnetic field'),\n",
       " Term('HP:4000120', name='Triggered by nickel'),\n",
       " Term('HP:4000121', name='Triggered by poison ivy, poson oak, or sumac'),\n",
       " Term('HP:0025255', name='Ameliorated by pregnancy'),\n",
       " Term('HP:0025256', name='Ameliorated by heat'),\n",
       " Term('HP:0025257', name='Ameliorated by carbohydrate ingestion'),\n",
       " Term('HP:0032503', name='Ameliorated by ethanol ingestion'),\n",
       " Term('HP:0034440', name='Ameliorated by ultraviolet light exposure'),\n",
       " Term('HP:0034459', name='Ameliorated by lumbar puncture'),\n",
       " Term('HP:0034516', name='Ameliorated by ketogenic diet'),\n",
       " Term('HP:0034536', name='Ameliorated by exposure to medication'),\n",
       " Term('HP:0034569', name='Ameliorated by pyridoxal phosphate'),\n",
       " Term('HP:0034759', name='Ameliorated by ethosuximide'),\n",
       " Term('HP:4000174', name='Ameliorated by potassium supplements'),\n",
       " Term('HP:4000175', name='Ameliorated by niacin'),\n",
       " Term('HP:0025281', name='Sharp'),\n",
       " Term('HP:0025282', name='Dull'),\n",
       " Term('HP:0025283', name='Tender'),\n",
       " Term('HP:0025284', name='Sleep-interrupting'),\n",
       " Term('HP:4000182', name='Positionally dependent pain'),\n",
       " Term('HP:0025286', name='Aggravated by activity'),\n",
       " Term('HP:0025315', name='Exacerbated by head trauma'),\n",
       " Term('HP:0032500', name='Exacerbated by tobacco use'),\n",
       " Term('HP:0032534', name='Exacerbated by methylxanthine ingestion'),\n",
       " Term('HP:0032542', name='Exacerbated by pregnancy'),\n",
       " Term('HP:0034802', name='Exacerbated by flexion'),\n",
       " Term('HP:4000176', name='Aggravated by exposure to medication'),\n",
       " Term('HP:0003674', name='Onset'),\n",
       " Term('HP:0003679', name='Pace of progression'),\n",
       " Term('HP:0011008', name='Temporal pattern'),\n",
       " Term('HP:0034382', name='Disease remission'),\n",
       " Term('HP:0040006', name='Mortality/Aging'),\n",
       " Term('HP:0045089', name='Distinctive finding'),\n",
       " Term('HP:0045090', name='Minor finding'),\n",
       " Term('HP:4000043', name='Greenstick fracture'),\n",
       " Term('HP:4000044', name='Transverse fracture'),\n",
       " Term('HP:4000045', name='Spiral fracture'),\n",
       " Term('HP:4000046', name='Oblique fracture'),\n",
       " Term('HP:4000047', name='Compression fracture'),\n",
       " Term('HP:4000048', name='Comminuted fracture'),\n",
       " Term('HP:4000049', name='Segmental fracture'),\n",
       " Term('HP:4000050', name='Open fracture'),\n",
       " Term('HP:4000051', name='Closed fracture'),\n",
       " Term('HP:4000052', name='Avulsion fracture'),\n",
       " Term('HP:4000053', name='Displaced fracture'),\n",
       " Term('HP:0012832', name='Bilateral'),\n",
       " Term('HP:0012833', name='Unilateral'),\n",
       " Term('HP:0012834', name='Right'),\n",
       " Term('HP:0012835', name='Left'),\n",
       " Term('HP:4000152', name='Alternating laterality'),\n",
       " Term('HP:0012837', name='Generalized'),\n",
       " Term('HP:0012838', name='Localized'),\n",
       " Term('HP:0012839', name='Distal'),\n",
       " Term('HP:0012840', name='Proximal'),\n",
       " Term('HP:0020034', name='Diffuse'),\n",
       " Term('HP:0025275', name='Lateral'),\n",
       " Term('HP:0025287', name='Axial'),\n",
       " Term('HP:0025292', name='Acral'),\n",
       " Term('HP:0025293', name='Distributed along Blaschko lines'),\n",
       " Term('HP:0025294', name='Dermatomal'),\n",
       " Term('HP:0025295', name='Herpetiform'),\n",
       " Term('HP:0025296', name='Morbilliform'),\n",
       " Term('HP:0030645', name='Central'),\n",
       " Term('HP:0030646', name='Peripheral'),\n",
       " Term('HP:0030647', name='Paracentral'),\n",
       " Term('HP:0030648', name='Midperipheral'),\n",
       " Term('HP:0030649', name='Pericentral'),\n",
       " Term('HP:0030650', name='Focal'),\n",
       " Term('HP:0030651', name='Multifocal'),\n",
       " Term('HP:0031450', name='Polycyclic'),\n",
       " Term('HP:0032539', name='Joint extensor surface localization'),\n",
       " Term('HP:0032540', name='Joint flexor surface localization'),\n",
       " Term('HP:0032544', name='Predominant small joint localization'),\n",
       " Term('HP:0033813', name='Perilobular'),\n",
       " Term('HP:0033814', name='Paraseptal'),\n",
       " Term('HP:0033815', name='Bronchocentric'),\n",
       " Term('HP:0033816', name='Centrilobular'),\n",
       " Term('HP:0033817', name='Miliary'),\n",
       " Term('HP:0033818', name='Reticular'),\n",
       " Term('HP:0033819', name='Perilymphatic'),\n",
       " Term('HP:0033820', name='Apical'),\n",
       " Term('HP:0034432', name='Intertriginous distribution'),\n",
       " Term('HP:0034433', name='Distributed along skin tension lines'),\n",
       " Term('HP:0034556', name='Deficit at segmental level'),\n",
       " Term('HP:0034779', name='Perineal'),\n",
       " Term('HP:0034854', name='Periumbilical'),\n",
       " Term('HP:0500260', name='Triggered by head trauma'),\n",
       " Term('HP:0033198', name='Triggered by viral infection'),\n",
       " Term('HP:0025205', name='Triggered by breast feeding'),\n",
       " Term('HP:0025208', name='Triggered by carbohydrate ingestion'),\n",
       " Term('HP:0025211', name='Triggered by ethanol ingestion'),\n",
       " Term('HP:0025216', name='Triggered by heavy meal'),\n",
       " Term('HP:0025217', name='Triggered by high-fat diet'),\n",
       " Term('HP:0025224', name='Triggered by sodium ingestion'),\n",
       " Term('HP:0031167', name='Triggered by ingestion of potassium-rich food'),\n",
       " Term('HP:0033789', name='Triggered by cheese ingestion'),\n",
       " Term('HP:0034060', name='Triggered by fava bean ingestion'),\n",
       " Term('HP:0034827', name='Triggered by levothyroxin exposure'),\n",
       " Term('HP:0034195', name='Triggered by muscle relaxant'),\n",
       " Term('HP:0034533', name='Triggered by monoamine oxidase inhibitor'),\n",
       " Term('HP:0034534', name='Triggered by serotonin reuptake inhibitor'),\n",
       " Term('HP:0034551', name='Triggered by neuroleptic medication'),\n",
       " Term('HP:0034631', name='Triggered by succinylcholine anesthetic'),\n",
       " Term('HP:0500261', name='Triggered by anesthetics'),\n",
       " Term('HP:4000102', name='Triggered by allopurinol'),\n",
       " Term('HP:4000133', name='Triggered by angiotensin-converting enzyme inhibitor'),\n",
       " Term('HP:0032522', name='Ameliorated by immunosuppresion'),\n",
       " Term('HP:0032526', name='Ameliorated by acetylcholinesterase inhibitor'),\n",
       " Term('HP:0034535', name='Ameliorated by acetazolamide'),\n",
       " Term('HP:0034537', name='Ameliorated by vitamin B12'),\n",
       " Term('HP:0034538', name='Ameliorated by thiamine'),\n",
       " Term('HP:0034539', name='Ameliorated by dantrolene'),\n",
       " Term('HP:0034540', name='Ameliorated by biotin'),\n",
       " Term('HP:0034568', name='Ameliorated by naloxone'),\n",
       " Term('HP:0034630', name='Ameliorated by folinic acid'),\n",
       " Term('HP:0034755', name='Ameliorated by NSAID'),\n",
       " Term('HP:0034825', name='Ameliorated by steroid medication'),\n",
       " Term('HP:4000103', name='Ameliorated by oral zinc supplementation'),\n",
       " Term('HP:4000130', name='Ameliorated by colchicine'),\n",
       " Term('HP:4000131', name='Ameliorated by vitamin D'),\n",
       " Term('HP:4000177', name='Bleeding ameliorated by vitamin K'),\n",
       " Term('HP:0032365', name='Exacerbated by aspirin exposure'),\n",
       " Term('HP:0032501', name='Exacerbated by contraceptive medication exposure'),\n",
       " Term('HP:0032502', name='Exacerbated by barbiturate exposure'),\n",
       " Term('HP:0032525', name='Exacerbated by acetylcholinesterase inhibitor exposure'),\n",
       " Term('HP:0034956', name='Exacerbated by lithium exposure'),\n",
       " Term('HP:0034962', name='Exacerbated by amiodarone exposure'),\n",
       " Term('HP:4000127', name='Exacerbated by sodium channel blocking agent exposure'),\n",
       " Term('HP:4000132', name='Exacerbated by phenytoin exposure'),\n",
       " Term('HP:0003577', name='Congenital onset'),\n",
       " Term('HP:0003581', name='Adult onset'),\n",
       " Term('HP:0003623', name='Neonatal onset'),\n",
       " Term('HP:0030674', name='Antenatal onset'),\n",
       " Term('HP:0410280', name='Pediatric onset'),\n",
       " Term('HP:4000040', name='Puerpural onset'),\n",
       " Term('HP:0003676', name='Progressive'),\n",
       " Term('HP:0003677', name='Slowly progressive'),\n",
       " Term('HP:0003678', name='Rapidly progressive'),\n",
       " Term('HP:0003680', name='Nonprogressive'),\n",
       " Term('HP:0003682', name='Variable progression rate'),\n",
       " Term('HP:0003587', name='Insidious onset'),\n",
       " Term('HP:0011009', name='Acute'),\n",
       " Term('HP:0011010', name='Chronic'),\n",
       " Term('HP:0011011', name='Subacute'),\n",
       " Term('HP:0025153', name='Transient'),\n",
       " Term('HP:0025279', name='Migratory'),\n",
       " Term('HP:0025297', name='Prolonged'),\n",
       " Term('HP:0025301', name='Nocturnal'),\n",
       " Term('HP:0025302', name='Diurnal'),\n",
       " Term('HP:0031796', name='Recurrent'),\n",
       " Term('HP:0031914', name='Fluctuating'),\n",
       " Term('HP:0031915', name='Stable'),\n",
       " Term('HP:0011420', name='Age of death'),\n",
       " Term('HP:0025290', name='Upper-body predominance'),\n",
       " Term('HP:0025291', name='Lower-body predominance'),\n",
       " Term('HP:0032535', name='Cervical (neck)'),\n",
       " Term('HP:0034439', name='Instep location'),\n",
       " Term('HP:0033185', name='Triggered by EBV infection'),\n",
       " Term('HP:0025209', name='Triggered by fructose ingestion'),\n",
       " Term('HP:0025210', name='Triggered by glucose ingestion'),\n",
       " Term('HP:0025213', name='Triggered by galactose ingestion'),\n",
       " Term('HP:0003584', name='Late onset'),\n",
       " Term('HP:0003596', name='Middle age onset'),\n",
       " Term('HP:0011462', name='Young adult onset'),\n",
       " Term('HP:0011460', name='Embryonal onset'),\n",
       " Term('HP:0011461', name='Fetal onset'),\n",
       " Term('HP:0003593', name='Infantile onset'),\n",
       " Term('HP:0003621', name='Juvenile onset'),\n",
       " Term('HP:0011463', name='Childhood onset'),\n",
       " Term('HP:0025306', name='Acute emergence over minutes'),\n",
       " Term('HP:0025307', name='Acute emergence over hours'),\n",
       " Term('HP:0025308', name='Acute emergence over days'),\n",
       " Term('HP:0025303', name='Episodic'),\n",
       " Term('HP:0025304', name='Periodic'),\n",
       " Term('HP:0033349', name='Seizure cluster'),\n",
       " Term('HP:0001522', name='Death in infancy'),\n",
       " Term('HP:0003811', name='Neonatal death'),\n",
       " Term('HP:0003819', name='Death in childhood'),\n",
       " Term('HP:0011421', name='Death in adolescence'),\n",
       " Term('HP:0033763', name='Death in adulthood'),\n",
       " Term('HP:0034241', name='Prenatal death'),\n",
       " Term('HP:0025708', name='Early young adult onset'),\n",
       " Term('HP:0025709', name='Intermediate young adult onset'),\n",
       " Term('HP:0025710', name='Late young adult onset'),\n",
       " Term('HP:0034197', name='Third trimester onset'),\n",
       " Term('HP:0034198', name='Second trimester onset'),\n",
       " Term('HP:0034199', name='Late first trimester onset'),\n",
       " Term('HP:0025305', name='Quotidian'),\n",
       " Term('HP:0033764', name='Death in middle age'),\n",
       " Term('HP:0033765', name='Death in late adulthood'),\n",
       " Term('HP:0100613', name='Death in early adulthood'),\n",
       " Term('HP:0003826', name='Stillbirth'),\n",
       " Term('HP:0005268', name='Miscarriage')]"
      ]
     },
     "execution_count": 70,
     "metadata": {},
     "output_type": "execute_result"
    }
   ],
   "source": [
    "descendents = list(hpo['HP:0012823'].subclasses())\n",
    "descendents"
   ]
  },
  {
   "cell_type": "code",
   "execution_count": null,
   "id": "88f4ac8a",
   "metadata": {},
   "outputs": [],
   "source": []
  }
 ],
 "metadata": {
  "kernelspec": {
   "display_name": "GSP",
   "language": "python",
   "name": "gsp_venv"
  },
  "language_info": {
   "codemirror_mode": {
    "name": "ipython",
    "version": 3
   },
   "file_extension": ".py",
   "mimetype": "text/x-python",
   "name": "python",
   "nbconvert_exporter": "python",
   "pygments_lexer": "ipython3",
   "version": "3.7.16"
  }
 },
 "nbformat": 4,
 "nbformat_minor": 5
}
