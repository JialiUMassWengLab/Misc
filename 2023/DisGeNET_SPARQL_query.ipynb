{
 "cells": [
  {
   "cell_type": "markdown",
   "id": "fe60cd84",
   "metadata": {},
   "source": [
    "## Commandline version\n",
    "\n",
    "#### rqw -Q 'SELECT DISTINCT ?gda ?disease ?gene FROM <http://rdf.disgenet.org> WHERE { ?gda sio:SIO_000628 ?disease,?gene .  ?disease rdf:type ncit:C7057 .  filter regex(?disease, \"umls/id\") . ?gene rdf:type ncit:C16612 .  filter regex(?gene, \"ncbigene\") . } LIMIT 20' -e http://rdf.disgenet.org/sparql/ -F json"
   ]
  },
  {
   "cell_type": "code",
   "execution_count": 1,
   "id": "f207dbc3",
   "metadata": {},
   "outputs": [],
   "source": [
    "from SPARQLWrapper import SPARQLWrapper, JSON"
   ]
  },
  {
   "cell_type": "code",
   "execution_count": 35,
   "id": "f6466148",
   "metadata": {},
   "outputs": [],
   "source": [
    "sparql = SPARQLWrapper(\"http://rdf.disgenet.org/sparql/\")\n",
    "sparql.setReturnFormat(JSON)"
   ]
  },
  {
   "cell_type": "code",
   "execution_count": 3,
   "id": "c865c51a",
   "metadata": {},
   "outputs": [],
   "source": [
    "sparql.setQuery(\"\"\"\n",
    "SELECT DISTINCT ?gda ?disease ?gene \n",
    "FROM <http://rdf.disgenet.org> \n",
    "WHERE { ?gda sio:SIO_000628 ?disease,?gene .  ?disease rdf:type ncit:C7057 .  filter regex(?disease, \"umls/id\") . ?gene rdf:type ncit:C16612 .  filter regex(?gene, \"ncbigene\") . } \n",
    "LIMIT 5\n",
    "\"\"\"\n",
    ")"
   ]
  },
  {
   "cell_type": "code",
   "execution_count": 4,
   "id": "f3f0349c",
   "metadata": {},
   "outputs": [
    {
     "name": "stdout",
     "output_type": "stream",
     "text": [
      "{'gda': {'type': 'uri', 'value': 'http://rdf.disgenet.org/resource/gda/DGN6dc7c3597c1de43e46ba75dec6b40761'}, 'disease': {'type': 'uri', 'value': 'http://linkedlifedata.com/resource/umls/id/C0678202'}, 'gene': {'type': 'uri', 'value': 'http://identifiers.org/ncbigene/339145'}}\n",
      "{'gda': {'type': 'uri', 'value': 'http://rdf.disgenet.org/resource/gda/DGNcfa20e7b4de7e5d42a35f8d26059a05e'}, 'disease': {'type': 'uri', 'value': 'http://linkedlifedata.com/resource/umls/id/C0678202'}, 'gene': {'type': 'uri', 'value': 'http://identifiers.org/ncbigene/219771'}}\n",
      "{'gda': {'type': 'uri', 'value': 'http://rdf.disgenet.org/resource/gda/DGNca73fee7d721d58f0611394f44905b03'}, 'disease': {'type': 'uri', 'value': 'http://linkedlifedata.com/resource/umls/id/C0678202'}, 'gene': {'type': 'uri', 'value': 'http://identifiers.org/ncbigene/163486'}}\n",
      "{'gda': {'type': 'uri', 'value': 'http://rdf.disgenet.org/resource/gda/DGNfb14f7dc0edbfa4829ce273b25ee4725'}, 'disease': {'type': 'uri', 'value': 'http://linkedlifedata.com/resource/umls/id/C4225407'}, 'gene': {'type': 'uri', 'value': 'http://identifiers.org/ncbigene/1475'}}\n",
      "{'gda': {'type': 'uri', 'value': 'http://rdf.disgenet.org/resource/gda/DGNd91c8743be0a2353356e9547b64d096d'}, 'disease': {'type': 'uri', 'value': 'http://linkedlifedata.com/resource/umls/id/C4225407'}, 'gene': {'type': 'uri', 'value': 'http://identifiers.org/ncbigene/1475'}}\n"
     ]
    }
   ],
   "source": [
    "try:\n",
    "    ret = sparql.queryAndConvert()\n",
    "    for r in ret[\"results\"][\"bindings\"]:\n",
    "        print(r)\n",
    "except Exception as e:\n",
    "    print(e)"
   ]
  },
  {
   "cell_type": "code",
   "execution_count": 5,
   "id": "11ab4f89",
   "metadata": {},
   "outputs": [],
   "source": [
    "#remove FROM clause\n",
    "sparql.setQuery(\"\"\"\n",
    "SELECT DISTINCT ?gda ?disease ?gene \n",
    "WHERE { ?gda sio:SIO_000628 ?disease,?gene .  ?disease rdf:type ncit:C7057 .  filter regex(?disease, \"umls/id\") . ?gene rdf:type ncit:C16612 .  filter regex(?gene, \"ncbigene\") . } \n",
    "LIMIT 5\n",
    "\"\"\"\n",
    ")"
   ]
  },
  {
   "cell_type": "code",
   "execution_count": 6,
   "id": "550558d2",
   "metadata": {},
   "outputs": [
    {
     "name": "stdout",
     "output_type": "stream",
     "text": [
      "{'gda': {'type': 'uri', 'value': 'http://rdf.disgenet.org/resource/gda/DGN6dc7c3597c1de43e46ba75dec6b40761'}, 'disease': {'type': 'uri', 'value': 'http://linkedlifedata.com/resource/umls/id/C0678202'}, 'gene': {'type': 'uri', 'value': 'http://identifiers.org/ncbigene/339145'}}\n",
      "{'gda': {'type': 'uri', 'value': 'http://rdf.disgenet.org/resource/gda/DGNcfa20e7b4de7e5d42a35f8d26059a05e'}, 'disease': {'type': 'uri', 'value': 'http://linkedlifedata.com/resource/umls/id/C0678202'}, 'gene': {'type': 'uri', 'value': 'http://identifiers.org/ncbigene/219771'}}\n",
      "{'gda': {'type': 'uri', 'value': 'http://rdf.disgenet.org/resource/gda/DGNca73fee7d721d58f0611394f44905b03'}, 'disease': {'type': 'uri', 'value': 'http://linkedlifedata.com/resource/umls/id/C0678202'}, 'gene': {'type': 'uri', 'value': 'http://identifiers.org/ncbigene/163486'}}\n",
      "{'gda': {'type': 'uri', 'value': 'http://rdf.disgenet.org/resource/gda/DGNfb14f7dc0edbfa4829ce273b25ee4725'}, 'disease': {'type': 'uri', 'value': 'http://linkedlifedata.com/resource/umls/id/C4225407'}, 'gene': {'type': 'uri', 'value': 'http://identifiers.org/ncbigene/1475'}}\n",
      "{'gda': {'type': 'uri', 'value': 'http://rdf.disgenet.org/resource/gda/DGNd91c8743be0a2353356e9547b64d096d'}, 'disease': {'type': 'uri', 'value': 'http://linkedlifedata.com/resource/umls/id/C4225407'}, 'gene': {'type': 'uri', 'value': 'http://identifiers.org/ncbigene/1475'}}\n"
     ]
    }
   ],
   "source": [
    "try:\n",
    "    ret = sparql.queryAndConvert()\n",
    "    for r in ret[\"results\"][\"bindings\"]:\n",
    "        print(r)\n",
    "except Exception as e:\n",
    "    print(e)"
   ]
  },
  {
   "cell_type": "code",
   "execution_count": 9,
   "id": "e2d26963",
   "metadata": {},
   "outputs": [],
   "source": [
    "#no filter on disease\n",
    "sparql.setQuery(\"\"\"\n",
    "SELECT DISTINCT ?gda ?disease ?gene \n",
    "WHERE { \n",
    "    ?gda sio:SIO_000628 ?disease,?gene .  \n",
    "    ?disease rdf:type ncit:C7057 .  \n",
    "    ?gene rdf:type ncit:C16612 .  \n",
    "    filter regex(?gene, \"ncbigene\") . \n",
    "} \n",
    "LIMIT 50\n",
    "\"\"\"\n",
    ")"
   ]
  },
  {
   "cell_type": "code",
   "execution_count": 10,
   "id": "247e2c03",
   "metadata": {},
   "outputs": [
    {
     "name": "stdout",
     "output_type": "stream",
     "text": [
      "{'gda': {'type': 'uri', 'value': 'http://rdf.disgenet.org/resource/gda/DGN6dc7c3597c1de43e46ba75dec6b40761'}, 'disease': {'type': 'uri', 'value': 'http://linkedlifedata.com/resource/umls/id/C0678202'}, 'gene': {'type': 'uri', 'value': 'http://identifiers.org/ncbigene/339145'}}\n",
      "{'gda': {'type': 'uri', 'value': 'http://rdf.disgenet.org/resource/gda/DGNcfa20e7b4de7e5d42a35f8d26059a05e'}, 'disease': {'type': 'uri', 'value': 'http://linkedlifedata.com/resource/umls/id/C0678202'}, 'gene': {'type': 'uri', 'value': 'http://identifiers.org/ncbigene/219771'}}\n",
      "{'gda': {'type': 'uri', 'value': 'http://rdf.disgenet.org/resource/gda/DGNca73fee7d721d58f0611394f44905b03'}, 'disease': {'type': 'uri', 'value': 'http://linkedlifedata.com/resource/umls/id/C0678202'}, 'gene': {'type': 'uri', 'value': 'http://identifiers.org/ncbigene/163486'}}\n",
      "{'gda': {'type': 'uri', 'value': 'http://rdf.disgenet.org/resource/gda/DGNfb14f7dc0edbfa4829ce273b25ee4725'}, 'disease': {'type': 'uri', 'value': 'http://linkedlifedata.com/resource/umls/id/C4225407'}, 'gene': {'type': 'uri', 'value': 'http://identifiers.org/ncbigene/1475'}}\n",
      "{'gda': {'type': 'uri', 'value': 'http://rdf.disgenet.org/resource/gda/DGNd91c8743be0a2353356e9547b64d096d'}, 'disease': {'type': 'uri', 'value': 'http://linkedlifedata.com/resource/umls/id/C4225407'}, 'gene': {'type': 'uri', 'value': 'http://identifiers.org/ncbigene/1475'}}\n",
      "{'gda': {'type': 'uri', 'value': 'http://rdf.disgenet.org/resource/gda/DGN3f0f82dae6a0319ecf0caa14c72850d9'}, 'disease': {'type': 'uri', 'value': 'http://linkedlifedata.com/resource/umls/id/C4225407'}, 'gene': {'type': 'uri', 'value': 'http://identifiers.org/ncbigene/1475'}}\n",
      "{'gda': {'type': 'uri', 'value': 'http://rdf.disgenet.org/resource/gda/DGN79d0d1ef1d572d0ffda6560ddd1e6404'}, 'disease': {'type': 'uri', 'value': 'http://linkedlifedata.com/resource/umls/id/C4225407'}, 'gene': {'type': 'uri', 'value': 'http://identifiers.org/ncbigene/1475'}}\n",
      "{'gda': {'type': 'uri', 'value': 'http://rdf.disgenet.org/resource/gda/DGNc4185052f39ed8a1d4f0e26006d2c104'}, 'disease': {'type': 'uri', 'value': 'http://linkedlifedata.com/resource/umls/id/C4540327'}, 'gene': {'type': 'uri', 'value': 'http://identifiers.org/ncbigene/2186'}}\n",
      "{'gda': {'type': 'uri', 'value': 'http://rdf.disgenet.org/resource/gda/DGN30f78e4ac417d54545fa146bf2d02242'}, 'disease': {'type': 'uri', 'value': 'http://linkedlifedata.com/resource/umls/id/C4540327'}, 'gene': {'type': 'uri', 'value': 'http://identifiers.org/ncbigene/2186'}}\n",
      "{'gda': {'type': 'uri', 'value': 'http://rdf.disgenet.org/resource/gda/DGN9d2679e6a6d1fd0da6a1e8f330af69d3'}, 'disease': {'type': 'uri', 'value': 'http://linkedlifedata.com/resource/umls/id/C4540327'}, 'gene': {'type': 'uri', 'value': 'http://identifiers.org/ncbigene/2186'}}\n",
      "{'gda': {'type': 'uri', 'value': 'http://rdf.disgenet.org/resource/gda/DGNbcff9614a7de394c8223a9f52f605e79'}, 'disease': {'type': 'uri', 'value': 'http://linkedlifedata.com/resource/umls/id/C0678202'}, 'gene': {'type': 'uri', 'value': 'http://identifiers.org/ncbigene/345611'}}\n",
      "{'gda': {'type': 'uri', 'value': 'http://rdf.disgenet.org/resource/gda/DGN73c3915530c50ec44a9fb199a64eb462'}, 'disease': {'type': 'uri', 'value': 'http://linkedlifedata.com/resource/umls/id/C0678202'}, 'gene': {'type': 'uri', 'value': 'http://identifiers.org/ncbigene/345611'}}\n",
      "{'gda': {'type': 'uri', 'value': 'http://rdf.disgenet.org/resource/gda/DGN967a7628e7c3f0fca4af8ec7e6da69fd'}, 'disease': {'type': 'uri', 'value': 'http://linkedlifedata.com/resource/umls/id/C0678202'}, 'gene': {'type': 'uri', 'value': 'http://identifiers.org/ncbigene/345611'}}\n",
      "{'gda': {'type': 'uri', 'value': 'http://rdf.disgenet.org/resource/gda/DGN26063453fcd479d596132ae4a8638f6f'}, 'disease': {'type': 'uri', 'value': 'http://linkedlifedata.com/resource/umls/id/C0678202'}, 'gene': {'type': 'uri', 'value': 'http://identifiers.org/ncbigene/345611'}}\n",
      "{'gda': {'type': 'uri', 'value': 'http://rdf.disgenet.org/resource/gda/DGNc4b1c8f460b9fc1caf70eb442e6f508f'}, 'disease': {'type': 'uri', 'value': 'http://linkedlifedata.com/resource/umls/id/C0029810'}, 'gene': {'type': 'uri', 'value': 'http://identifiers.org/ncbigene/3658'}}\n",
      "{'gda': {'type': 'uri', 'value': 'http://rdf.disgenet.org/resource/gda/DGNc860b71dcd16458cce481013c8b47141'}, 'disease': {'type': 'uri', 'value': 'http://linkedlifedata.com/resource/umls/id/C0029810'}, 'gene': {'type': 'uri', 'value': 'http://identifiers.org/ncbigene/3658'}}\n",
      "{'gda': {'type': 'uri', 'value': 'http://rdf.disgenet.org/resource/gda/DGN7f14f020a0e7b2f88e9deae5e6f68e62'}, 'disease': {'type': 'uri', 'value': 'http://linkedlifedata.com/resource/umls/id/C0678202'}, 'gene': {'type': 'uri', 'value': 'http://identifiers.org/ncbigene/4689'}}\n",
      "{'gda': {'type': 'uri', 'value': 'http://rdf.disgenet.org/resource/gda/DGNea67de178fded50ede1d8d44b0acdada'}, 'disease': {'type': 'uri', 'value': 'http://linkedlifedata.com/resource/umls/id/C0678202'}, 'gene': {'type': 'uri', 'value': 'http://identifiers.org/ncbigene/159296'}}\n",
      "{'gda': {'type': 'uri', 'value': 'http://rdf.disgenet.org/resource/gda/DGNdac98a0d2ab9c130177d7943fa5fd88f'}, 'disease': {'type': 'uri', 'value': 'http://linkedlifedata.com/resource/umls/id/C0678202'}, 'gene': {'type': 'uri', 'value': 'http://identifiers.org/ncbigene/159296'}}\n",
      "{'gda': {'type': 'uri', 'value': 'http://rdf.disgenet.org/resource/gda/DGNa43f397d79061a29c32a697e7dd10876'}, 'disease': {'type': 'uri', 'value': 'http://linkedlifedata.com/resource/umls/id/C0678202'}, 'gene': {'type': 'uri', 'value': 'http://identifiers.org/ncbigene/159296'}}\n",
      "{'gda': {'type': 'uri', 'value': 'http://rdf.disgenet.org/resource/gda/DGN6d5df2edd8ccfacc30ab731952724e5f'}, 'disease': {'type': 'uri', 'value': 'http://linkedlifedata.com/resource/umls/id/C2936837'}, 'gene': {'type': 'uri', 'value': 'http://identifiers.org/ncbigene/3857'}}\n",
      "{'gda': {'type': 'uri', 'value': 'http://rdf.disgenet.org/resource/gda/DGN9bc943834f5fa504e81513ea24c6fb7d'}, 'disease': {'type': 'uri', 'value': 'http://linkedlifedata.com/resource/umls/id/C0678202'}, 'gene': {'type': 'uri', 'value': 'http://identifiers.org/ncbigene/6932'}}\n",
      "{'gda': {'type': 'uri', 'value': 'http://rdf.disgenet.org/resource/gda/DGNbb578cd260e19d4377842dd6663e78dc'}, 'disease': {'type': 'uri', 'value': 'http://linkedlifedata.com/resource/umls/id/C4310620'}, 'gene': {'type': 'uri', 'value': 'http://identifiers.org/ncbigene/91662'}}\n",
      "{'gda': {'type': 'uri', 'value': 'http://rdf.disgenet.org/resource/gda/DGNc8975049857b7f17bdb9e0b7518d2130'}, 'disease': {'type': 'uri', 'value': 'http://linkedlifedata.com/resource/umls/id/C1860608'}, 'gene': {'type': 'uri', 'value': 'http://identifiers.org/ncbigene/7062'}}\n",
      "{'gda': {'type': 'uri', 'value': 'http://rdf.disgenet.org/resource/gda/DGN9e84d2dcb9d6ab894ccdaab3d7ae7edc'}, 'disease': {'type': 'uri', 'value': 'http://linkedlifedata.com/resource/umls/id/C3489771'}, 'gene': {'type': 'uri', 'value': 'http://identifiers.org/ncbigene/79651'}}\n",
      "{'gda': {'type': 'uri', 'value': 'http://rdf.disgenet.org/resource/gda/DGN9c1f739e224f5e2e77db66c6725ea74e'}, 'disease': {'type': 'uri', 'value': 'http://linkedlifedata.com/resource/umls/id/C3489771'}, 'gene': {'type': 'uri', 'value': 'http://identifiers.org/ncbigene/79651'}}\n",
      "{'gda': {'type': 'uri', 'value': 'http://rdf.disgenet.org/resource/gda/DGNd34560ea6ab462786f8314b2eb48a6be'}, 'disease': {'type': 'uri', 'value': 'http://linkedlifedata.com/resource/umls/id/C3489771'}, 'gene': {'type': 'uri', 'value': 'http://identifiers.org/ncbigene/79651'}}\n",
      "{'gda': {'type': 'uri', 'value': 'http://rdf.disgenet.org/resource/gda/DGN22a0801ea995df0ae97305962c7e44d4'}, 'disease': {'type': 'uri', 'value': 'http://linkedlifedata.com/resource/umls/id/C1860608'}, 'gene': {'type': 'uri', 'value': 'http://identifiers.org/ncbigene/51702'}}\n",
      "{'gda': {'type': 'uri', 'value': 'http://rdf.disgenet.org/resource/gda/DGN8cb28508ff5785aac4a02f661a787af8'}, 'disease': {'type': 'uri', 'value': 'http://linkedlifedata.com/resource/umls/id/C0678202'}, 'gene': {'type': 'uri', 'value': 'http://identifiers.org/ncbigene/5771'}}\n",
      "{'gda': {'type': 'uri', 'value': 'http://rdf.disgenet.org/resource/gda/DGN52ed287043bb5b804981c54d54cedb78'}, 'disease': {'type': 'uri', 'value': 'http://linkedlifedata.com/resource/umls/id/C0678202'}, 'gene': {'type': 'uri', 'value': 'http://identifiers.org/ncbigene/64167'}}\n",
      "{'gda': {'type': 'uri', 'value': 'http://rdf.disgenet.org/resource/gda/DGNc7fbe5b9db5c7adc9842041a8818b330'}, 'disease': {'type': 'uri', 'value': 'http://linkedlifedata.com/resource/umls/id/C0678202'}, 'gene': {'type': 'uri', 'value': 'http://identifiers.org/ncbigene/117289'}}\n",
      "{'gda': {'type': 'uri', 'value': 'http://rdf.disgenet.org/resource/gda/DGNc9f40d39ad40ada661ff69412805e9b9'}, 'disease': {'type': 'uri', 'value': 'http://linkedlifedata.com/resource/umls/id/C0678202'}, 'gene': {'type': 'uri', 'value': 'http://identifiers.org/ncbigene/151306'}}\n",
      "{'gda': {'type': 'uri', 'value': 'http://rdf.disgenet.org/resource/gda/DGN53b355da2ee4eedc39d90ffbeaeeebac'}, 'disease': {'type': 'uri', 'value': 'http://linkedlifedata.com/resource/umls/id/C2931358'}, 'gene': {'type': 'uri', 'value': 'http://identifiers.org/ncbigene/1778'}}\n",
      "{'gda': {'type': 'uri', 'value': 'http://rdf.disgenet.org/resource/gda/DGN39b5af541a4c3136cc384502a555770b'}, 'disease': {'type': 'uri', 'value': 'http://linkedlifedata.com/resource/umls/id/C0678202'}, 'gene': {'type': 'uri', 'value': 'http://identifiers.org/ncbigene/60468'}}\n",
      "{'gda': {'type': 'uri', 'value': 'http://rdf.disgenet.org/resource/gda/DGNdecfc822ecf5a3e454422f2b7b82ee70'}, 'disease': {'type': 'uri', 'value': 'http://linkedlifedata.com/resource/umls/id/C0678202'}, 'gene': {'type': 'uri', 'value': 'http://identifiers.org/ncbigene/149233'}}\n",
      "{'gda': {'type': 'uri', 'value': 'http://rdf.disgenet.org/resource/gda/DGN1e858709cf46dd4d6a8cd1355158b21c'}, 'disease': {'type': 'uri', 'value': 'http://linkedlifedata.com/resource/umls/id/C0678202'}, 'gene': {'type': 'uri', 'value': 'http://identifiers.org/ncbigene/149233'}}\n",
      "{'gda': {'type': 'uri', 'value': 'http://rdf.disgenet.org/resource/gda/DGN244e2ac44d9629dfb7aae293a755b3e3'}, 'disease': {'type': 'uri', 'value': 'http://linkedlifedata.com/resource/umls/id/C0678202'}, 'gene': {'type': 'uri', 'value': 'http://identifiers.org/ncbigene/1788'}}\n",
      "{'gda': {'type': 'uri', 'value': 'http://rdf.disgenet.org/resource/gda/DGN95d9191df1b2ccfc6d3bfa5bcb99694e'}, 'disease': {'type': 'uri', 'value': 'http://linkedlifedata.com/resource/umls/id/C2936837'}, 'gene': {'type': 'uri', 'value': 'http://identifiers.org/ncbigene/3848'}}\n",
      "{'gda': {'type': 'uri', 'value': 'http://rdf.disgenet.org/resource/gda/DGN2fb87118d457397effb0313cbb338db1'}, 'disease': {'type': 'uri', 'value': 'http://linkedlifedata.com/resource/umls/id/C3489771'}, 'gene': {'type': 'uri', 'value': 'http://identifiers.org/ncbigene/3868'}}\n",
      "{'gda': {'type': 'uri', 'value': 'http://rdf.disgenet.org/resource/gda/DGNb44ec9b6ddbeb50f51e607333118b7f3'}, 'disease': {'type': 'uri', 'value': 'http://linkedlifedata.com/resource/umls/id/C0678202'}, 'gene': {'type': 'uri', 'value': 'http://identifiers.org/ncbigene/54106'}}\n",
      "{'gda': {'type': 'uri', 'value': 'http://rdf.disgenet.org/resource/gda/DGNa0e7bb37cbc8a68364d3a63754cc9de3'}, 'disease': {'type': 'uri', 'value': 'http://linkedlifedata.com/resource/umls/id/C0678202'}, 'gene': {'type': 'uri', 'value': 'http://identifiers.org/ncbigene/54106'}}\n",
      "{'gda': {'type': 'uri', 'value': 'http://rdf.disgenet.org/resource/gda/DGNd367822ec9fbaf9309aeeef0dede9dbd'}, 'disease': {'type': 'uri', 'value': 'http://linkedlifedata.com/resource/umls/id/C4310620'}, 'gene': {'type': 'uri', 'value': 'http://identifiers.org/ncbigene/6283'}}\n",
      "{'gda': {'type': 'uri', 'value': 'http://rdf.disgenet.org/resource/gda/DGNaf7ae2f948501a82b347dc3fa5819c13'}, 'disease': {'type': 'uri', 'value': 'http://linkedlifedata.com/resource/umls/id/C1860608'}, 'gene': {'type': 'uri', 'value': 'http://identifiers.org/ncbigene/7053'}}\n",
      "{'gda': {'type': 'uri', 'value': 'http://rdf.disgenet.org/resource/gda/DGN3aa3ea61bebea63b94fb96c0cb40209b'}, 'disease': {'type': 'uri', 'value': 'http://linkedlifedata.com/resource/umls/id/C0029810'}, 'gene': {'type': 'uri', 'value': 'http://identifiers.org/ncbigene/10524'}}\n",
      "{'gda': {'type': 'uri', 'value': 'http://rdf.disgenet.org/resource/gda/DGNe19c9df44af0d190f860ca7b214e0858'}, 'disease': {'type': 'uri', 'value': 'http://linkedlifedata.com/resource/umls/id/C0678202'}, 'gene': {'type': 'uri', 'value': 'http://identifiers.org/ncbigene/114548'}}\n",
      "{'gda': {'type': 'uri', 'value': 'http://rdf.disgenet.org/resource/gda/DGN0ce9937be6b7c6b5fba693fe30c9b0f2'}, 'disease': {'type': 'uri', 'value': 'http://linkedlifedata.com/resource/umls/id/C4310620'}, 'gene': {'type': 'uri', 'value': 'http://identifiers.org/ncbigene/114548'}}\n",
      "{'gda': {'type': 'uri', 'value': 'http://rdf.disgenet.org/resource/gda/DGN53745bea0df53727377dc725684f14b2'}, 'disease': {'type': 'uri', 'value': 'http://linkedlifedata.com/resource/umls/id/C4305530'}, 'gene': {'type': 'uri', 'value': 'http://identifiers.org/ncbigene/1184'}}\n",
      "{'gda': {'type': 'uri', 'value': 'http://rdf.disgenet.org/resource/gda/DGN347d05a35335b14b21687d65b112edc9'}, 'disease': {'type': 'uri', 'value': 'http://linkedlifedata.com/resource/umls/id/C4305530'}, 'gene': {'type': 'uri', 'value': 'http://identifiers.org/ncbigene/1184'}}\n",
      "{'gda': {'type': 'uri', 'value': 'http://rdf.disgenet.org/resource/gda/DGN1212f984996db27862a69bec33c6ec3e'}, 'disease': {'type': 'uri', 'value': 'http://linkedlifedata.com/resource/umls/id/C4310796'}, 'gene': {'type': 'uri', 'value': 'http://identifiers.org/ncbigene/2200'}}\n",
      "{'gda': {'type': 'uri', 'value': 'http://rdf.disgenet.org/resource/gda/DGN7ece2419d6acb5d0a34b3a8a04670438'}, 'disease': {'type': 'uri', 'value': 'http://linkedlifedata.com/resource/umls/id/C4310796'}, 'gene': {'type': 'uri', 'value': 'http://identifiers.org/ncbigene/2200'}}\n"
     ]
    }
   ],
   "source": [
    "try:\n",
    "    ret = sparql.queryAndConvert()\n",
    "    for r in ret[\"results\"][\"bindings\"]:\n",
    "        print(r)\n",
    "except Exception as e:\n",
    "    print(e)"
   ]
  },
  {
   "cell_type": "code",
   "execution_count": 21,
   "id": "7dd8cd7b",
   "metadata": {},
   "outputs": [
    {
     "name": "stdout",
     "output_type": "stream",
     "text": [
      "{'disease': {'type': 'uri', 'value': 'http://linkedlifedata.com/resource/umls/id/C1860608'}}\n",
      "{'disease': {'type': 'uri', 'value': 'http://linkedlifedata.com/resource/umls/id/C4540327'}}\n",
      "{'disease': {'type': 'uri', 'value': 'http://linkedlifedata.com/resource/umls/id/C4310796'}}\n",
      "{'disease': {'type': 'uri', 'value': 'http://linkedlifedata.com/resource/umls/id/C1861980'}}\n",
      "{'disease': {'type': 'uri', 'value': 'http://linkedlifedata.com/resource/umls/id/C4225407'}}\n",
      "{'disease': {'type': 'uri', 'value': 'http://linkedlifedata.com/resource/umls/id/C2936837'}}\n",
      "{'disease': {'type': 'uri', 'value': 'http://linkedlifedata.com/resource/umls/id/C3489771'}}\n",
      "{'disease': {'type': 'uri', 'value': 'http://linkedlifedata.com/resource/umls/id/C4540498'}}\n",
      "{'disease': {'type': 'uri', 'value': 'http://linkedlifedata.com/resource/umls/id/C0029810'}}\n",
      "{'disease': {'type': 'uri', 'value': 'http://linkedlifedata.com/resource/umls/id/C3149907'}}\n"
     ]
    }
   ],
   "source": [
    "#get disease term\n",
    "sparql.setQuery(\"\"\"\n",
    "SELECT DISTINCT ?disease ?term \n",
    "FROM <http://rdf.disgenet.org> \n",
    "WHERE { \n",
    "    ?disease rdf:type ncit:C7057 .  \n",
    "    #?disease sio:SIO_000332 ?term .  \n",
    "} \n",
    "LIMIT 10\n",
    "\"\"\"\n",
    ")\n",
    "\n",
    "try:\n",
    "    ret = sparql.queryAndConvert()\n",
    "    for r in ret[\"results\"][\"bindings\"]:\n",
    "        print(r)\n",
    "except Exception as e:\n",
    "    print(e)"
   ]
  },
  {
   "cell_type": "code",
   "execution_count": 27,
   "id": "561a0c4f",
   "metadata": {},
   "outputs": [
    {
     "name": "stdout",
     "output_type": "stream",
     "text": [
      "{'subject': {'type': 'uri', 'value': 'http://rdf.disgenet.org/resource/gda/DGN00274e6606ba4ab4767281f531e9d3cc'}, 'label': {'type': 'literal', 'xml:lang': 'en', 'value': 'slit guidance ligand 2 [ncbigene:9353] - Renal Cell Carcinoma [umls:C0007134] Association [disgenet:DGN00274e6606ba4ab4767281f531e9d3cc]'}, 'comment': {'type': 'literal', 'xml:lang': 'en', 'value': 'Association between the gene [ncbigene:9353] and the disease [umls:C0007134] integrated into DisGeNET. Gene-disease associations are identified by the DisGeNET ID.'}, 'id': {'type': 'typed-literal', 'datatype': 'http://www.w3.org/2001/XMLSchema#string', 'value': 'disgenet:DGN00274e6606ba4ab4767281f531e9d3cc'}, 'title': {'type': 'literal', 'xml:lang': 'en', 'value': 'slit guidance ligand 2 [ncbigene:9353] - Renal Cell Carcinoma [umls:C0007134] Association'}, 'rdfSource': {'type': 'uri', 'value': 'http://rdf.disgenet.org/v7.0.0/void/geneDiseaseAssociation'}}\n",
      "{'subject': {'type': 'uri', 'value': 'http://rdf.disgenet.org/resource/gda/DGN00388f57fadcd6f385e5ec9949e132ad'}, 'label': {'type': 'literal', 'xml:lang': 'en', 'value': 'survival of motor neuron 2, centromeric [ncbigene:6607] - Spinal Muscular Atrophy [umls:C0026847] Association [disgenet:DGN00388f57fadcd6f385e5ec9949e132ad]'}, 'comment': {'type': 'literal', 'xml:lang': 'en', 'value': 'Association between the gene [ncbigene:6607] and the disease [umls:C0026847] integrated into DisGeNET. Gene-disease associations are identified by the DisGeNET ID.'}, 'id': {'type': 'typed-literal', 'datatype': 'http://www.w3.org/2001/XMLSchema#string', 'value': 'disgenet:DGN00388f57fadcd6f385e5ec9949e132ad'}, 'title': {'type': 'literal', 'xml:lang': 'en', 'value': 'survival of motor neuron 2, centromeric [ncbigene:6607] - Spinal Muscular Atrophy [umls:C0026847] Association'}, 'rdfSource': {'type': 'uri', 'value': 'http://rdf.disgenet.org/v7.0.0/void/geneDiseaseAssociation'}}\n",
      "{'subject': {'type': 'uri', 'value': 'http://rdf.disgenet.org/resource/gda/DGN0095c867537b24521e5bec21fb16ac7a'}, 'label': {'type': 'literal', 'xml:lang': 'en', 'value': 'oncostatin M [ncbigene:5008] - Breast Carcinoma [umls:C0678222] Association [disgenet:DGN0095c867537b24521e5bec21fb16ac7a]'}, 'comment': {'type': 'literal', 'xml:lang': 'en', 'value': 'Association between the gene [ncbigene:5008] and the disease [umls:C0678222] integrated into DisGeNET. Gene-disease associations are identified by the DisGeNET ID.'}, 'id': {'type': 'typed-literal', 'datatype': 'http://www.w3.org/2001/XMLSchema#string', 'value': 'disgenet:DGN0095c867537b24521e5bec21fb16ac7a'}, 'title': {'type': 'literal', 'xml:lang': 'en', 'value': 'oncostatin M [ncbigene:5008] - Breast Carcinoma [umls:C0678222] Association'}, 'rdfSource': {'type': 'uri', 'value': 'http://rdf.disgenet.org/v7.0.0/void/geneDiseaseAssociation'}}\n",
      "{'subject': {'type': 'uri', 'value': 'http://rdf.disgenet.org/resource/gda/DGN00ce1cd228b96fc771257c72da27e5a5'}, 'label': {'type': 'literal', 'xml:lang': 'en', 'value': 'clusterin [ncbigene:1191] - Malignant neoplasm of breast [umls:C0006142] Association [disgenet:DGN00ce1cd228b96fc771257c72da27e5a5]'}, 'comment': {'type': 'literal', 'xml:lang': 'en', 'value': 'Association between the gene [ncbigene:1191] and the disease [umls:C0006142] integrated into DisGeNET. Gene-disease associations are identified by the DisGeNET ID.'}, 'id': {'type': 'typed-literal', 'datatype': 'http://www.w3.org/2001/XMLSchema#string', 'value': 'disgenet:DGN00ce1cd228b96fc771257c72da27e5a5'}, 'title': {'type': 'literal', 'xml:lang': 'en', 'value': 'clusterin [ncbigene:1191] - Malignant neoplasm of breast [umls:C0006142] Association'}, 'rdfSource': {'type': 'uri', 'value': 'http://rdf.disgenet.org/v7.0.0/void/geneDiseaseAssociation'}}\n",
      "{'subject': {'type': 'uri', 'value': 'http://rdf.disgenet.org/resource/gda/DGN011e3dfcff27ec2b6e5f3310bcfa5881'}, 'label': {'type': 'literal', 'xml:lang': 'en', 'value': 'cadherin 1 [ncbigene:999] - Malignant neoplasm of breast [umls:C0006142] Association [disgenet:DGN011e3dfcff27ec2b6e5f3310bcfa5881]'}, 'comment': {'type': 'literal', 'xml:lang': 'en', 'value': 'Association between the gene [ncbigene:999] and the disease [umls:C0006142] integrated into DisGeNET. Gene-disease associations are identified by the DisGeNET ID.'}, 'id': {'type': 'typed-literal', 'datatype': 'http://www.w3.org/2001/XMLSchema#string', 'value': 'disgenet:DGN011e3dfcff27ec2b6e5f3310bcfa5881'}, 'title': {'type': 'literal', 'xml:lang': 'en', 'value': 'cadherin 1 [ncbigene:999] - Malignant neoplasm of breast [umls:C0006142] Association'}, 'rdfSource': {'type': 'uri', 'value': 'http://rdf.disgenet.org/v7.0.0/void/geneDiseaseAssociation'}}\n",
      "{'subject': {'type': 'uri', 'value': 'http://rdf.disgenet.org/resource/gda/DGN021d04163a97bba728f4162925232550'}, 'label': {'type': 'literal', 'xml:lang': 'en', 'value': 'frizzled related protein [ncbigene:2487] - Leukemia, Myelocytic, Acute [umls:C0023467] Association [disgenet:DGN021d04163a97bba728f4162925232550]'}, 'comment': {'type': 'literal', 'xml:lang': 'en', 'value': 'Association between the gene [ncbigene:2487] and the disease [umls:C0023467] integrated into DisGeNET. Gene-disease associations are identified by the DisGeNET ID.'}, 'id': {'type': 'typed-literal', 'datatype': 'http://www.w3.org/2001/XMLSchema#string', 'value': 'disgenet:DGN021d04163a97bba728f4162925232550'}, 'title': {'type': 'literal', 'xml:lang': 'en', 'value': 'frizzled related protein [ncbigene:2487] - Leukemia, Myelocytic, Acute [umls:C0023467] Association'}, 'rdfSource': {'type': 'uri', 'value': 'http://rdf.disgenet.org/v7.0.0/void/geneDiseaseAssociation'}}\n",
      "{'subject': {'type': 'uri', 'value': 'http://rdf.disgenet.org/resource/gda/DGN026b777eb33018575e308b81f08ef8ec'}, 'label': {'type': 'literal', 'xml:lang': 'en', 'value': 'cyclin dependent kinase inhibitor 2A [ncbigene:1029] - Hepatitis B [umls:C0019163] Association [disgenet:DGN026b777eb33018575e308b81f08ef8ec]'}, 'comment': {'type': 'literal', 'xml:lang': 'en', 'value': 'Association between the gene [ncbigene:1029] and the disease [umls:C0019163] integrated into DisGeNET. Gene-disease associations are identified by the DisGeNET ID.'}, 'id': {'type': 'typed-literal', 'datatype': 'http://www.w3.org/2001/XMLSchema#string', 'value': 'disgenet:DGN026b777eb33018575e308b81f08ef8ec'}, 'title': {'type': 'literal', 'xml:lang': 'en', 'value': 'cyclin dependent kinase inhibitor 2A [ncbigene:1029] - Hepatitis B [umls:C0019163] Association'}, 'rdfSource': {'type': 'uri', 'value': 'http://rdf.disgenet.org/v7.0.0/void/geneDiseaseAssociation'}}\n",
      "{'subject': {'type': 'uri', 'value': 'http://rdf.disgenet.org/resource/gda/DGN027e4e8a39bd7bfe6784b5c41cc4201c'}, 'label': {'type': 'literal', 'xml:lang': 'en', 'value': 'cyclin dependent kinase inhibitor 2A [ncbigene:1029] - Lung Neoplasms [umls:C0024121] Association [disgenet:DGN027e4e8a39bd7bfe6784b5c41cc4201c]'}, 'comment': {'type': 'literal', 'xml:lang': 'en', 'value': 'Association between the gene [ncbigene:1029] and the disease [umls:C0024121] integrated into DisGeNET. Gene-disease associations are identified by the DisGeNET ID.'}, 'id': {'type': 'typed-literal', 'datatype': 'http://www.w3.org/2001/XMLSchema#string', 'value': 'disgenet:DGN027e4e8a39bd7bfe6784b5c41cc4201c'}, 'title': {'type': 'literal', 'xml:lang': 'en', 'value': 'cyclin dependent kinase inhibitor 2A [ncbigene:1029] - Lung Neoplasms [umls:C0024121] Association'}, 'rdfSource': {'type': 'uri', 'value': 'http://rdf.disgenet.org/v7.0.0/void/geneDiseaseAssociation'}}\n",
      "{'subject': {'type': 'uri', 'value': 'http://rdf.disgenet.org/resource/gda/DGN02a55db3ff0302098473c67da57a33bd'}, 'label': {'type': 'literal', 'xml:lang': 'en', 'value': 'neuronatin [ncbigene:4826] - leukemia [umls:C0023418] Association [disgenet:DGN02a55db3ff0302098473c67da57a33bd]'}, 'comment': {'type': 'literal', 'xml:lang': 'en', 'value': 'Association between the gene [ncbigene:4826] and the disease [umls:C0023418] integrated into DisGeNET. Gene-disease associations are identified by the DisGeNET ID.'}, 'id': {'type': 'typed-literal', 'datatype': 'http://www.w3.org/2001/XMLSchema#string', 'value': 'disgenet:DGN02a55db3ff0302098473c67da57a33bd'}, 'title': {'type': 'literal', 'xml:lang': 'en', 'value': 'neuronatin [ncbigene:4826] - leukemia [umls:C0023418] Association'}, 'rdfSource': {'type': 'uri', 'value': 'http://rdf.disgenet.org/v7.0.0/void/geneDiseaseAssociation'}}\n",
      "{'subject': {'type': 'uri', 'value': 'http://rdf.disgenet.org/resource/gda/DGN03127e1f39dc13d544fed8b9c9d19e50'}, 'label': {'type': 'literal', 'xml:lang': 'en', 'value': 'prostaglandin-endoperoxide synthase 2 [ncbigene:5743] - Gastritis, Atrophic [umls:C0017154] Association [disgenet:DGN03127e1f39dc13d544fed8b9c9d19e50]'}, 'comment': {'type': 'literal', 'xml:lang': 'en', 'value': 'Association between the gene [ncbigene:5743] and the disease [umls:C0017154] integrated into DisGeNET. Gene-disease associations are identified by the DisGeNET ID.'}, 'id': {'type': 'typed-literal', 'datatype': 'http://www.w3.org/2001/XMLSchema#string', 'value': 'disgenet:DGN03127e1f39dc13d544fed8b9c9d19e50'}, 'title': {'type': 'literal', 'xml:lang': 'en', 'value': 'prostaglandin-endoperoxide synthase 2 [ncbigene:5743] - Gastritis, Atrophic [umls:C0017154] Association'}, 'rdfSource': {'type': 'uri', 'value': 'http://rdf.disgenet.org/v7.0.0/void/geneDiseaseAssociation'}}\n",
      "{'subject': {'type': 'uri', 'value': 'http://rdf.disgenet.org/resource/gda/DGN0320161ab11fc05379ed4efbc867f876'}, 'label': {'type': 'literal', 'xml:lang': 'en', 'value': 'mutL homolog 1 [ncbigene:4292] - Hereditary Nonpolyposis Colorectal Cancer [umls:C1333990] Association [disgenet:DGN0320161ab11fc05379ed4efbc867f876]'}, 'comment': {'type': 'literal', 'xml:lang': 'en', 'value': 'Association between the gene [ncbigene:4292] and the disease [umls:C1333990] integrated into DisGeNET. Gene-disease associations are identified by the DisGeNET ID.'}, 'id': {'type': 'typed-literal', 'datatype': 'http://www.w3.org/2001/XMLSchema#string', 'value': 'disgenet:DGN0320161ab11fc05379ed4efbc867f876'}, 'title': {'type': 'literal', 'xml:lang': 'en', 'value': 'mutL homolog 1 [ncbigene:4292] - Hereditary Nonpolyposis Colorectal Cancer [umls:C1333990] Association'}, 'rdfSource': {'type': 'uri', 'value': 'http://rdf.disgenet.org/v7.0.0/void/geneDiseaseAssociation'}}\n",
      "{'subject': {'type': 'uri', 'value': 'http://rdf.disgenet.org/resource/gda/DGN0345a26bd15d98276048526e2382bb4f'}, 'label': {'type': 'literal', 'xml:lang': 'en', 'value': 'DLEC1 cilia and flagella associated protein [ncbigene:9940] - Carcinogenesis [umls:C0596263] Association [disgenet:DGN0345a26bd15d98276048526e2382bb4f]'}, 'comment': {'type': 'literal', 'xml:lang': 'en', 'value': 'Association between the gene [ncbigene:9940] and the disease [umls:C0596263] integrated into DisGeNET. Gene-disease associations are identified by the DisGeNET ID.'}, 'id': {'type': 'typed-literal', 'datatype': 'http://www.w3.org/2001/XMLSchema#string', 'value': 'disgenet:DGN0345a26bd15d98276048526e2382bb4f'}, 'title': {'type': 'literal', 'xml:lang': 'en', 'value': 'DLEC1 cilia and flagella associated protein [ncbigene:9940] - Carcinogenesis [umls:C0596263] Association'}, 'rdfSource': {'type': 'uri', 'value': 'http://rdf.disgenet.org/v7.0.0/void/geneDiseaseAssociation'}}\n",
      "{'subject': {'type': 'uri', 'value': 'http://rdf.disgenet.org/resource/gda/DGN0359c0dde8df19499b764ed3d8ce965f'}, 'label': {'type': 'literal', 'xml:lang': 'en', 'value': 'homeobox A11 [ncbigene:3207] - Refractory Cytopenia of Childhood [umls:C2826323] Association [disgenet:DGN0359c0dde8df19499b764ed3d8ce965f]'}, 'comment': {'type': 'literal', 'xml:lang': 'en', 'value': 'Association between the gene [ncbigene:3207] and the disease [umls:C2826323] integrated into DisGeNET. Gene-disease associations are identified by the DisGeNET ID.'}, 'id': {'type': 'typed-literal', 'datatype': 'http://www.w3.org/2001/XMLSchema#string', 'value': 'disgenet:DGN0359c0dde8df19499b764ed3d8ce965f'}, 'title': {'type': 'literal', 'xml:lang': 'en', 'value': 'homeobox A11 [ncbigene:3207] - Refractory Cytopenia of Childhood [umls:C2826323] Association'}, 'rdfSource': {'type': 'uri', 'value': 'http://rdf.disgenet.org/v7.0.0/void/geneDiseaseAssociation'}}\n",
      "{'subject': {'type': 'uri', 'value': 'http://rdf.disgenet.org/resource/gda/DGN04566826f37ac31556142106958163b6'}, 'label': {'type': 'literal', 'xml:lang': 'en', 'value': 'Ras association domain family member 1 [ncbigene:11186] - Neuroendocrine Tumors [umls:C0206754] Association [disgenet:DGN04566826f37ac31556142106958163b6]'}, 'comment': {'type': 'literal', 'xml:lang': 'en', 'value': 'Association between the gene [ncbigene:11186] and the disease [umls:C0206754] integrated into DisGeNET. Gene-disease associations are identified by the DisGeNET ID.'}, 'id': {'type': 'typed-literal', 'datatype': 'http://www.w3.org/2001/XMLSchema#string', 'value': 'disgenet:DGN04566826f37ac31556142106958163b6'}, 'title': {'type': 'literal', 'xml:lang': 'en', 'value': 'Ras association domain family member 1 [ncbigene:11186] - Neuroendocrine Tumors [umls:C0206754] Association'}, 'rdfSource': {'type': 'uri', 'value': 'http://rdf.disgenet.org/v7.0.0/void/geneDiseaseAssociation'}}\n",
      "{'subject': {'type': 'uri', 'value': 'http://rdf.disgenet.org/resource/gda/DGN048e9b4d3a8c93f5ecb9a6fdd9c5bfd5'}, 'label': {'type': 'literal', 'xml:lang': 'en', 'value': 'O-6-methylguanine-DNA methyltransferase [ncbigene:4255] - Oligodendroglial Neoplasm [umls:C1335110] Association [disgenet:DGN048e9b4d3a8c93f5ecb9a6fdd9c5bfd5]'}, 'comment': {'type': 'literal', 'xml:lang': 'en', 'value': 'Association between the gene [ncbigene:4255] and the disease [umls:C1335110] integrated into DisGeNET. Gene-disease associations are identified by the DisGeNET ID.'}, 'id': {'type': 'typed-literal', 'datatype': 'http://www.w3.org/2001/XMLSchema#string', 'value': 'disgenet:DGN048e9b4d3a8c93f5ecb9a6fdd9c5bfd5'}, 'title': {'type': 'literal', 'xml:lang': 'en', 'value': 'O-6-methylguanine-DNA methyltransferase [ncbigene:4255] - Oligodendroglial Neoplasm [umls:C1335110] Association'}, 'rdfSource': {'type': 'uri', 'value': 'http://rdf.disgenet.org/v7.0.0/void/geneDiseaseAssociation'}}\n",
      "{'subject': {'type': 'uri', 'value': 'http://rdf.disgenet.org/resource/gda/DGN05374a7284fdd7501117c6cf99d5af40'}, 'label': {'type': 'literal', 'xml:lang': 'en', 'value': 'secretoglobin family 3A member 1 [ncbigene:92304] - Small cell carcinoma of lung [umls:C0149925] Association [disgenet:DGN05374a7284fdd7501117c6cf99d5af40]'}, 'comment': {'type': 'literal', 'xml:lang': 'en', 'value': 'Association between the gene [ncbigene:92304] and the disease [umls:C0149925] integrated into DisGeNET. Gene-disease associations are identified by the DisGeNET ID.'}, 'id': {'type': 'typed-literal', 'datatype': 'http://www.w3.org/2001/XMLSchema#string', 'value': 'disgenet:DGN05374a7284fdd7501117c6cf99d5af40'}, 'title': {'type': 'literal', 'xml:lang': 'en', 'value': 'secretoglobin family 3A member 1 [ncbigene:92304] - Small cell carcinoma of lung [umls:C0149925] Association'}, 'rdfSource': {'type': 'uri', 'value': 'http://rdf.disgenet.org/v7.0.0/void/geneDiseaseAssociation'}}\n",
      "{'subject': {'type': 'uri', 'value': 'http://rdf.disgenet.org/resource/gda/DGN059a30d1df66b827378eddf547e2808f'}, 'label': {'type': 'literal', 'xml:lang': 'en', 'value': 'steroid sulfatase [ncbigene:412] - Prostate carcinoma [umls:C0600139] Association [disgenet:DGN059a30d1df66b827378eddf547e2808f]'}, 'comment': {'type': 'literal', 'xml:lang': 'en', 'value': 'Association between the gene [ncbigene:412] and the disease [umls:C0600139] integrated into DisGeNET. Gene-disease associations are identified by the DisGeNET ID.'}, 'id': {'type': 'typed-literal', 'datatype': 'http://www.w3.org/2001/XMLSchema#string', 'value': 'disgenet:DGN059a30d1df66b827378eddf547e2808f'}, 'title': {'type': 'literal', 'xml:lang': 'en', 'value': 'steroid sulfatase [ncbigene:412] - Prostate carcinoma [umls:C0600139] Association'}, 'rdfSource': {'type': 'uri', 'value': 'http://rdf.disgenet.org/v7.0.0/void/geneDiseaseAssociation'}}\n",
      "{'subject': {'type': 'uri', 'value': 'http://rdf.disgenet.org/resource/gda/DGN05bde3f2156193fc878f8a71e000d3a5'}, 'label': {'type': 'literal', 'xml:lang': 'en', 'value': 'glutathione S-transferase pi 1 [ncbigene:2950] - Prostate carcinoma [umls:C0600139] Association [disgenet:DGN05bde3f2156193fc878f8a71e000d3a5]'}, 'comment': {'type': 'literal', 'xml:lang': 'en', 'value': 'Association between the gene [ncbigene:2950] and the disease [umls:C0600139] integrated into DisGeNET. Gene-disease associations are identified by the DisGeNET ID.'}, 'id': {'type': 'typed-literal', 'datatype': 'http://www.w3.org/2001/XMLSchema#string', 'value': 'disgenet:DGN05bde3f2156193fc878f8a71e000d3a5'}, 'title': {'type': 'literal', 'xml:lang': 'en', 'value': 'glutathione S-transferase pi 1 [ncbigene:2950] - Prostate carcinoma [umls:C0600139] Association'}, 'rdfSource': {'type': 'uri', 'value': 'http://rdf.disgenet.org/v7.0.0/void/geneDiseaseAssociation'}}\n",
      "{'subject': {'type': 'uri', 'value': 'http://rdf.disgenet.org/resource/gda/DGN05cd0b1d14b5126713ad8164b0e1998b'}, 'label': {'type': 'literal', 'xml:lang': 'en', 'value': 'cyclin dependent kinase inhibitor 2A [ncbigene:1029] - Carcinogenesis [umls:C0596263] Association [disgenet:DGN05cd0b1d14b5126713ad8164b0e1998b]'}, 'comment': {'type': 'literal', 'xml:lang': 'en', 'value': 'Association between the gene [ncbigene:1029] and the disease [umls:C0596263] integrated into DisGeNET. Gene-disease associations are identified by the DisGeNET ID.'}, 'id': {'type': 'typed-literal', 'datatype': 'http://www.w3.org/2001/XMLSchema#string', 'value': 'disgenet:DGN05cd0b1d14b5126713ad8164b0e1998b'}, 'title': {'type': 'literal', 'xml:lang': 'en', 'value': 'cyclin dependent kinase inhibitor 2A [ncbigene:1029] - Carcinogenesis [umls:C0596263] Association'}, 'rdfSource': {'type': 'uri', 'value': 'http://rdf.disgenet.org/v7.0.0/void/geneDiseaseAssociation'}}\n",
      "{'subject': {'type': 'uri', 'value': 'http://rdf.disgenet.org/resource/gda/DGN05f5fdcd1f5377f77b40600ccb13ea2a'}, 'label': {'type': 'literal', 'xml:lang': 'en', 'value': 'Ras association domain family member 1 [ncbigene:11186] - cervical cancer [umls:C4048328] Association [disgenet:DGN05f5fdcd1f5377f77b40600ccb13ea2a]'}, 'comment': {'type': 'literal', 'xml:lang': 'en', 'value': 'Association between the gene [ncbigene:11186] and the disease [umls:C4048328] integrated into DisGeNET. Gene-disease associations are identified by the DisGeNET ID.'}, 'id': {'type': 'typed-literal', 'datatype': 'http://www.w3.org/2001/XMLSchema#string', 'value': 'disgenet:DGN05f5fdcd1f5377f77b40600ccb13ea2a'}, 'title': {'type': 'literal', 'xml:lang': 'en', 'value': 'Ras association domain family member 1 [ncbigene:11186] - cervical cancer [umls:C4048328] Association'}, 'rdfSource': {'type': 'uri', 'value': 'http://rdf.disgenet.org/v7.0.0/void/geneDiseaseAssociation'}}\n"
     ]
    }
   ],
   "source": [
    "#query properties of gda\n",
    "sparql.setQuery(\"\"\"\n",
    "SELECT DISTINCT *\n",
    "FROM <http://rdf.disgenet.org>\n",
    "WHERE{\n",
    "?subject rdf:type sio:SIO_000983 ;\n",
    " rdfs:label ?label ;\n",
    " rdfs:comment ?comment ;\n",
    " dcterms:identifier ?id ;\n",
    " dcterms:title ?title ;\n",
    " void:inDataset ?rdfSource .\n",
    "}\n",
    "LIMIT 20\n",
    "\"\"\"\n",
    ")\n",
    "\n",
    "try:\n",
    "    ret = sparql.queryAndConvert()\n",
    "    for r in ret[\"results\"][\"bindings\"]:\n",
    "        print(r)\n",
    "except Exception as e:\n",
    "    print(e)"
   ]
  },
  {
   "cell_type": "code",
   "execution_count": 30,
   "id": "a9ecd4c5",
   "metadata": {},
   "outputs": [
    {
     "name": "stdout",
     "output_type": "stream",
     "text": [
      "{'subject': {'type': 'uri', 'value': 'http://rdf.disgenet.org/resource/gda/DGN00274e6606ba4ab4767281f531e9d3cc'}, 'source': {'type': 'uri', 'value': 'http://rdf.disgenet.org/v7.0.0/void/BEFREE'}, 'score': {'type': 'uri', 'value': 'http://rdf.disgenet.org/resource/gda/ncbigene:9353_umls:C0007134_association_DisGeNETScore'}, 'date': {'type': 'typed-literal', 'datatype': 'http://www.w3.org/2001/XMLSchema#gYear', 'value': '2004'}, 'description': {'type': 'literal', 'xml:lang': 'en', 'value': '[However, there was no significant association between SLIT2 promoter methylation and RASSF1A or CASP8 methylation in NB and RCC.]. Sentence from MEDLINE/PubMed, a database of the U.S. National Library of Medicine.'}}\n",
      "{'subject': {'type': 'uri', 'value': 'http://rdf.disgenet.org/resource/gda/DGN00388f57fadcd6f385e5ec9949e132ad'}, 'source': {'type': 'uri', 'value': 'http://rdf.disgenet.org/v7.0.0/void/LHGDN'}, 'score': {'type': 'uri', 'value': 'http://rdf.disgenet.org/resource/gda/ncbigene:6607_umls:C0026847_association_DisGeNETScore'}, 'date': {'type': 'typed-literal', 'datatype': 'http://www.w3.org/2001/XMLSchema#gYear', 'value': '2009'}, 'description': {'type': 'literal', 'xml:lang': 'en', 'value': '[However, inhibition of SMN2 gene silencing conferred by DNA methylation might represent a promising strategy for pharmacologic SMA therapy.]. Sentence from MEDLINE/PubMed, a database of the U.S. National Library of Medicine.'}}\n",
      "{'subject': {'type': 'uri', 'value': 'http://rdf.disgenet.org/resource/gda/DGN0095c867537b24521e5bec21fb16ac7a'}, 'source': {'type': 'uri', 'value': 'http://rdf.disgenet.org/v7.0.0/void/BEFREE'}, 'score': {'type': 'uri', 'value': 'http://rdf.disgenet.org/resource/gda/ncbigene:5008_umls:C0678222_association_DisGeNETScore'}, 'date': {'type': 'typed-literal', 'datatype': 'http://www.w3.org/2001/XMLSchema#gYear', 'value': '1997'}, 'description': {'type': 'literal', 'xml:lang': 'en', 'value': '[Oncostatin M-mediated transcriptional suppression of the c-myc gene in breast cancer cells.]. Sentence from MEDLINE/PubMed, a database of the U.S. National Library of Medicine.'}}\n",
      "{'subject': {'type': 'uri', 'value': 'http://rdf.disgenet.org/resource/gda/DGN00ce1cd228b96fc771257c72da27e5a5'}, 'source': {'type': 'uri', 'value': 'http://rdf.disgenet.org/v7.0.0/void/BEFREE'}, 'score': {'type': 'uri', 'value': 'http://rdf.disgenet.org/resource/gda/ncbigene:1191_umls:C0006142_association_DisGeNETScore'}, 'date': {'type': 'typed-literal', 'datatype': 'http://www.w3.org/2001/XMLSchema#gYear', 'value': '2008'}, 'description': {'type': 'literal', 'xml:lang': 'en', 'value': '[This concept was corroborated by in vitro studies showing that silencing of CLU restored toremifene sensitivity in the ER anti-estrogen-resistant breast cancer cell line T47D.]. Sentence from MEDLINE/PubMed, a database of the U.S. National Library of Medicine.'}}\n",
      "{'subject': {'type': 'uri', 'value': 'http://rdf.disgenet.org/resource/gda/DGN011e3dfcff27ec2b6e5f3310bcfa5881'}, 'source': {'type': 'uri', 'value': 'http://rdf.disgenet.org/v7.0.0/void/BEFREE'}, 'score': {'type': 'uri', 'value': 'http://rdf.disgenet.org/resource/gda/ncbigene:999_umls:C0006142_association_DisGeNETScore'}, 'date': {'type': 'typed-literal', 'datatype': 'http://www.w3.org/2001/XMLSchema#gYear', 'value': '2013'}, 'description': {'type': 'literal', 'xml:lang': 'en', 'value': '[In contrast, 31 miRNAs were associated with E-cadherin promoter hypermethylation, which, contrary to E-cadherin mutation, is exclusively observed in breast cancer cell lines that are not of luminal origin.]. Sentence from MEDLINE/PubMed, a database of the U.S. National Library of Medicine.'}}\n",
      "{'subject': {'type': 'uri', 'value': 'http://rdf.disgenet.org/resource/gda/DGN021d04163a97bba728f4162925232550'}, 'source': {'type': 'uri', 'value': 'http://rdf.disgenet.org/v7.0.0/void/BEFREE'}, 'score': {'type': 'uri', 'value': 'http://rdf.disgenet.org/resource/gda/ncbigene:2487_umls:C0023467_association_DisGeNETScore'}, 'date': {'type': 'typed-literal', 'datatype': 'http://www.w3.org/2001/XMLSchema#gYear', 'value': '2008'}, 'description': {'type': 'literal', 'xml:lang': 'en', 'value': '[The methylation status of the SFRP genes was analysed in 100 specimens obtained from AML patients at diagnosis.]. Sentence from MEDLINE/PubMed, a database of the U.S. National Library of Medicine.'}}\n",
      "{'subject': {'type': 'uri', 'value': 'http://rdf.disgenet.org/resource/gda/DGN026b777eb33018575e308b81f08ef8ec'}, 'source': {'type': 'uri', 'value': 'http://rdf.disgenet.org/v7.0.0/void/BEFREE'}, 'score': {'type': 'uri', 'value': 'http://rdf.disgenet.org/resource/gda/ncbigene:1029_umls:C0019163_association_DisGeNETScore'}, 'date': {'type': 'typed-literal', 'datatype': 'http://www.w3.org/2001/XMLSchema#gYear', 'value': '2010'}, 'description': {'type': 'literal', 'xml:lang': 'en', 'value': '[Hepatitis B virus X protein induces hypermethylation of p16(INK4A) promoter via DNA methyltransferases in the early stage of HBV-associated hepatocarcinogenesis.]. Sentence from MEDLINE/PubMed, a database of the U.S. National Library of Medicine.'}}\n",
      "{'subject': {'type': 'uri', 'value': 'http://rdf.disgenet.org/resource/gda/DGN027e4e8a39bd7bfe6784b5c41cc4201c'}, 'source': {'type': 'uri', 'value': 'http://rdf.disgenet.org/v7.0.0/void/BEFREE'}, 'score': {'type': 'uri', 'value': 'http://rdf.disgenet.org/resource/gda/ncbigene:1029_umls:C0024121_association_DisGeNETScore'}, 'date': {'type': 'typed-literal', 'datatype': 'http://www.w3.org/2001/XMLSchema#gYear', 'value': '2005'}, 'description': {'type': 'literal', 'xml:lang': 'en', 'value': '[Moreover, the reverse correlation between p16INK4a immunostaining and p16INK4a promoter hypermethylation was also only observed in nonsmoking female lung tumors.]. Sentence from MEDLINE/PubMed, a database of the U.S. National Library of Medicine.'}}\n",
      "{'subject': {'type': 'uri', 'value': 'http://rdf.disgenet.org/resource/gda/DGN02a55db3ff0302098473c67da57a33bd'}, 'source': {'type': 'uri', 'value': 'http://rdf.disgenet.org/v7.0.0/void/LHGDN'}, 'score': {'type': 'uri', 'value': 'http://rdf.disgenet.org/resource/gda/ncbigene:4826_umls:C0023418_association_DisGeNETScore'}, 'date': {'type': 'typed-literal', 'datatype': 'http://www.w3.org/2001/XMLSchema#gYear', 'value': '2002'}, 'description': {'type': 'literal', 'xml:lang': 'en', 'value': '[Aberrant hypermethylation of the NNAT locus suggests that the dysregulation of genes at 20q11.2-q12 in leukemia may be the result of epigenetic as well as genetic events.]. Sentence from MEDLINE/PubMed, a database of the U.S. National Library of Medicine.'}}\n",
      "{'subject': {'type': 'uri', 'value': 'http://rdf.disgenet.org/resource/gda/DGN03127e1f39dc13d544fed8b9c9d19e50'}, 'source': {'type': 'uri', 'value': 'http://rdf.disgenet.org/v7.0.0/void/BEFREE'}, 'score': {'type': 'uri', 'value': 'http://rdf.disgenet.org/resource/gda/ncbigene:5743_umls:C0017154_association_DisGeNETScore'}, 'date': {'type': 'typed-literal', 'datatype': 'http://www.w3.org/2001/XMLSchema#gYear', 'value': '2015'}, 'description': {'type': 'literal', 'xml:lang': 'en', 'value': '[Association between blood leukocyte DNA methylation of COX-2 and risk of GC was investigated in 133 GCs and 285 superficial gastritis (SG)/ chronic atrophic gastritis (CAG).]. Sentence from MEDLINE/PubMed, a database of the U.S. National Library of Medicine.'}}\n",
      "{'subject': {'type': 'uri', 'value': 'http://rdf.disgenet.org/resource/gda/DGN0320161ab11fc05379ed4efbc867f876'}, 'source': {'type': 'uri', 'value': 'http://rdf.disgenet.org/v7.0.0/void/BEFREE'}, 'score': {'type': 'uri', 'value': 'http://rdf.disgenet.org/resource/gda/ncbigene:4292_umls:C1333990_association_DisGeNETScore'}, 'date': {'type': 'typed-literal', 'datatype': 'http://www.w3.org/2001/XMLSchema#gYear', 'value': '2009'}, 'description': {'type': 'literal', 'xml:lang': 'en', 'value': '[MLH1 promoter methylation was detected in 56% of patients without detected germline defects and in 1 (14%) suspected Lynch syndrome.]. Sentence from MEDLINE/PubMed, a database of the U.S. National Library of Medicine.'}}\n",
      "{'subject': {'type': 'uri', 'value': 'http://rdf.disgenet.org/resource/gda/DGN0345a26bd15d98276048526e2382bb4f'}, 'source': {'type': 'uri', 'value': 'http://rdf.disgenet.org/v7.0.0/void/BEFREE'}, 'score': {'type': 'uri', 'value': 'http://rdf.disgenet.org/resource/gda/ncbigene:9940_umls:C0596263_association_DisGeNETScore'}, 'date': {'type': 'typed-literal', 'datatype': 'http://www.w3.org/2001/XMLSchema#gYear', 'value': '2003'}, 'description': {'type': 'literal', 'xml:lang': 'en', 'value': '[Taken together, the results of our study suggest that the transcriptional silencing of DLC-1, by epigenetic mechanism, may be involved in gastric carcinogenesis.]. Sentence from MEDLINE/PubMed, a database of the U.S. National Library of Medicine.'}}\n",
      "{'subject': {'type': 'uri', 'value': 'http://rdf.disgenet.org/resource/gda/DGN0359c0dde8df19499b764ed3d8ce965f'}, 'source': {'type': 'uri', 'value': 'http://rdf.disgenet.org/v7.0.0/void/BEFREE'}, 'score': {'type': 'uri', 'value': 'http://rdf.disgenet.org/resource/gda/ncbigene:3207_umls:C2826323_association_DisGeNETScore'}, 'date': {'type': 'typed-literal', 'datatype': 'http://www.w3.org/2001/XMLSchema#gYear', 'value': '2017'}, 'description': {'type': 'literal', 'xml:lang': 'en', 'value': '[Epigenetic inactivation of HOXA11, a novel functional tumor suppressor for renal cell carcinoma, is associated with RCC TNM classification.]. Sentence from MEDLINE/PubMed, a database of the U.S. National Library of Medicine.'}}\n",
      "{'subject': {'type': 'uri', 'value': 'http://rdf.disgenet.org/resource/gda/DGN04566826f37ac31556142106958163b6'}, 'source': {'type': 'uri', 'value': 'http://rdf.disgenet.org/v7.0.0/void/BEFREE'}, 'score': {'type': 'uri', 'value': 'http://rdf.disgenet.org/resource/gda/ncbigene:11186_umls:C0206754_association_DisGeNETScore'}, 'date': {'type': 'typed-literal', 'datatype': 'http://www.w3.org/2001/XMLSchema#gYear', 'value': '2017'}, 'description': {'type': 'literal', 'xml:lang': 'en', 'value': '[Pyrosequencing confirmed significant hypermethylation of a RASSF1A CGI in NET.]. Sentence from MEDLINE/PubMed, a database of the U.S. National Library of Medicine.'}}\n",
      "{'subject': {'type': 'uri', 'value': 'http://rdf.disgenet.org/resource/gda/DGN048e9b4d3a8c93f5ecb9a6fdd9c5bfd5'}, 'source': {'type': 'uri', 'value': 'http://rdf.disgenet.org/v7.0.0/void/BEFREE'}, 'score': {'type': 'uri', 'value': 'http://rdf.disgenet.org/resource/gda/ncbigene:4255_umls:C1335110_association_DisGeNETScore'}, 'date': {'type': 'typed-literal', 'datatype': 'http://www.w3.org/2001/XMLSchema#gYear', 'value': '2011'}, 'description': {'type': 'literal', 'xml:lang': 'en', 'value': '[IDH1 mutation was significantly associated with MGMT promoter methylation and an oligodendroglial tumor component.]. Sentence from MEDLINE/PubMed, a database of the U.S. National Library of Medicine.'}}\n",
      "{'subject': {'type': 'uri', 'value': 'http://rdf.disgenet.org/resource/gda/DGN05374a7284fdd7501117c6cf99d5af40'}, 'source': {'type': 'uri', 'value': 'http://rdf.disgenet.org/v7.0.0/void/BEFREE'}, 'score': {'type': 'uri', 'value': 'http://rdf.disgenet.org/resource/gda/ncbigene:92304_umls:C0149925_association_DisGeNETScore'}, 'date': {'type': 'typed-literal', 'datatype': 'http://www.w3.org/2001/XMLSchema#gYear', 'value': '2004'}, 'description': {'type': 'literal', 'xml:lang': 'en', 'value': '[In lung carcinomas, the degree of HIN-1 methylation differed among tumor subtypes (P = 0.02), with the highest level of HIN-1 methylation observed in squamous cell carcinomas and the lowest in small cell lung cancer.]. Sentence from MEDLINE/PubMed, a database of the U.S. National Library of Medicine.'}}\n",
      "{'subject': {'type': 'uri', 'value': 'http://rdf.disgenet.org/resource/gda/DGN059a30d1df66b827378eddf547e2808f'}, 'source': {'type': 'uri', 'value': 'http://rdf.disgenet.org/v7.0.0/void/BEFREE'}, 'score': {'type': 'uri', 'value': 'http://rdf.disgenet.org/resource/gda/ncbigene:412_umls:C0600139_association_DisGeNETScore'}, 'date': {'type': 'typed-literal', 'datatype': 'http://www.w3.org/2001/XMLSchema#gYear', 'value': '2006'}, 'description': {'type': 'literal', 'xml:lang': 'en', 'value': '[Methylation of the ASC gene promoter is both a frequent and early event in prostate cancer carcinogenesis.]. Sentence from MEDLINE/PubMed, a database of the U.S. National Library of Medicine.'}}\n",
      "{'subject': {'type': 'uri', 'value': 'http://rdf.disgenet.org/resource/gda/DGN05bde3f2156193fc878f8a71e000d3a5'}, 'source': {'type': 'uri', 'value': 'http://rdf.disgenet.org/v7.0.0/void/BEFREE'}, 'score': {'type': 'uri', 'value': 'http://rdf.disgenet.org/resource/gda/ncbigene:2950_umls:C0600139_association_DisGeNETScore'}, 'date': {'type': 'typed-literal', 'datatype': 'http://www.w3.org/2001/XMLSchema#gYear', 'value': '2001'}, 'description': {'type': 'literal', 'xml:lang': 'en', 'value': '[Quantitation of GSTP1 methylation accurately discriminates between normal hyperplastic tissue and prostatic carcinoma in small samples of prostate tissue and may augment the standard pathologic/histologic assessment of the prostate.]. Sentence from MEDLINE/PubMed, a database of the U.S. National Library of Medicine.'}}\n",
      "{'subject': {'type': 'uri', 'value': 'http://rdf.disgenet.org/resource/gda/DGN05cd0b1d14b5126713ad8164b0e1998b'}, 'source': {'type': 'uri', 'value': 'http://rdf.disgenet.org/v7.0.0/void/BEFREE'}, 'score': {'type': 'uri', 'value': 'http://rdf.disgenet.org/resource/gda/ncbigene:1029_umls:C0596263_association_DisGeNETScore'}, 'date': {'type': 'typed-literal', 'datatype': 'http://www.w3.org/2001/XMLSchema#gYear', 'value': '2001'}, 'description': {'type': 'literal', 'xml:lang': 'en', 'value': '[We found low levels of mutation (6.7% of malignant tumours) and no evidence of methylation in any of our samples, suggesting that neither mutation or hypermethylation of the CpG islands of the p16 gene play an important role in ovarian carcinogenesis.]. Sentence from MEDLINE/PubMed, a database of the U.S. National Library of Medicine.'}}\n",
      "{'subject': {'type': 'uri', 'value': 'http://rdf.disgenet.org/resource/gda/DGN05f5fdcd1f5377f77b40600ccb13ea2a'}, 'source': {'type': 'uri', 'value': 'http://rdf.disgenet.org/v7.0.0/void/BEFREE'}, 'score': {'type': 'uri', 'value': 'http://rdf.disgenet.org/resource/gda/ncbigene:11186_umls:C4048328_association_DisGeNETScore'}, 'date': {'type': 'typed-literal', 'datatype': 'http://www.w3.org/2001/XMLSchema#gYear', 'value': '2017'}, 'description': {'type': 'literal', 'xml:lang': 'en', 'value': '[Both human papillomavirus (HPV) infection and the aberrant Ras associated domain family gene 1A (RASSF1A) promoter methylation status participate in the pathogenesis of cervical cancer.]. Sentence from MEDLINE/PubMed, a database of the U.S. National Library of Medicine.'}}\n"
     ]
    }
   ],
   "source": [
    "#query properties of gda\n",
    "sparql.setQuery(\"\"\"\n",
    "SELECT DISTINCT *\n",
    "FROM <http://rdf.disgenet.org>\n",
    "WHERE{\n",
    "?subject rdf:type sio:SIO_000983 ;\n",
    " sio:SIO_000253 ?source ;\n",
    " sio:SIO_000216 ?score ;\n",
    " dcterms:date ?date ;\n",
    " dcterms:description ?description .\n",
    "}\n",
    "LIMIT 20\n",
    "\"\"\"\n",
    ")\n",
    "\n",
    "try:\n",
    "    ret = sparql.queryAndConvert()\n",
    "    for r in ret[\"results\"][\"bindings\"]:\n",
    "        print(r)\n",
    "except Exception as e:\n",
    "    print(e)"
   ]
  },
  {
   "cell_type": "code",
   "execution_count": 37,
   "id": "034382a8",
   "metadata": {},
   "outputs": [
    {
     "name": "stdout",
     "output_type": "stream",
     "text": [
      "{'subject': {'type': 'uri', 'value': 'http://identifiers.org/ncbigene/8349'}, 'protein': {'type': 'uri', 'value': 'http://purl.uniprot.org/uniprot/Q16778'}, 'label': {'type': 'literal', 'xml:lang': 'en', 'value': 'H2B clustered histone 21 [ncbigene:8349]'}, 'comment': {'type': 'literal', 'xml:lang': 'en', 'value': 'Gene [ncbigene:8349] associated with at least one disease in DisGeNET. Genes are identified by the NCBI Entrez Gene ID from the NCBI Gene Database, a database of the U.S. National Library of Medicine.'}, 'id': {'type': 'typed-literal', 'datatype': 'http://www.w3.org/2001/XMLSchema#string', 'value': 'ncbigene:8349'}, 'title': {'type': 'literal', 'xml:lang': 'en', 'value': 'H2B clustered histone 21'}, 'rdfSource': {'type': 'uri', 'value': 'http://rdf.disgenet.org/v7.0.0/void/gene'}}\n",
      "{'subject': {'type': 'uri', 'value': 'http://identifiers.org/ncbigene/128312'}, 'protein': {'type': 'uri', 'value': 'http://purl.uniprot.org/uniprot/Q8N257'}, 'label': {'type': 'literal', 'xml:lang': 'en', 'value': 'H2B.U histone 1 [ncbigene:128312]'}, 'comment': {'type': 'literal', 'xml:lang': 'en', 'value': 'Gene [ncbigene:128312] associated with at least one disease in DisGeNET. Genes are identified by the NCBI Entrez Gene ID from the NCBI Gene Database, a database of the U.S. National Library of Medicine.'}, 'id': {'type': 'typed-literal', 'datatype': 'http://www.w3.org/2001/XMLSchema#string', 'value': 'ncbigene:128312'}, 'title': {'type': 'literal', 'xml:lang': 'en', 'value': 'H2B.U histone 1'}, 'rdfSource': {'type': 'uri', 'value': 'http://rdf.disgenet.org/v7.0.0/void/gene'}}\n",
      "{'subject': {'type': 'uri', 'value': 'http://identifiers.org/ncbigene/3017'}, 'protein': {'type': 'uri', 'value': 'http://purl.uniprot.org/uniprot/P58876'}, 'label': {'type': 'literal', 'xml:lang': 'en', 'value': 'H2B clustered histone 5 [ncbigene:3017]'}, 'comment': {'type': 'literal', 'xml:lang': 'en', 'value': 'Gene [ncbigene:3017] associated with at least one disease in DisGeNET. Genes are identified by the NCBI Entrez Gene ID from the NCBI Gene Database, a database of the U.S. National Library of Medicine.'}, 'id': {'type': 'typed-literal', 'datatype': 'http://www.w3.org/2001/XMLSchema#string', 'value': 'ncbigene:3017'}, 'title': {'type': 'literal', 'xml:lang': 'en', 'value': 'H2B clustered histone 5'}, 'rdfSource': {'type': 'uri', 'value': 'http://rdf.disgenet.org/v7.0.0/void/gene'}}\n",
      "{'subject': {'type': 'uri', 'value': 'http://identifiers.org/ncbigene/3017'}, 'protein': {'type': 'uri', 'value': 'http://purl.uniprot.org/uniprot/P62807'}, 'label': {'type': 'literal', 'xml:lang': 'en', 'value': 'H2B clustered histone 5 [ncbigene:3017]'}, 'comment': {'type': 'literal', 'xml:lang': 'en', 'value': 'Gene [ncbigene:3017] associated with at least one disease in DisGeNET. Genes are identified by the NCBI Entrez Gene ID from the NCBI Gene Database, a database of the U.S. National Library of Medicine.'}, 'id': {'type': 'typed-literal', 'datatype': 'http://www.w3.org/2001/XMLSchema#string', 'value': 'ncbigene:3017'}, 'title': {'type': 'literal', 'xml:lang': 'en', 'value': 'H2B clustered histone 5'}, 'rdfSource': {'type': 'uri', 'value': 'http://rdf.disgenet.org/v7.0.0/void/gene'}}\n",
      "{'subject': {'type': 'uri', 'value': 'http://identifiers.org/ncbigene/8343'}, 'protein': {'type': 'uri', 'value': 'http://purl.uniprot.org/uniprot/P58876'}, 'label': {'type': 'literal', 'xml:lang': 'en', 'value': 'H2B clustered histone 7 [ncbigene:8343]'}, 'comment': {'type': 'literal', 'xml:lang': 'en', 'value': 'Gene [ncbigene:8343] associated with at least one disease in DisGeNET. Genes are identified by the NCBI Entrez Gene ID from the NCBI Gene Database, a database of the U.S. National Library of Medicine.'}, 'id': {'type': 'typed-literal', 'datatype': 'http://www.w3.org/2001/XMLSchema#string', 'value': 'ncbigene:8343'}, 'title': {'type': 'literal', 'xml:lang': 'en', 'value': 'H2B clustered histone 7'}, 'rdfSource': {'type': 'uri', 'value': 'http://rdf.disgenet.org/v7.0.0/void/gene'}}\n",
      "{'subject': {'type': 'uri', 'value': 'http://identifiers.org/ncbigene/8343'}, 'protein': {'type': 'uri', 'value': 'http://purl.uniprot.org/uniprot/P62807'}, 'label': {'type': 'literal', 'xml:lang': 'en', 'value': 'H2B clustered histone 7 [ncbigene:8343]'}, 'comment': {'type': 'literal', 'xml:lang': 'en', 'value': 'Gene [ncbigene:8343] associated with at least one disease in DisGeNET. Genes are identified by the NCBI Entrez Gene ID from the NCBI Gene Database, a database of the U.S. National Library of Medicine.'}, 'id': {'type': 'typed-literal', 'datatype': 'http://www.w3.org/2001/XMLSchema#string', 'value': 'ncbigene:8343'}, 'title': {'type': 'literal', 'xml:lang': 'en', 'value': 'H2B clustered histone 7'}, 'rdfSource': {'type': 'uri', 'value': 'http://rdf.disgenet.org/v7.0.0/void/gene'}}\n",
      "{'subject': {'type': 'uri', 'value': 'http://identifiers.org/ncbigene/11085'}, 'protein': {'type': 'uri', 'value': 'http://purl.uniprot.org/uniprot/Q9UKF2'}, 'label': {'type': 'literal', 'xml:lang': 'en', 'value': 'ADAM metallopeptidase domain 30 [ncbigene:11085]'}, 'comment': {'type': 'literal', 'xml:lang': 'en', 'value': 'Gene [ncbigene:11085] associated with at least one disease in DisGeNET. Genes are identified by the NCBI Entrez Gene ID from the NCBI Gene Database, a database of the U.S. National Library of Medicine.'}, 'id': {'type': 'typed-literal', 'datatype': 'http://www.w3.org/2001/XMLSchema#string', 'value': 'ncbigene:11085'}, 'title': {'type': 'literal', 'xml:lang': 'en', 'value': 'ADAM metallopeptidase domain 30'}, 'rdfSource': {'type': 'uri', 'value': 'http://rdf.disgenet.org/v7.0.0/void/gene'}}\n",
      "{'subject': {'type': 'uri', 'value': 'http://identifiers.org/ncbigene/8348'}, 'protein': {'type': 'uri', 'value': 'http://purl.uniprot.org/uniprot/P23527'}, 'label': {'type': 'literal', 'xml:lang': 'en', 'value': 'H2B clustered histone 17 [ncbigene:8348]'}, 'comment': {'type': 'literal', 'xml:lang': 'en', 'value': 'Gene [ncbigene:8348] associated with at least one disease in DisGeNET. Genes are identified by the NCBI Entrez Gene ID from the NCBI Gene Database, a database of the U.S. National Library of Medicine.'}, 'id': {'type': 'typed-literal', 'datatype': 'http://www.w3.org/2001/XMLSchema#string', 'value': 'ncbigene:8348'}, 'title': {'type': 'literal', 'xml:lang': 'en', 'value': 'H2B clustered histone 17'}, 'rdfSource': {'type': 'uri', 'value': 'http://rdf.disgenet.org/v7.0.0/void/gene'}}\n",
      "{'subject': {'type': 'uri', 'value': 'http://identifiers.org/ncbigene/3013'}, 'protein': {'type': 'uri', 'value': 'http://purl.uniprot.org/uniprot/P20671'}, 'label': {'type': 'literal', 'xml:lang': 'en', 'value': 'H2A clustered histone 7 [ncbigene:3013]'}, 'comment': {'type': 'literal', 'xml:lang': 'en', 'value': 'Gene [ncbigene:3013] associated with at least one disease in DisGeNET. Genes are identified by the NCBI Entrez Gene ID from the NCBI Gene Database, a database of the U.S. National Library of Medicine.'}, 'id': {'type': 'typed-literal', 'datatype': 'http://www.w3.org/2001/XMLSchema#string', 'value': 'ncbigene:3013'}, 'title': {'type': 'literal', 'xml:lang': 'en', 'value': 'H2A clustered histone 7'}, 'rdfSource': {'type': 'uri', 'value': 'http://rdf.disgenet.org/v7.0.0/void/gene'}}\n",
      "{'subject': {'type': 'uri', 'value': 'http://identifiers.org/ncbigene/255626'}, 'protein': {'type': 'uri', 'value': 'http://purl.uniprot.org/uniprot/Q96A08'}, 'label': {'type': 'literal', 'xml:lang': 'en', 'value': 'H2B clustered histone 1 [ncbigene:255626]'}, 'comment': {'type': 'literal', 'xml:lang': 'en', 'value': 'Gene [ncbigene:255626] associated with at least one disease in DisGeNET. Genes are identified by the NCBI Entrez Gene ID from the NCBI Gene Database, a database of the U.S. National Library of Medicine.'}, 'id': {'type': 'typed-literal', 'datatype': 'http://www.w3.org/2001/XMLSchema#string', 'value': 'ncbigene:255626'}, 'title': {'type': 'literal', 'xml:lang': 'en', 'value': 'H2B clustered histone 1'}, 'rdfSource': {'type': 'uri', 'value': 'http://rdf.disgenet.org/v7.0.0/void/gene'}}\n",
      "{'subject': {'type': 'uri', 'value': 'http://identifiers.org/ncbigene/8334'}, 'protein': {'type': 'uri', 'value': 'http://purl.uniprot.org/uniprot/Q93077'}, 'label': {'type': 'literal', 'xml:lang': 'en', 'value': 'H2A clustered histone 6 [ncbigene:8334]'}, 'comment': {'type': 'literal', 'xml:lang': 'en', 'value': 'Gene [ncbigene:8334] associated with at least one disease in DisGeNET. Genes are identified by the NCBI Entrez Gene ID from the NCBI Gene Database, a database of the U.S. National Library of Medicine.'}, 'id': {'type': 'typed-literal', 'datatype': 'http://www.w3.org/2001/XMLSchema#string', 'value': 'ncbigene:8334'}, 'title': {'type': 'literal', 'xml:lang': 'en', 'value': 'H2A clustered histone 6'}, 'rdfSource': {'type': 'uri', 'value': 'http://rdf.disgenet.org/v7.0.0/void/gene'}}\n",
      "{'subject': {'type': 'uri', 'value': 'http://identifiers.org/ncbigene/100137049'}, 'protein': {'type': 'uri', 'value': 'http://purl.uniprot.org/uniprot/P0C869'}, 'label': {'type': 'literal', 'xml:lang': 'en', 'value': 'phospholipase A2 group IVB [ncbigene:100137049]'}, 'comment': {'type': 'literal', 'xml:lang': 'en', 'value': 'Gene [ncbigene:100137049] associated with at least one disease in DisGeNET. Genes are identified by the NCBI Entrez Gene ID from the NCBI Gene Database, a database of the U.S. National Library of Medicine.'}, 'id': {'type': 'typed-literal', 'datatype': 'http://www.w3.org/2001/XMLSchema#string', 'value': 'ncbigene:100137049'}, 'title': {'type': 'literal', 'xml:lang': 'en', 'value': 'phospholipase A2 group IVB'}, 'rdfSource': {'type': 'uri', 'value': 'http://rdf.disgenet.org/v7.0.0/void/gene'}}\n",
      "{'subject': {'type': 'uri', 'value': 'http://identifiers.org/ncbigene/100287171'}, 'protein': {'type': 'uri', 'value': 'http://purl.uniprot.org/uniprot/A8K0Z3'}, 'label': {'type': 'literal', 'xml:lang': 'en', 'value': 'WASH complex subunit 1 [ncbigene:100287171]'}, 'comment': {'type': 'literal', 'xml:lang': 'en', 'value': 'Gene [ncbigene:100287171] associated with at least one disease in DisGeNET. Genes are identified by the NCBI Entrez Gene ID from the NCBI Gene Database, a database of the U.S. National Library of Medicine.'}, 'id': {'type': 'typed-literal', 'datatype': 'http://www.w3.org/2001/XMLSchema#string', 'value': 'ncbigene:100287171'}, 'title': {'type': 'literal', 'xml:lang': 'en', 'value': 'WASH complex subunit 1'}, 'rdfSource': {'type': 'uri', 'value': 'http://rdf.disgenet.org/v7.0.0/void/gene'}}\n",
      "{'subject': {'type': 'uri', 'value': 'http://identifiers.org/ncbigene/100381270'}, 'protein': {'type': 'uri', 'value': 'http://purl.uniprot.org/uniprot/P86452'}, 'label': {'type': 'literal', 'xml:lang': 'en', 'value': 'zinc finger BED-type containing 6 [ncbigene:100381270]'}, 'comment': {'type': 'literal', 'xml:lang': 'en', 'value': 'Gene [ncbigene:100381270] associated with at least one disease in DisGeNET. Genes are identified by the NCBI Entrez Gene ID from the NCBI Gene Database, a database of the U.S. National Library of Medicine.'}, 'id': {'type': 'typed-literal', 'datatype': 'http://www.w3.org/2001/XMLSchema#string', 'value': 'ncbigene:100381270'}, 'title': {'type': 'literal', 'xml:lang': 'en', 'value': 'zinc finger BED-type containing 6'}, 'rdfSource': {'type': 'uri', 'value': 'http://rdf.disgenet.org/v7.0.0/void/gene'}}\n",
      "{'subject': {'type': 'uri', 'value': 'http://identifiers.org/ncbigene/10266'}, 'protein': {'type': 'uri', 'value': 'http://purl.uniprot.org/uniprot/O60895'}, 'label': {'type': 'literal', 'xml:lang': 'en', 'value': 'receptor activity modifying protein 2 [ncbigene:10266]'}, 'comment': {'type': 'literal', 'xml:lang': 'en', 'value': 'Gene [ncbigene:10266] associated with at least one disease in DisGeNET. Genes are identified by the NCBI Entrez Gene ID from the NCBI Gene Database, a database of the U.S. National Library of Medicine.'}, 'id': {'type': 'typed-literal', 'datatype': 'http://www.w3.org/2001/XMLSchema#string', 'value': 'ncbigene:10266'}, 'title': {'type': 'literal', 'xml:lang': 'en', 'value': 'receptor activity modifying protein 2'}, 'rdfSource': {'type': 'uri', 'value': 'http://rdf.disgenet.org/v7.0.0/void/gene'}}\n",
      "{'subject': {'type': 'uri', 'value': 'http://identifiers.org/ncbigene/10281'}, 'protein': {'type': 'uri', 'value': 'http://purl.uniprot.org/uniprot/P56555'}, 'label': {'type': 'literal', 'xml:lang': 'en', 'value': 'Down syndrome critical region 4 [ncbigene:10281]'}, 'comment': {'type': 'literal', 'xml:lang': 'en', 'value': 'Gene [ncbigene:10281] associated with at least one disease in DisGeNET. Genes are identified by the NCBI Entrez Gene ID from the NCBI Gene Database, a database of the U.S. National Library of Medicine.'}, 'id': {'type': 'typed-literal', 'datatype': 'http://www.w3.org/2001/XMLSchema#string', 'value': 'ncbigene:10281'}, 'title': {'type': 'literal', 'xml:lang': 'en', 'value': 'Down syndrome critical region 4'}, 'rdfSource': {'type': 'uri', 'value': 'http://rdf.disgenet.org/v7.0.0/void/gene'}}\n",
      "{'subject': {'type': 'uri', 'value': 'http://identifiers.org/ncbigene/10420'}, 'protein': {'type': 'uri', 'value': 'http://purl.uniprot.org/uniprot/Q96S53'}, 'label': {'type': 'literal', 'xml:lang': 'en', 'value': 'testis associated actin remodelling kinase 2 [ncbigene:10420]'}, 'comment': {'type': 'literal', 'xml:lang': 'en', 'value': 'Gene [ncbigene:10420] associated with at least one disease in DisGeNET. Genes are identified by the NCBI Entrez Gene ID from the NCBI Gene Database, a database of the U.S. National Library of Medicine.'}, 'id': {'type': 'typed-literal', 'datatype': 'http://www.w3.org/2001/XMLSchema#string', 'value': 'ncbigene:10420'}, 'title': {'type': 'literal', 'xml:lang': 'en', 'value': 'testis associated actin remodelling kinase 2'}, 'rdfSource': {'type': 'uri', 'value': 'http://rdf.disgenet.org/v7.0.0/void/gene'}}\n",
      "{'subject': {'type': 'uri', 'value': 'http://identifiers.org/ncbigene/1044'}, 'protein': {'type': 'uri', 'value': 'http://purl.uniprot.org/uniprot/P47902'}, 'label': {'type': 'literal', 'xml:lang': 'en', 'value': 'caudal type homeobox 1 [ncbigene:1044]'}, 'comment': {'type': 'literal', 'xml:lang': 'en', 'value': 'Gene [ncbigene:1044] associated with at least one disease in DisGeNET. Genes are identified by the NCBI Entrez Gene ID from the NCBI Gene Database, a database of the U.S. National Library of Medicine.'}, 'id': {'type': 'typed-literal', 'datatype': 'http://www.w3.org/2001/XMLSchema#string', 'value': 'ncbigene:1044'}, 'title': {'type': 'literal', 'xml:lang': 'en', 'value': 'caudal type homeobox 1'}, 'rdfSource': {'type': 'uri', 'value': 'http://rdf.disgenet.org/v7.0.0/void/gene'}}\n",
      "{'subject': {'type': 'uri', 'value': 'http://identifiers.org/ncbigene/10509'}, 'protein': {'type': 'uri', 'value': 'http://purl.uniprot.org/uniprot/Q9NPR2'}, 'label': {'type': 'literal', 'xml:lang': 'en', 'value': 'semaphorin 4B [ncbigene:10509]'}, 'comment': {'type': 'literal', 'xml:lang': 'en', 'value': 'Gene [ncbigene:10509] associated with at least one disease in DisGeNET. Genes are identified by the NCBI Entrez Gene ID from the NCBI Gene Database, a database of the U.S. National Library of Medicine.'}, 'id': {'type': 'typed-literal', 'datatype': 'http://www.w3.org/2001/XMLSchema#string', 'value': 'ncbigene:10509'}, 'title': {'type': 'literal', 'xml:lang': 'en', 'value': 'semaphorin 4B'}, 'rdfSource': {'type': 'uri', 'value': 'http://rdf.disgenet.org/v7.0.0/void/gene'}}\n",
      "{'subject': {'type': 'uri', 'value': 'http://identifiers.org/ncbigene/10568'}, 'protein': {'type': 'uri', 'value': 'http://purl.uniprot.org/uniprot/O95436'}, 'label': {'type': 'literal', 'xml:lang': 'en', 'value': 'solute carrier family 34 member 2 [ncbigene:10568]'}, 'comment': {'type': 'literal', 'xml:lang': 'en', 'value': 'Gene [ncbigene:10568] associated with at least one disease in DisGeNET. Genes are identified by the NCBI Entrez Gene ID from the NCBI Gene Database, a database of the U.S. National Library of Medicine.'}, 'id': {'type': 'typed-literal', 'datatype': 'http://www.w3.org/2001/XMLSchema#string', 'value': 'ncbigene:10568'}, 'title': {'type': 'literal', 'xml:lang': 'en', 'value': 'solute carrier family 34 member 2'}, 'rdfSource': {'type': 'uri', 'value': 'http://rdf.disgenet.org/v7.0.0/void/gene'}}\n"
     ]
    }
   ],
   "source": [
    "#query properties of gene\n",
    "sparql.setQuery(\"\"\"\n",
    "SELECT DISTINCT *\n",
    "FROM <http://rdf.disgenet.org>\n",
    "WHERE{\n",
    "?subject rdf:type ncit:C16612 ;\n",
    " sio:SIO_010078 ?protein ;\n",
    " rdfs:label ?label ;\n",
    " rdfs:comment ?comment ;\n",
    " dcterms:identifier ?id ;\n",
    " dcterms:title ?title ;\n",
    " void:inDataset ?rdfSource .\n",
    "}\n",
    "LIMIT 20\n",
    "\"\"\"\n",
    ")\n",
    "\n",
    "try:\n",
    "    ret = sparql.queryAndConvert()\n",
    "    for r in ret[\"results\"][\"bindings\"]:\n",
    "        print(r)\n",
    "except Exception as e:\n",
    "    print(e)"
   ]
  },
  {
   "cell_type": "code",
   "execution_count": 40,
   "id": "7f1fd2aa",
   "metadata": {},
   "outputs": [
    {
     "name": "stdout",
     "output_type": "stream",
     "text": [
      "{'subject': {'type': 'uri', 'value': 'http://identifiers.org/ncbigene/80028'}, 'protein': {'type': 'uri', 'value': 'http://purl.uniprot.org/uniprot/Q96ME1'}, 'symbol': {'type': 'uri', 'value': 'http://identifiers.org/hgnc.symbol/FBXL18'}, 'label': {'type': 'literal', 'xml:lang': 'en', 'value': 'F-box and leucine rich repeat protein 18 [ncbigene:80028]'}, 'mapping': {'type': 'uri', 'value': 'http://linkedlifedata.com/resource/uniprot-protein/Q96ME1'}, 'hgnc': {'type': 'uri', 'value': 'http://bio2rdf.org/hgnc.symbol:FBXL18'}}\n",
      "{'subject': {'type': 'uri', 'value': 'http://identifiers.org/ncbigene/80727'}, 'protein': {'type': 'uri', 'value': 'http://purl.uniprot.org/uniprot/Q9C0H2'}, 'symbol': {'type': 'uri', 'value': 'http://identifiers.org/hgnc.symbol/TTYH3'}, 'label': {'type': 'literal', 'xml:lang': 'en', 'value': 'tweety family member 3 [ncbigene:80727]'}, 'mapping': {'type': 'uri', 'value': 'http://linkedlifedata.com/resource/uniprot-protein/Q9C0H2'}, 'hgnc': {'type': 'uri', 'value': 'http://bio2rdf.org/hgnc.symbol:TTYH3'}}\n",
      "{'subject': {'type': 'uri', 'value': 'http://identifiers.org/ncbigene/81554'}, 'protein': {'type': 'uri', 'value': 'http://purl.uniprot.org/uniprot/Q96I51'}, 'symbol': {'type': 'uri', 'value': 'http://identifiers.org/hgnc.symbol/RCC1L'}, 'label': {'type': 'literal', 'xml:lang': 'en', 'value': 'RCC1 like [ncbigene:81554]'}, 'mapping': {'type': 'uri', 'value': 'http://linkedlifedata.com/resource/uniprot-protein/Q96I51'}, 'hgnc': {'type': 'uri', 'value': 'http://bio2rdf.org/hgnc.symbol:RCC1L'}}\n",
      "{'subject': {'type': 'uri', 'value': 'http://identifiers.org/ncbigene/83451'}, 'protein': {'type': 'uri', 'value': 'http://purl.uniprot.org/uniprot/Q8NFV4'}, 'symbol': {'type': 'uri', 'value': 'http://identifiers.org/hgnc.symbol/ABHD11'}, 'label': {'type': 'literal', 'xml:lang': 'en', 'value': 'abhydrolase domain containing 11 [ncbigene:83451]'}, 'mapping': {'type': 'uri', 'value': 'http://linkedlifedata.com/resource/uniprot-protein/Q8NFV4'}, 'hgnc': {'type': 'uri', 'value': 'http://bio2rdf.org/hgnc.symbol:ABHD11'}}\n",
      "{'subject': {'type': 'uri', 'value': 'http://identifiers.org/ncbigene/84629'}, 'protein': {'type': 'uri', 'value': 'http://purl.uniprot.org/uniprot/O15417'}, 'symbol': {'type': 'uri', 'value': 'http://identifiers.org/hgnc.symbol/TNRC18'}, 'label': {'type': 'literal', 'xml:lang': 'en', 'value': 'trinucleotide repeat containing 18 [ncbigene:84629]'}, 'mapping': {'type': 'uri', 'value': 'http://linkedlifedata.com/resource/uniprot-protein/O15417'}, 'hgnc': {'type': 'uri', 'value': 'http://bio2rdf.org/hgnc.symbol:TNRC18'}}\n",
      "{'subject': {'type': 'uri', 'value': 'http://identifiers.org/ncbigene/93979'}, 'protein': {'type': 'uri', 'value': 'http://purl.uniprot.org/uniprot/Q8WXQ8'}, 'symbol': {'type': 'uri', 'value': 'http://identifiers.org/hgnc.symbol/CPA5'}, 'label': {'type': 'literal', 'xml:lang': 'en', 'value': 'carboxypeptidase A5 [ncbigene:93979]'}, 'mapping': {'type': 'uri', 'value': 'http://linkedlifedata.com/resource/uniprot-protein/Q8WXQ8'}, 'hgnc': {'type': 'uri', 'value': 'http://bio2rdf.org/hgnc.symbol:CPA5'}}\n",
      "{'subject': {'type': 'uri', 'value': 'http://identifiers.org/ncbigene/136242'}, 'protein': {'type': 'uri', 'value': 'http://purl.uniprot.org/uniprot/A4D1T9'}, 'symbol': {'type': 'uri', 'value': 'http://identifiers.org/hgnc.symbol/PRSS37'}, 'label': {'type': 'literal', 'xml:lang': 'en', 'value': 'serine protease 37 [ncbigene:136242]'}, 'mapping': {'type': 'uri', 'value': 'http://linkedlifedata.com/resource/uniprot-protein/A4D1T9'}, 'hgnc': {'type': 'uri', 'value': 'http://bio2rdf.org/hgnc.symbol:PRSS37'}}\n",
      "{'subject': {'type': 'uri', 'value': 'http://identifiers.org/ncbigene/136895'}, 'protein': {'type': 'uri', 'value': 'http://purl.uniprot.org/uniprot/Q8N865'}, 'symbol': {'type': 'uri', 'value': 'http://identifiers.org/hgnc.symbol/C7orf31'}, 'label': {'type': 'literal', 'xml:lang': 'en', 'value': 'chromosome 7 open reading frame 31 [ncbigene:136895]'}, 'mapping': {'type': 'uri', 'value': 'http://linkedlifedata.com/resource/uniprot-protein/Q8N865'}, 'hgnc': {'type': 'uri', 'value': 'http://bio2rdf.org/hgnc.symbol:C7orf31'}}\n",
      "{'subject': {'type': 'uri', 'value': 'http://identifiers.org/ncbigene/155061'}, 'protein': {'type': 'uri', 'value': 'http://purl.uniprot.org/uniprot/Q6NUN9'}, 'symbol': {'type': 'uri', 'value': 'http://identifiers.org/hgnc.symbol/ZNF746'}, 'label': {'type': 'literal', 'xml:lang': 'en', 'value': 'zinc finger protein 746 [ncbigene:155061]'}, 'mapping': {'type': 'uri', 'value': 'http://linkedlifedata.com/resource/uniprot-protein/Q6NUN9'}, 'hgnc': {'type': 'uri', 'value': 'http://bio2rdf.org/hgnc.symbol:ZNF746'}}\n",
      "{'subject': {'type': 'uri', 'value': 'http://identifiers.org/ncbigene/168455'}, 'protein': {'type': 'uri', 'value': 'http://purl.uniprot.org/uniprot/Q8N9Z2'}, 'symbol': {'type': 'uri', 'value': 'http://identifiers.org/hgnc.symbol/CCDC71L'}, 'label': {'type': 'literal', 'xml:lang': 'en', 'value': 'coiled-coil domain containing 71 like [ncbigene:168455]'}, 'mapping': {'type': 'uri', 'value': 'http://linkedlifedata.com/resource/uniprot-protein/Q8N9Z2'}, 'hgnc': {'type': 'uri', 'value': 'http://bio2rdf.org/hgnc.symbol:CCDC71L'}}\n",
      "{'subject': {'type': 'uri', 'value': 'http://identifiers.org/ncbigene/222008'}, 'protein': {'type': 'uri', 'value': 'http://purl.uniprot.org/uniprot/Q8TAG5'}, 'symbol': {'type': 'uri', 'value': 'http://identifiers.org/hgnc.symbol/VSTM2A'}, 'label': {'type': 'literal', 'xml:lang': 'en', 'value': 'V-set and transmembrane domain containing 2A [ncbigene:222008]'}, 'mapping': {'type': 'uri', 'value': 'http://linkedlifedata.com/resource/uniprot-protein/Q8TAG5'}, 'hgnc': {'type': 'uri', 'value': 'http://bio2rdf.org/hgnc.symbol:VSTM2A'}}\n",
      "{'subject': {'type': 'uri', 'value': 'http://identifiers.org/ncbigene/222865'}, 'protein': {'type': 'uri', 'value': 'http://purl.uniprot.org/uniprot/Q8N3G9'}, 'symbol': {'type': 'uri', 'value': 'http://identifiers.org/hgnc.symbol/TMEM130'}, 'label': {'type': 'literal', 'xml:lang': 'en', 'value': 'transmembrane protein 130 [ncbigene:222865]'}, 'mapping': {'type': 'uri', 'value': 'http://linkedlifedata.com/resource/uniprot-protein/Q8N3G9'}, 'hgnc': {'type': 'uri', 'value': 'http://bio2rdf.org/hgnc.symbol:TMEM130'}}\n",
      "{'subject': {'type': 'uri', 'value': 'http://identifiers.org/ncbigene/285888'}, 'protein': {'type': 'uri', 'value': 'http://purl.uniprot.org/uniprot/Q3B7I2'}, 'symbol': {'type': 'uri', 'value': 'http://identifiers.org/hgnc.symbol/CNPY1'}, 'label': {'type': 'literal', 'xml:lang': 'en', 'value': 'canopy FGF signaling regulator 1 [ncbigene:285888]'}, 'mapping': {'type': 'uri', 'value': 'http://linkedlifedata.com/resource/uniprot-protein/Q3B7I2'}, 'hgnc': {'type': 'uri', 'value': 'http://bio2rdf.org/hgnc.symbol:CNPY1'}}\n",
      "{'subject': {'type': 'uri', 'value': 'http://identifiers.org/ncbigene/110599583'}, 'protein': {'type': 'uri', 'value': 'http://purl.uniprot.org/uniprot/P0DPD6'}, 'symbol': {'type': 'uri', 'value': 'http://identifiers.org/hgnc.symbol/EEF1AKMT4-ECE2'}, 'label': {'type': 'literal', 'xml:lang': 'en', 'value': 'EEF1AKMT4-ECE2 readthrough [ncbigene:110599583]'}, 'mapping': {'type': 'uri', 'value': 'http://linkedlifedata.com/resource/uniprot-protein/P0DPD6'}, 'hgnc': {'type': 'uri', 'value': 'http://bio2rdf.org/hgnc.symbol:EEF1AKMT4-ECE2'}}\n",
      "{'subject': {'type': 'uri', 'value': 'http://identifiers.org/ncbigene/110599583'}, 'protein': {'type': 'uri', 'value': 'http://purl.uniprot.org/uniprot/P0DPD8'}, 'symbol': {'type': 'uri', 'value': 'http://identifiers.org/hgnc.symbol/EEF1AKMT4-ECE2'}, 'label': {'type': 'literal', 'xml:lang': 'en', 'value': 'EEF1AKMT4-ECE2 readthrough [ncbigene:110599583]'}, 'mapping': {'type': 'uri', 'value': 'http://linkedlifedata.com/resource/uniprot-protein/P0DPD8'}, 'hgnc': {'type': 'uri', 'value': 'http://bio2rdf.org/hgnc.symbol:EEF1AKMT4-ECE2'}}\n",
      "{'subject': {'type': 'uri', 'value': 'http://identifiers.org/ncbigene/266977'}, 'protein': {'type': 'uri', 'value': 'http://purl.uniprot.org/uniprot/Q5T601'}, 'symbol': {'type': 'uri', 'value': 'http://identifiers.org/hgnc.symbol/ADGRF1'}, 'label': {'type': 'literal', 'xml:lang': 'en', 'value': 'adhesion G protein-coupled receptor F1 [ncbigene:266977]'}, 'mapping': {'type': 'uri', 'value': 'http://linkedlifedata.com/resource/uniprot-protein/Q5T601'}, 'hgnc': {'type': 'uri', 'value': 'http://bio2rdf.org/hgnc.symbol:ADGRF1'}}\n",
      "{'subject': {'type': 'uri', 'value': 'http://identifiers.org/ncbigene/390790'}, 'protein': {'type': 'uri', 'value': 'http://purl.uniprot.org/uniprot/A6NH57'}, 'symbol': {'type': 'uri', 'value': 'http://identifiers.org/hgnc.symbol/ARL5C'}, 'label': {'type': 'literal', 'xml:lang': 'en', 'value': 'ADP ribosylation factor like GTPase 5C [ncbigene:390790]'}, 'mapping': {'type': 'uri', 'value': 'http://linkedlifedata.com/resource/uniprot-protein/A6NH57'}, 'hgnc': {'type': 'uri', 'value': 'http://bio2rdf.org/hgnc.symbol:ARL5C'}}\n",
      "{'subject': {'type': 'uri', 'value': 'http://identifiers.org/ncbigene/9823'}, 'protein': {'type': 'uri', 'value': 'http://purl.uniprot.org/uniprot/Q7L311'}, 'symbol': {'type': 'uri', 'value': 'http://identifiers.org/hgnc.symbol/ARMCX2'}, 'label': {'type': 'literal', 'xml:lang': 'en', 'value': 'armadillo repeat containing X-linked 2 [ncbigene:9823]'}, 'mapping': {'type': 'uri', 'value': 'http://linkedlifedata.com/resource/uniprot-protein/Q7L311'}, 'hgnc': {'type': 'uri', 'value': 'http://bio2rdf.org/hgnc.symbol:ARMCX2'}}\n",
      "{'subject': {'type': 'uri', 'value': 'http://identifiers.org/ncbigene/92714'}, 'protein': {'type': 'uri', 'value': 'http://purl.uniprot.org/uniprot/Q8N5I2'}, 'symbol': {'type': 'uri', 'value': 'http://identifiers.org/hgnc.symbol/ARRDC1'}, 'label': {'type': 'literal', 'xml:lang': 'en', 'value': 'arrestin domain containing 1 [ncbigene:92714]'}, 'mapping': {'type': 'uri', 'value': 'http://linkedlifedata.com/resource/uniprot-protein/Q8N5I2'}, 'hgnc': {'type': 'uri', 'value': 'http://bio2rdf.org/hgnc.symbol:ARRDC1'}}\n",
      "{'subject': {'type': 'uri', 'value': 'http://identifiers.org/ncbigene/121053'}, 'protein': {'type': 'uri', 'value': 'http://purl.uniprot.org/uniprot/Q8N5I9'}, 'symbol': {'type': 'uri', 'value': 'http://identifiers.org/hgnc.symbol/C12orf45'}, 'label': {'type': 'literal', 'xml:lang': 'en', 'value': 'chromosome 12 open reading frame 45 [ncbigene:121053]'}, 'mapping': {'type': 'uri', 'value': 'http://linkedlifedata.com/resource/uniprot-protein/Q8N5I9'}, 'hgnc': {'type': 'uri', 'value': 'http://bio2rdf.org/hgnc.symbol:C12orf45'}}\n"
     ]
    }
   ],
   "source": [
    "#query properties of gene\n",
    "sparql2 = SPARQLWrapper(\"http://rdf.disgenet.org/lodestar/sparql\")\n",
    "sparql2.setReturnFormat(JSON)\n",
    "\n",
    "sparql2.setQuery(\"\"\"\n",
    "PREFIX rdf: <http://www.w3.org/1999/02/22-rdf-syntax-ns#>\n",
    "PREFIX rdfs: <http://www.w3.org/2000/01/rdf-schema#>\n",
    "PREFIX owl: <http://www.w3.org/2002/07/owl#>\n",
    "PREFIX xsd: <http://www.w3.org/2001/XMLSchema#>\n",
    "PREFIX dcterms: <http://purl.org/dc/terms/>\n",
    "PREFIX foaf: <http://xmlns.com/foaf/0.1/>\n",
    "PREFIX skos: <http://www.w3.org/2004/02/skos/core#>\n",
    "PREFIX void: <http://rdfs.org/ns/void#>\n",
    "PREFIX sio: <http://semanticscience.org/resource/>\n",
    "PREFIX so: <http://www.sequenceontology.org/miso/current_svn/term/SO:>\n",
    "PREFIX ncit: <http://ncicb.nci.nih.gov/xml/owl/EVS/Thesaurus.owl#>\n",
    "PREFIX up: <http://purl.uniprot.org/core/>\n",
    "PREFIX dcat: <http://www.w3.org/ns/dcat#>\n",
    "PREFIX dctypes: <http://purl.org/dc/dcmitype/>\n",
    "PREFIX wi: <http://http://purl.org/ontology/wi/core#>\n",
    "PREFIX eco: <http://http://purl.obolibrary.org/obo/eco.owl#>\n",
    "PREFIX prov: <http://http://http://www.w3.org/ns/prov#>\n",
    "PREFIX pav: <http://http://http://purl.org/pav/>\n",
    "PREFIX obo: <http://purl.obolibrary.org/obo/>\n",
    "\n",
    "SELECT DISTINCT *\n",
    "WHERE{\n",
    "?subject rdf:type ncit:C16612 ;\n",
    " sio:SIO_010078 ?protein ;\n",
    " sio:SIO_000205 ?symbol ;\n",
    " rdfs:label ?label .\n",
    "?protein skos:exactMatch ?mapping .\n",
    "filter regex (?mapping, \"uniprot-protein\") .\n",
    "?symbol skos:exactMatch ?hgnc .\n",
    "}\n",
    "LIMIT 20\n",
    "\"\"\"\n",
    ")\n",
    "\n",
    "try:\n",
    "    ret = sparql2.queryAndConvert()\n",
    "    for r in ret[\"results\"][\"bindings\"]:\n",
    "        print(r)\n",
    "except Exception as e:\n",
    "    print(e)"
   ]
  },
  {
   "cell_type": "code",
   "execution_count": null,
   "id": "d57000be",
   "metadata": {},
   "outputs": [],
   "source": []
  }
 ],
 "metadata": {
  "kernelspec": {
   "display_name": "GSP",
   "language": "python",
   "name": "gsp_venv"
  },
  "language_info": {
   "codemirror_mode": {
    "name": "ipython",
    "version": 3
   },
   "file_extension": ".py",
   "mimetype": "text/x-python",
   "name": "python",
   "nbconvert_exporter": "python",
   "pygments_lexer": "ipython3",
   "version": "3.7.16"
  }
 },
 "nbformat": 4,
 "nbformat_minor": 5
}
